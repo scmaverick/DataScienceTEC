{
  "nbformat": 4,
  "nbformat_minor": 0,
  "metadata": {
    "colab": {
      "name": "Intro to R.ipynb",
      "provenance": [],
      "authorship_tag": "ABX9TyOTwBBzZA6KVU5GwmH+1AcT",
      "include_colab_link": true
    },
    "kernelspec": {
      "name": "ir",
      "display_name": "R"
    }
  },
  "cells": [
    {
      "cell_type": "markdown",
      "metadata": {
        "id": "view-in-github",
        "colab_type": "text"
      },
      "source": [
        "<a href=\"https://colab.research.google.com/github/scmaverick/DataScienceTEC/blob/master/Intro_to_R.ipynb\" target=\"_parent\"><img src=\"https://colab.research.google.com/assets/colab-badge.svg\" alt=\"Open In Colab\"/></a>"
      ]
    },
    {
      "cell_type": "markdown",
      "metadata": {
        "id": "S3MLkbHOhl2H",
        "colab_type": "text"
      },
      "source": [
        "# Intro to R\n",
        "## Business Intelligence and Data Mining\n",
        "## Sergio Castillo"
      ]
    },
    {
      "cell_type": "code",
      "metadata": {
        "id": "sr1X6zUFKl3G",
        "colab_type": "code",
        "colab": {
          "base_uri": "https://localhost:8080/",
          "height": 87
        },
        "outputId": "c46622c9-bdde-4d59-e8a9-6c491e944e78"
      },
      "source": [
        "x= 100\n",
        "x\n",
        "#setwd(\"/path/to/cwd\")\n",
        "getwd()\n",
        "library()  #list installed packages\n",
        "search();  #list imported packages\n",
        "data()  #datasets available"
      ],
      "execution_count": 10,
      "outputs": [
        {
          "output_type": "display_data",
          "data": {
            "text/plain": [
              "[1] 100"
            ],
            "text/latex": "100",
            "text/markdown": "100",
            "text/html": [
              "100"
            ]
          },
          "metadata": {
            "tags": []
          }
        },
        {
          "output_type": "display_data",
          "data": {
            "text/plain": [
              "[1] \"/content\""
            ],
            "text/latex": "'/content'",
            "text/markdown": "'/content'",
            "text/html": [
              "'/content'"
            ]
          },
          "metadata": {
            "tags": []
          }
        },
        {
          "output_type": "display_data",
          "data": {
            "text/plain": [
              " [1] \".GlobalEnv\"        \"jupyter:irkernel\"  \"package:stats\"    \n",
              " [4] \"package:graphics\"  \"package:grDevices\" \"package:utils\"    \n",
              " [7] \"package:datasets\"  \"package:methods\"   \"Autoloads\"        \n",
              "[10] \"package:base\"     "
            ],
            "text/latex": "\\begin{enumerate*}\n\\item '.GlobalEnv'\n\\item 'jupyter:irkernel'\n\\item 'package:stats'\n\\item 'package:graphics'\n\\item 'package:grDevices'\n\\item 'package:utils'\n\\item 'package:datasets'\n\\item 'package:methods'\n\\item 'Autoloads'\n\\item 'package:base'\n\\end{enumerate*}\n",
            "text/markdown": "1. '.GlobalEnv'\n2. 'jupyter:irkernel'\n3. 'package:stats'\n4. 'package:graphics'\n5. 'package:grDevices'\n6. 'package:utils'\n7. 'package:datasets'\n8. 'package:methods'\n9. 'Autoloads'\n10. 'package:base'\n\n\n",
            "text/html": [
              "<style>\n",
              ".list-inline {list-style: none; margin:0; padding: 0}\n",
              ".list-inline>li {display: inline-block}\n",
              ".list-inline>li:not(:last-child)::after {content: \"\\00b7\"; padding: 0 .5ex}\n",
              "</style>\n",
              "<ol class=list-inline><li>'.GlobalEnv'</li><li>'jupyter:irkernel'</li><li>'package:stats'</li><li>'package:graphics'</li><li>'package:grDevices'</li><li>'package:utils'</li><li>'package:datasets'</li><li>'package:methods'</li><li>'Autoloads'</li><li>'package:base'</li></ol>\n"
            ]
          },
          "metadata": {
            "tags": []
          }
        }
      ]
    },
    {
      "cell_type": "code",
      "metadata": {
        "id": "FnFZwsJAL6Gm",
        "colab_type": "code",
        "colab": {}
      },
      "source": [
        "data(\"AirPassengers\")\n",
        "library(ggplot2)  #import package"
      ],
      "execution_count": 0,
      "outputs": []
    },
    {
      "cell_type": "code",
      "metadata": {
        "id": "gNTMWyVbME9W",
        "colab_type": "code",
        "colab": {
          "base_uri": "https://localhost:8080/",
          "height": 69
        },
        "outputId": "3b9f85e5-8f79-4f5a-a0ff-188f5bb69c5f"
      },
      "source": [
        "install.packages(\"purrr\", dependencies = TRUE)  #install packages\n",
        "library(purrr)"
      ],
      "execution_count": 14,
      "outputs": [
        {
          "output_type": "stream",
          "text": [
            "Installing package into ‘/usr/local/lib/R/site-library’\n",
            "(as ‘lib’ is unspecified)\n",
            "\n"
          ],
          "name": "stderr"
        }
      ]
    },
    {
      "cell_type": "code",
      "metadata": {
        "id": "jxY7E2A2MaSb",
        "colab_type": "code",
        "colab": {
          "base_uri": "https://localhost:8080/",
          "height": 225
        },
        "outputId": "c64f543f-a181-46b0-852d-4ec3fe35d795"
      },
      "source": [
        "vec = c(1,2,3,4)  #define new vector\n",
        "vec[1]  #vectors always start in 1, unlike the rest of languages\n",
        "vec\n",
        "range = c(30:50)\n",
        "range\n",
        "v2 = c(20, 30, 40, 50)\n",
        "vec + v2\n",
        "v2 - vec\n",
        "v2 / vec\n",
        "v2 %% vec  #residue\n",
        "v2 %/% vec  #int division\n",
        "2**3\n",
        "2 == 4 #equals\n",
        "3 != 5 #not equal\n",
        "vec > v2  #applies the operation value by value comparting both vectors"
      ],
      "execution_count": 50,
      "outputs": [
        {
          "output_type": "display_data",
          "data": {
            "text/plain": [
              "[1] 1"
            ],
            "text/latex": "1",
            "text/markdown": "1",
            "text/html": [
              "1"
            ]
          },
          "metadata": {
            "tags": []
          }
        },
        {
          "output_type": "display_data",
          "data": {
            "text/plain": [
              "[1] 1 2 3 4"
            ],
            "text/latex": "\\begin{enumerate*}\n\\item 1\n\\item 2\n\\item 3\n\\item 4\n\\end{enumerate*}\n",
            "text/markdown": "1. 1\n2. 2\n3. 3\n4. 4\n\n\n",
            "text/html": [
              "<style>\n",
              ".list-inline {list-style: none; margin:0; padding: 0}\n",
              ".list-inline>li {display: inline-block}\n",
              ".list-inline>li:not(:last-child)::after {content: \"\\00b7\"; padding: 0 .5ex}\n",
              "</style>\n",
              "<ol class=list-inline><li>1</li><li>2</li><li>3</li><li>4</li></ol>\n"
            ]
          },
          "metadata": {
            "tags": []
          }
        },
        {
          "output_type": "display_data",
          "data": {
            "text/plain": [
              " [1] 30 31 32 33 34 35 36 37 38 39 40 41 42 43 44 45 46 47 48 49 50"
            ],
            "text/latex": "\\begin{enumerate*}\n\\item 30\n\\item 31\n\\item 32\n\\item 33\n\\item 34\n\\item 35\n\\item 36\n\\item 37\n\\item 38\n\\item 39\n\\item 40\n\\item 41\n\\item 42\n\\item 43\n\\item 44\n\\item 45\n\\item 46\n\\item 47\n\\item 48\n\\item 49\n\\item 50\n\\end{enumerate*}\n",
            "text/markdown": "1. 30\n2. 31\n3. 32\n4. 33\n5. 34\n6. 35\n7. 36\n8. 37\n9. 38\n10. 39\n11. 40\n12. 41\n13. 42\n14. 43\n15. 44\n16. 45\n17. 46\n18. 47\n19. 48\n20. 49\n21. 50\n\n\n",
            "text/html": [
              "<style>\n",
              ".list-inline {list-style: none; margin:0; padding: 0}\n",
              ".list-inline>li {display: inline-block}\n",
              ".list-inline>li:not(:last-child)::after {content: \"\\00b7\"; padding: 0 .5ex}\n",
              "</style>\n",
              "<ol class=list-inline><li>30</li><li>31</li><li>32</li><li>33</li><li>34</li><li>35</li><li>36</li><li>37</li><li>38</li><li>39</li><li>40</li><li>41</li><li>42</li><li>43</li><li>44</li><li>45</li><li>46</li><li>47</li><li>48</li><li>49</li><li>50</li></ol>\n"
            ]
          },
          "metadata": {
            "tags": []
          }
        },
        {
          "output_type": "display_data",
          "data": {
            "text/plain": [
              "[1] 21 32 43 54"
            ],
            "text/latex": "\\begin{enumerate*}\n\\item 21\n\\item 32\n\\item 43\n\\item 54\n\\end{enumerate*}\n",
            "text/markdown": "1. 21\n2. 32\n3. 43\n4. 54\n\n\n",
            "text/html": [
              "<style>\n",
              ".list-inline {list-style: none; margin:0; padding: 0}\n",
              ".list-inline>li {display: inline-block}\n",
              ".list-inline>li:not(:last-child)::after {content: \"\\00b7\"; padding: 0 .5ex}\n",
              "</style>\n",
              "<ol class=list-inline><li>21</li><li>32</li><li>43</li><li>54</li></ol>\n"
            ]
          },
          "metadata": {
            "tags": []
          }
        },
        {
          "output_type": "display_data",
          "data": {
            "text/plain": [
              "[1] 19 28 37 46"
            ],
            "text/latex": "\\begin{enumerate*}\n\\item 19\n\\item 28\n\\item 37\n\\item 46\n\\end{enumerate*}\n",
            "text/markdown": "1. 19\n2. 28\n3. 37\n4. 46\n\n\n",
            "text/html": [
              "<style>\n",
              ".list-inline {list-style: none; margin:0; padding: 0}\n",
              ".list-inline>li {display: inline-block}\n",
              ".list-inline>li:not(:last-child)::after {content: \"\\00b7\"; padding: 0 .5ex}\n",
              "</style>\n",
              "<ol class=list-inline><li>19</li><li>28</li><li>37</li><li>46</li></ol>\n"
            ]
          },
          "metadata": {
            "tags": []
          }
        },
        {
          "output_type": "display_data",
          "data": {
            "text/plain": [
              "[1] 20.00000 15.00000 13.33333 12.50000"
            ],
            "text/latex": "\\begin{enumerate*}\n\\item 20\n\\item 15\n\\item 13.3333333333333\n\\item 12.5\n\\end{enumerate*}\n",
            "text/markdown": "1. 20\n2. 15\n3. 13.3333333333333\n4. 12.5\n\n\n",
            "text/html": [
              "<style>\n",
              ".list-inline {list-style: none; margin:0; padding: 0}\n",
              ".list-inline>li {display: inline-block}\n",
              ".list-inline>li:not(:last-child)::after {content: \"\\00b7\"; padding: 0 .5ex}\n",
              "</style>\n",
              "<ol class=list-inline><li>20</li><li>15</li><li>13.3333333333333</li><li>12.5</li></ol>\n"
            ]
          },
          "metadata": {
            "tags": []
          }
        },
        {
          "output_type": "display_data",
          "data": {
            "text/plain": [
              "[1] 0 0 1 2"
            ],
            "text/latex": "\\begin{enumerate*}\n\\item 0\n\\item 0\n\\item 1\n\\item 2\n\\end{enumerate*}\n",
            "text/markdown": "1. 0\n2. 0\n3. 1\n4. 2\n\n\n",
            "text/html": [
              "<style>\n",
              ".list-inline {list-style: none; margin:0; padding: 0}\n",
              ".list-inline>li {display: inline-block}\n",
              ".list-inline>li:not(:last-child)::after {content: \"\\00b7\"; padding: 0 .5ex}\n",
              "</style>\n",
              "<ol class=list-inline><li>0</li><li>0</li><li>1</li><li>2</li></ol>\n"
            ]
          },
          "metadata": {
            "tags": []
          }
        },
        {
          "output_type": "display_data",
          "data": {
            "text/plain": [
              "[1] 20 15 13 12"
            ],
            "text/latex": "\\begin{enumerate*}\n\\item 20\n\\item 15\n\\item 13\n\\item 12\n\\end{enumerate*}\n",
            "text/markdown": "1. 20\n2. 15\n3. 13\n4. 12\n\n\n",
            "text/html": [
              "<style>\n",
              ".list-inline {list-style: none; margin:0; padding: 0}\n",
              ".list-inline>li {display: inline-block}\n",
              ".list-inline>li:not(:last-child)::after {content: \"\\00b7\"; padding: 0 .5ex}\n",
              "</style>\n",
              "<ol class=list-inline><li>20</li><li>15</li><li>13</li><li>12</li></ol>\n"
            ]
          },
          "metadata": {
            "tags": []
          }
        },
        {
          "output_type": "display_data",
          "data": {
            "text/plain": [
              "[1] 8"
            ],
            "text/latex": "8",
            "text/markdown": "8",
            "text/html": [
              "8"
            ]
          },
          "metadata": {
            "tags": []
          }
        },
        {
          "output_type": "display_data",
          "data": {
            "text/plain": [
              "[1] FALSE"
            ],
            "text/latex": "FALSE",
            "text/markdown": "FALSE",
            "text/html": [
              "FALSE"
            ]
          },
          "metadata": {
            "tags": []
          }
        },
        {
          "output_type": "display_data",
          "data": {
            "text/plain": [
              "[1] TRUE"
            ],
            "text/latex": "TRUE",
            "text/markdown": "TRUE",
            "text/html": [
              "TRUE"
            ]
          },
          "metadata": {
            "tags": []
          }
        },
        {
          "output_type": "display_data",
          "data": {
            "text/plain": [
              "[1] FALSE FALSE FALSE FALSE"
            ],
            "text/latex": "\\begin{enumerate*}\n\\item FALSE\n\\item FALSE\n\\item FALSE\n\\item FALSE\n\\end{enumerate*}\n",
            "text/markdown": "1. FALSE\n2. FALSE\n3. FALSE\n4. FALSE\n\n\n",
            "text/html": [
              "<style>\n",
              ".list-inline {list-style: none; margin:0; padding: 0}\n",
              ".list-inline>li {display: inline-block}\n",
              ".list-inline>li:not(:last-child)::after {content: \"\\00b7\"; padding: 0 .5ex}\n",
              "</style>\n",
              "<ol class=list-inline><li>FALSE</li><li>FALSE</li><li>FALSE</li><li>FALSE</li></ol>\n"
            ]
          },
          "metadata": {
            "tags": []
          }
        }
      ]
    },
    {
      "cell_type": "code",
      "metadata": {
        "id": "nSHLjAS-OnaM",
        "colab_type": "code",
        "colab": {
          "base_uri": "https://localhost:8080/",
          "height": 69
        },
        "outputId": "82e49604-f364-40c5-af34-b49e56d3bf5c"
      },
      "source": [
        "range[3:10]\n",
        "range[c(2, 5, 10, 16, 20)]  #get separate indices\n",
        "range[-3] #return the entire vectore except position 3"
      ],
      "execution_count": 51,
      "outputs": [
        {
          "output_type": "display_data",
          "data": {
            "text/plain": [
              "[1] 32 33 34 35 36 37 38 39"
            ],
            "text/latex": "\\begin{enumerate*}\n\\item 32\n\\item 33\n\\item 34\n\\item 35\n\\item 36\n\\item 37\n\\item 38\n\\item 39\n\\end{enumerate*}\n",
            "text/markdown": "1. 32\n2. 33\n3. 34\n4. 35\n5. 36\n6. 37\n7. 38\n8. 39\n\n\n",
            "text/html": [
              "<style>\n",
              ".list-inline {list-style: none; margin:0; padding: 0}\n",
              ".list-inline>li {display: inline-block}\n",
              ".list-inline>li:not(:last-child)::after {content: \"\\00b7\"; padding: 0 .5ex}\n",
              "</style>\n",
              "<ol class=list-inline><li>32</li><li>33</li><li>34</li><li>35</li><li>36</li><li>37</li><li>38</li><li>39</li></ol>\n"
            ]
          },
          "metadata": {
            "tags": []
          }
        },
        {
          "output_type": "display_data",
          "data": {
            "text/plain": [
              "[1] 31 34 39 45 49"
            ],
            "text/latex": "\\begin{enumerate*}\n\\item 31\n\\item 34\n\\item 39\n\\item 45\n\\item 49\n\\end{enumerate*}\n",
            "text/markdown": "1. 31\n2. 34\n3. 39\n4. 45\n5. 49\n\n\n",
            "text/html": [
              "<style>\n",
              ".list-inline {list-style: none; margin:0; padding: 0}\n",
              ".list-inline>li {display: inline-block}\n",
              ".list-inline>li:not(:last-child)::after {content: \"\\00b7\"; padding: 0 .5ex}\n",
              "</style>\n",
              "<ol class=list-inline><li>31</li><li>34</li><li>39</li><li>45</li><li>49</li></ol>\n"
            ]
          },
          "metadata": {
            "tags": []
          }
        },
        {
          "output_type": "display_data",
          "data": {
            "text/plain": [
              " [1] 30 31 33 34 35 36 37 38 39 40 41 42 43 44 45 46 47 48 49 50"
            ],
            "text/latex": "\\begin{enumerate*}\n\\item 30\n\\item 31\n\\item 33\n\\item 34\n\\item 35\n\\item 36\n\\item 37\n\\item 38\n\\item 39\n\\item 40\n\\item 41\n\\item 42\n\\item 43\n\\item 44\n\\item 45\n\\item 46\n\\item 47\n\\item 48\n\\item 49\n\\item 50\n\\end{enumerate*}\n",
            "text/markdown": "1. 30\n2. 31\n3. 33\n4. 34\n5. 35\n6. 36\n7. 37\n8. 38\n9. 39\n10. 40\n11. 41\n12. 42\n13. 43\n14. 44\n15. 45\n16. 46\n17. 47\n18. 48\n19. 49\n20. 50\n\n\n",
            "text/html": [
              "<style>\n",
              ".list-inline {list-style: none; margin:0; padding: 0}\n",
              ".list-inline>li {display: inline-block}\n",
              ".list-inline>li:not(:last-child)::after {content: \"\\00b7\"; padding: 0 .5ex}\n",
              "</style>\n",
              "<ol class=list-inline><li>30</li><li>31</li><li>33</li><li>34</li><li>35</li><li>36</li><li>37</li><li>38</li><li>39</li><li>40</li><li>41</li><li>42</li><li>43</li><li>44</li><li>45</li><li>46</li><li>47</li><li>48</li><li>49</li><li>50</li></ol>\n"
            ]
          },
          "metadata": {
            "tags": []
          }
        }
      ]
    },
    {
      "cell_type": "code",
      "metadata": {
        "id": "P0RF-MqaPzcm",
        "colab_type": "code",
        "colab": {
          "base_uri": "https://localhost:8080/",
          "height": 87
        },
        "outputId": "4ed8043b-a608-4671-84cf-32254d63ba89"
      },
      "source": [
        "length(range)\n",
        "any(range %% 2 == 0)  #return true if at least 1 value in the vector matches the condition\n",
        "any(range > 50)\n",
        "all(range > 20)  #return true if ALL values match the condition"
      ],
      "execution_count": 52,
      "outputs": [
        {
          "output_type": "display_data",
          "data": {
            "text/plain": [
              "[1] 21"
            ],
            "text/latex": "21",
            "text/markdown": "21",
            "text/html": [
              "21"
            ]
          },
          "metadata": {
            "tags": []
          }
        },
        {
          "output_type": "display_data",
          "data": {
            "text/plain": [
              "[1] TRUE"
            ],
            "text/latex": "TRUE",
            "text/markdown": "TRUE",
            "text/html": [
              "TRUE"
            ]
          },
          "metadata": {
            "tags": []
          }
        },
        {
          "output_type": "display_data",
          "data": {
            "text/plain": [
              "[1] FALSE"
            ],
            "text/latex": "FALSE",
            "text/markdown": "FALSE",
            "text/html": [
              "FALSE"
            ]
          },
          "metadata": {
            "tags": []
          }
        },
        {
          "output_type": "display_data",
          "data": {
            "text/plain": [
              "[1] TRUE"
            ],
            "text/latex": "TRUE",
            "text/markdown": "TRUE",
            "text/html": [
              "TRUE"
            ]
          },
          "metadata": {
            "tags": []
          }
        }
      ]
    },
    {
      "cell_type": "code",
      "metadata": {
        "id": "29OdyrBRQg1b",
        "colab_type": "code",
        "colab": {
          "base_uri": "https://localhost:8080/",
          "height": 104
        },
        "outputId": "277ec516-c900-436f-af32-2b705354e3f2"
      },
      "source": [
        "all(range > 1 & rango <= 50)  #and\n",
        "all(range > 1 | rango <= 50)  #or\n",
        "range[range > 40]\n",
        "subset(range, range > 40)  #a function form of the above\n",
        "which(range > 40)  #returns indices instead of values"
      ],
      "execution_count": 53,
      "outputs": [
        {
          "output_type": "display_data",
          "data": {
            "text/plain": [
              "[1] TRUE"
            ],
            "text/latex": "TRUE",
            "text/markdown": "TRUE",
            "text/html": [
              "TRUE"
            ]
          },
          "metadata": {
            "tags": []
          }
        },
        {
          "output_type": "display_data",
          "data": {
            "text/plain": [
              "[1] TRUE"
            ],
            "text/latex": "TRUE",
            "text/markdown": "TRUE",
            "text/html": [
              "TRUE"
            ]
          },
          "metadata": {
            "tags": []
          }
        },
        {
          "output_type": "display_data",
          "data": {
            "text/plain": [
              " [1] 41 42 43 44 45 46 47 48 49 50"
            ],
            "text/latex": "\\begin{enumerate*}\n\\item 41\n\\item 42\n\\item 43\n\\item 44\n\\item 45\n\\item 46\n\\item 47\n\\item 48\n\\item 49\n\\item 50\n\\end{enumerate*}\n",
            "text/markdown": "1. 41\n2. 42\n3. 43\n4. 44\n5. 45\n6. 46\n7. 47\n8. 48\n9. 49\n10. 50\n\n\n",
            "text/html": [
              "<style>\n",
              ".list-inline {list-style: none; margin:0; padding: 0}\n",
              ".list-inline>li {display: inline-block}\n",
              ".list-inline>li:not(:last-child)::after {content: \"\\00b7\"; padding: 0 .5ex}\n",
              "</style>\n",
              "<ol class=list-inline><li>41</li><li>42</li><li>43</li><li>44</li><li>45</li><li>46</li><li>47</li><li>48</li><li>49</li><li>50</li></ol>\n"
            ]
          },
          "metadata": {
            "tags": []
          }
        },
        {
          "output_type": "display_data",
          "data": {
            "text/plain": [
              " [1] 41 42 43 44 45 46 47 48 49 50"
            ],
            "text/latex": "\\begin{enumerate*}\n\\item 41\n\\item 42\n\\item 43\n\\item 44\n\\item 45\n\\item 46\n\\item 47\n\\item 48\n\\item 49\n\\item 50\n\\end{enumerate*}\n",
            "text/markdown": "1. 41\n2. 42\n3. 43\n4. 44\n5. 45\n6. 46\n7. 47\n8. 48\n9. 49\n10. 50\n\n\n",
            "text/html": [
              "<style>\n",
              ".list-inline {list-style: none; margin:0; padding: 0}\n",
              ".list-inline>li {display: inline-block}\n",
              ".list-inline>li:not(:last-child)::after {content: \"\\00b7\"; padding: 0 .5ex}\n",
              "</style>\n",
              "<ol class=list-inline><li>41</li><li>42</li><li>43</li><li>44</li><li>45</li><li>46</li><li>47</li><li>48</li><li>49</li><li>50</li></ol>\n"
            ]
          },
          "metadata": {
            "tags": []
          }
        },
        {
          "output_type": "display_data",
          "data": {
            "text/plain": [
              " [1] 12 13 14 15 16 17 18 19 20 21"
            ],
            "text/latex": "\\begin{enumerate*}\n\\item 12\n\\item 13\n\\item 14\n\\item 15\n\\item 16\n\\item 17\n\\item 18\n\\item 19\n\\item 20\n\\item 21\n\\end{enumerate*}\n",
            "text/markdown": "1. 12\n2. 13\n3. 14\n4. 15\n5. 16\n6. 17\n7. 18\n8. 19\n9. 20\n10. 21\n\n\n",
            "text/html": [
              "<style>\n",
              ".list-inline {list-style: none; margin:0; padding: 0}\n",
              ".list-inline>li {display: inline-block}\n",
              ".list-inline>li:not(:last-child)::after {content: \"\\00b7\"; padding: 0 .5ex}\n",
              "</style>\n",
              "<ol class=list-inline><li>12</li><li>13</li><li>14</li><li>15</li><li>16</li><li>17</li><li>18</li><li>19</li><li>20</li><li>21</li></ol>\n"
            ]
          },
          "metadata": {
            "tags": []
          }
        }
      ]
    },
    {
      "cell_type": "code",
      "metadata": {
        "id": "X2rFoAWfRWFO",
        "colab_type": "code",
        "colab": {
          "base_uri": "https://localhost:8080/",
          "height": 1000
        },
        "outputId": "1b831212-e443-4d21-e0dd-807040b2fb41"
      },
      "source": [
        "#FIRST upload file to colab using left option for files\n",
        "#do not create factor tables for string values (to limit values only to those already in the file), load regular strings\n",
        "data = read.csv(\"CoffeeChain.csv\", sep=\";\", header = TRUE, stringsAsFactors = FALSE)\n",
        "#View(data)\n",
        "str(data)\n",
        "head(data)\n",
        "tail(data)\n",
        "table(data$Market)  #show a summary of the Market column on the dataframe, usually only for categorical columns\n",
        "attributes(data)$names #show names of columns\n",
        "colnames(data)\n",
        "class(data)  #show the object type\n",
        "class(vec)\n",
        "data[1:5]  #dataframes work just like vectors, get columns by default\n",
        "data[, 1:5]  #get columns\n",
        "data[1:5,]  #all columns but only first 5 rows\n",
        "datat[c(1,2,3), c(4,5,6)] #get rows 1:3 columns 4:6\n",
        "data[1, 5] #first row, fith column\n",
        "data[c(\"Market\", \"State\", \"Iventory\")]  #columns by name\n"
      ],
      "execution_count": 56,
      "outputs": [
        {
          "output_type": "stream",
          "text": [
            "'data.frame':\t4248 obs. of  13 variables:\n",
            " $ Date          : chr  \"12/1/13 00:00\" \"12/1/13 00:00\" \"11/1/13 00:00\" \"10/1/13 00:00\" ...\n",
            " $ Market        : chr  \"South\" \"South\" \"South\" \"South\" ...\n",
            " $ Market.Size   : chr  \"Small Market\" \"Small Market\" \"Small Market\" \"Small Market\" ...\n",
            " $ Product       : chr  \"Colombian\" \"Chamomile\" \"Chamomile\" \"Decaf Irish Cream\" ...\n",
            " $ Product.Line  : chr  \"Beans\" \"Leaves\" \"Leaves\" \"Beans\" ...\n",
            " $ Product.Type  : chr  \"Coffee\" \"Herbal Tea\" \"Herbal Tea\" \"Coffee\" ...\n",
            " $ State         : chr  \"Louisiana\" \"Louisiana\" \"Louisiana\" \"Louisiana\" ...\n",
            " $ Type          : chr  \"Regular\" \"Decaf\" \"Decaf\" \"Decaf\" ...\n",
            " $ Inventory     : int  845 540 552 851 599 864 613 599 351 -113 ...\n",
            " $ Marketing     : int  13 31 33 13 25 17 28 15 14 58 ...\n",
            " $ Profit        : int  68 114 126 67 37 87 43 48 61 4 ...\n",
            " $ Sales         : int  128 228 246 126 160 153 167 110 129 153 ...\n",
            " $ Total.Expenses: int  25 43 45 25 58 26 58 26 35 81 ...\n"
          ],
          "name": "stdout"
        },
        {
          "output_type": "display_data",
          "data": {
            "text/plain": [
              "  Date          Market Market.Size  Product           Product.Line Product.Type\n",
              "1 12/1/13 00:00 South  Small Market Colombian         Beans        Coffee      \n",
              "2 12/1/13 00:00 South  Small Market Chamomile         Leaves       Herbal Tea  \n",
              "3 11/1/13 00:00 South  Small Market Chamomile         Leaves       Herbal Tea  \n",
              "4 10/1/13 00:00 South  Small Market Decaf Irish Cream Beans        Coffee      \n",
              "5 9/1/13 00:00  South  Small Market Lemon             Leaves       Herbal Tea  \n",
              "6 8/1/13 00:00  South  Small Market Decaf Irish Cream Beans        Coffee      \n",
              "  State     Type    Inventory Marketing Profit Sales Total.Expenses\n",
              "1 Louisiana Regular 845       13         68    128   25            \n",
              "2 Louisiana Decaf   540       31        114    228   43            \n",
              "3 Louisiana Decaf   552       33        126    246   45            \n",
              "4 Louisiana Decaf   851       13         67    126   25            \n",
              "5 Louisiana Decaf   599       25         37    160   58            \n",
              "6 Louisiana Decaf   864       17         87    153   26            "
            ],
            "text/latex": "A data.frame: 6 × 13\n\\begin{tabular}{r|lllllllllllll}\n  & Date & Market & Market.Size & Product & Product.Line & Product.Type & State & Type & Inventory & Marketing & Profit & Sales & Total.Expenses\\\\\n  & <chr> & <chr> & <chr> & <chr> & <chr> & <chr> & <chr> & <chr> & <int> & <int> & <int> & <int> & <int>\\\\\n\\hline\n\t1 & 12/1/13 00:00 & South & Small Market & Colombian         & Beans  & Coffee     & Louisiana & Regular & 845 & 13 &  68 & 128 & 25\\\\\n\t2 & 12/1/13 00:00 & South & Small Market & Chamomile         & Leaves & Herbal Tea & Louisiana & Decaf   & 540 & 31 & 114 & 228 & 43\\\\\n\t3 & 11/1/13 00:00 & South & Small Market & Chamomile         & Leaves & Herbal Tea & Louisiana & Decaf   & 552 & 33 & 126 & 246 & 45\\\\\n\t4 & 10/1/13 00:00 & South & Small Market & Decaf Irish Cream & Beans  & Coffee     & Louisiana & Decaf   & 851 & 13 &  67 & 126 & 25\\\\\n\t5 & 9/1/13 00:00  & South & Small Market & Lemon             & Leaves & Herbal Tea & Louisiana & Decaf   & 599 & 25 &  37 & 160 & 58\\\\\n\t6 & 8/1/13 00:00  & South & Small Market & Decaf Irish Cream & Beans  & Coffee     & Louisiana & Decaf   & 864 & 17 &  87 & 153 & 26\\\\\n\\end{tabular}\n",
            "text/markdown": "\nA data.frame: 6 × 13\n\n| <!--/--> | Date &lt;chr&gt; | Market &lt;chr&gt; | Market.Size &lt;chr&gt; | Product &lt;chr&gt; | Product.Line &lt;chr&gt; | Product.Type &lt;chr&gt; | State &lt;chr&gt; | Type &lt;chr&gt; | Inventory &lt;int&gt; | Marketing &lt;int&gt; | Profit &lt;int&gt; | Sales &lt;int&gt; | Total.Expenses &lt;int&gt; |\n|---|---|---|---|---|---|---|---|---|---|---|---|---|---|\n| 1 | 12/1/13 00:00 | South | Small Market | Colombian         | Beans  | Coffee     | Louisiana | Regular | 845 | 13 |  68 | 128 | 25 |\n| 2 | 12/1/13 00:00 | South | Small Market | Chamomile         | Leaves | Herbal Tea | Louisiana | Decaf   | 540 | 31 | 114 | 228 | 43 |\n| 3 | 11/1/13 00:00 | South | Small Market | Chamomile         | Leaves | Herbal Tea | Louisiana | Decaf   | 552 | 33 | 126 | 246 | 45 |\n| 4 | 10/1/13 00:00 | South | Small Market | Decaf Irish Cream | Beans  | Coffee     | Louisiana | Decaf   | 851 | 13 |  67 | 126 | 25 |\n| 5 | 9/1/13 00:00  | South | Small Market | Lemon             | Leaves | Herbal Tea | Louisiana | Decaf   | 599 | 25 |  37 | 160 | 58 |\n| 6 | 8/1/13 00:00  | South | Small Market | Decaf Irish Cream | Beans  | Coffee     | Louisiana | Decaf   | 864 | 17 |  87 | 153 | 26 |\n\n",
            "text/html": [
              "<table>\n",
              "<caption>A data.frame: 6 × 13</caption>\n",
              "<thead>\n",
              "\t<tr><th></th><th scope=col>Date</th><th scope=col>Market</th><th scope=col>Market.Size</th><th scope=col>Product</th><th scope=col>Product.Line</th><th scope=col>Product.Type</th><th scope=col>State</th><th scope=col>Type</th><th scope=col>Inventory</th><th scope=col>Marketing</th><th scope=col>Profit</th><th scope=col>Sales</th><th scope=col>Total.Expenses</th></tr>\n",
              "\t<tr><th></th><th scope=col>&lt;chr&gt;</th><th scope=col>&lt;chr&gt;</th><th scope=col>&lt;chr&gt;</th><th scope=col>&lt;chr&gt;</th><th scope=col>&lt;chr&gt;</th><th scope=col>&lt;chr&gt;</th><th scope=col>&lt;chr&gt;</th><th scope=col>&lt;chr&gt;</th><th scope=col>&lt;int&gt;</th><th scope=col>&lt;int&gt;</th><th scope=col>&lt;int&gt;</th><th scope=col>&lt;int&gt;</th><th scope=col>&lt;int&gt;</th></tr>\n",
              "</thead>\n",
              "<tbody>\n",
              "\t<tr><th scope=row>1</th><td>12/1/13 00:00</td><td>South</td><td>Small Market</td><td>Colombian        </td><td>Beans </td><td>Coffee    </td><td>Louisiana</td><td>Regular</td><td>845</td><td>13</td><td> 68</td><td>128</td><td>25</td></tr>\n",
              "\t<tr><th scope=row>2</th><td>12/1/13 00:00</td><td>South</td><td>Small Market</td><td>Chamomile        </td><td>Leaves</td><td>Herbal Tea</td><td>Louisiana</td><td>Decaf  </td><td>540</td><td>31</td><td>114</td><td>228</td><td>43</td></tr>\n",
              "\t<tr><th scope=row>3</th><td>11/1/13 00:00</td><td>South</td><td>Small Market</td><td>Chamomile        </td><td>Leaves</td><td>Herbal Tea</td><td>Louisiana</td><td>Decaf  </td><td>552</td><td>33</td><td>126</td><td>246</td><td>45</td></tr>\n",
              "\t<tr><th scope=row>4</th><td>10/1/13 00:00</td><td>South</td><td>Small Market</td><td>Decaf Irish Cream</td><td>Beans </td><td>Coffee    </td><td>Louisiana</td><td>Decaf  </td><td>851</td><td>13</td><td> 67</td><td>126</td><td>25</td></tr>\n",
              "\t<tr><th scope=row>5</th><td>9/1/13 00:00 </td><td>South</td><td>Small Market</td><td>Lemon            </td><td>Leaves</td><td>Herbal Tea</td><td>Louisiana</td><td>Decaf  </td><td>599</td><td>25</td><td> 37</td><td>160</td><td>58</td></tr>\n",
              "\t<tr><th scope=row>6</th><td>8/1/13 00:00 </td><td>South</td><td>Small Market</td><td>Decaf Irish Cream</td><td>Beans </td><td>Coffee    </td><td>Louisiana</td><td>Decaf  </td><td>864</td><td>17</td><td> 87</td><td>153</td><td>26</td></tr>\n",
              "</tbody>\n",
              "</table>\n"
            ]
          },
          "metadata": {
            "tags": []
          }
        },
        {
          "output_type": "display_data",
          "data": {
            "text/plain": [
              "     Date         Market Market.Size  Product        Product.Line Product.Type\n",
              "4243 5/1/12 00:00 East   Small Market Decaf Espresso Beans        Espresso    \n",
              "4244 4/1/12 00:00 East   Small Market Darjeeling     Leaves       Tea         \n",
              "4245 4/1/12 00:00 East   Small Market Colombian      Beans        Coffee      \n",
              "4246 3/1/12 00:00 East   Small Market Mint           Leaves       Herbal Tea  \n",
              "4247 3/1/12 00:00 East   Small Market Lemon          Leaves       Herbal Tea  \n",
              "4248 2/1/12 00:00 East   Small Market Decaf Espresso Beans        Espresso    \n",
              "     State       Type    Inventory Marketing Profit Sales Total.Expenses\n",
              "4243 Connecticut Decaf   334       15         22    113   43            \n",
              "4244 Connecticut Regular 821       13         43    115   25            \n",
              "4245 Connecticut Regular 962       38        107    292   69            \n",
              "4246 Connecticut Decaf   949       22         46    163   43            \n",
              "4247 Connecticut Decaf   476       32         39    189   65            \n",
              "4248 Connecticut Decaf   305       18         29    130   46            "
            ],
            "text/latex": "A data.frame: 6 × 13\n\\begin{tabular}{r|lllllllllllll}\n  & Date & Market & Market.Size & Product & Product.Line & Product.Type & State & Type & Inventory & Marketing & Profit & Sales & Total.Expenses\\\\\n  & <chr> & <chr> & <chr> & <chr> & <chr> & <chr> & <chr> & <chr> & <int> & <int> & <int> & <int> & <int>\\\\\n\\hline\n\t4243 & 5/1/12 00:00 & East & Small Market & Decaf Espresso & Beans  & Espresso   & Connecticut & Decaf   & 334 & 15 &  22 & 113 & 43\\\\\n\t4244 & 4/1/12 00:00 & East & Small Market & Darjeeling     & Leaves & Tea        & Connecticut & Regular & 821 & 13 &  43 & 115 & 25\\\\\n\t4245 & 4/1/12 00:00 & East & Small Market & Colombian      & Beans  & Coffee     & Connecticut & Regular & 962 & 38 & 107 & 292 & 69\\\\\n\t4246 & 3/1/12 00:00 & East & Small Market & Mint           & Leaves & Herbal Tea & Connecticut & Decaf   & 949 & 22 &  46 & 163 & 43\\\\\n\t4247 & 3/1/12 00:00 & East & Small Market & Lemon          & Leaves & Herbal Tea & Connecticut & Decaf   & 476 & 32 &  39 & 189 & 65\\\\\n\t4248 & 2/1/12 00:00 & East & Small Market & Decaf Espresso & Beans  & Espresso   & Connecticut & Decaf   & 305 & 18 &  29 & 130 & 46\\\\\n\\end{tabular}\n",
            "text/markdown": "\nA data.frame: 6 × 13\n\n| <!--/--> | Date &lt;chr&gt; | Market &lt;chr&gt; | Market.Size &lt;chr&gt; | Product &lt;chr&gt; | Product.Line &lt;chr&gt; | Product.Type &lt;chr&gt; | State &lt;chr&gt; | Type &lt;chr&gt; | Inventory &lt;int&gt; | Marketing &lt;int&gt; | Profit &lt;int&gt; | Sales &lt;int&gt; | Total.Expenses &lt;int&gt; |\n|---|---|---|---|---|---|---|---|---|---|---|---|---|---|\n| 4243 | 5/1/12 00:00 | East | Small Market | Decaf Espresso | Beans  | Espresso   | Connecticut | Decaf   | 334 | 15 |  22 | 113 | 43 |\n| 4244 | 4/1/12 00:00 | East | Small Market | Darjeeling     | Leaves | Tea        | Connecticut | Regular | 821 | 13 |  43 | 115 | 25 |\n| 4245 | 4/1/12 00:00 | East | Small Market | Colombian      | Beans  | Coffee     | Connecticut | Regular | 962 | 38 | 107 | 292 | 69 |\n| 4246 | 3/1/12 00:00 | East | Small Market | Mint           | Leaves | Herbal Tea | Connecticut | Decaf   | 949 | 22 |  46 | 163 | 43 |\n| 4247 | 3/1/12 00:00 | East | Small Market | Lemon          | Leaves | Herbal Tea | Connecticut | Decaf   | 476 | 32 |  39 | 189 | 65 |\n| 4248 | 2/1/12 00:00 | East | Small Market | Decaf Espresso | Beans  | Espresso   | Connecticut | Decaf   | 305 | 18 |  29 | 130 | 46 |\n\n",
            "text/html": [
              "<table>\n",
              "<caption>A data.frame: 6 × 13</caption>\n",
              "<thead>\n",
              "\t<tr><th></th><th scope=col>Date</th><th scope=col>Market</th><th scope=col>Market.Size</th><th scope=col>Product</th><th scope=col>Product.Line</th><th scope=col>Product.Type</th><th scope=col>State</th><th scope=col>Type</th><th scope=col>Inventory</th><th scope=col>Marketing</th><th scope=col>Profit</th><th scope=col>Sales</th><th scope=col>Total.Expenses</th></tr>\n",
              "\t<tr><th></th><th scope=col>&lt;chr&gt;</th><th scope=col>&lt;chr&gt;</th><th scope=col>&lt;chr&gt;</th><th scope=col>&lt;chr&gt;</th><th scope=col>&lt;chr&gt;</th><th scope=col>&lt;chr&gt;</th><th scope=col>&lt;chr&gt;</th><th scope=col>&lt;chr&gt;</th><th scope=col>&lt;int&gt;</th><th scope=col>&lt;int&gt;</th><th scope=col>&lt;int&gt;</th><th scope=col>&lt;int&gt;</th><th scope=col>&lt;int&gt;</th></tr>\n",
              "</thead>\n",
              "<tbody>\n",
              "\t<tr><th scope=row>4243</th><td>5/1/12 00:00</td><td>East</td><td>Small Market</td><td>Decaf Espresso</td><td>Beans </td><td>Espresso  </td><td>Connecticut</td><td>Decaf  </td><td>334</td><td>15</td><td> 22</td><td>113</td><td>43</td></tr>\n",
              "\t<tr><th scope=row>4244</th><td>4/1/12 00:00</td><td>East</td><td>Small Market</td><td>Darjeeling    </td><td>Leaves</td><td>Tea       </td><td>Connecticut</td><td>Regular</td><td>821</td><td>13</td><td> 43</td><td>115</td><td>25</td></tr>\n",
              "\t<tr><th scope=row>4245</th><td>4/1/12 00:00</td><td>East</td><td>Small Market</td><td>Colombian     </td><td>Beans </td><td>Coffee    </td><td>Connecticut</td><td>Regular</td><td>962</td><td>38</td><td>107</td><td>292</td><td>69</td></tr>\n",
              "\t<tr><th scope=row>4246</th><td>3/1/12 00:00</td><td>East</td><td>Small Market</td><td>Mint          </td><td>Leaves</td><td>Herbal Tea</td><td>Connecticut</td><td>Decaf  </td><td>949</td><td>22</td><td> 46</td><td>163</td><td>43</td></tr>\n",
              "\t<tr><th scope=row>4247</th><td>3/1/12 00:00</td><td>East</td><td>Small Market</td><td>Lemon         </td><td>Leaves</td><td>Herbal Tea</td><td>Connecticut</td><td>Decaf  </td><td>476</td><td>32</td><td> 39</td><td>189</td><td>65</td></tr>\n",
              "\t<tr><th scope=row>4248</th><td>2/1/12 00:00</td><td>East</td><td>Small Market</td><td>Decaf Espresso</td><td>Beans </td><td>Espresso  </td><td>Connecticut</td><td>Decaf  </td><td>305</td><td>18</td><td> 29</td><td>130</td><td>46</td></tr>\n",
              "</tbody>\n",
              "</table>\n"
            ]
          },
          "metadata": {
            "tags": []
          }
        },
        {
          "output_type": "display_data",
          "data": {
            "text/plain": [
              "\n",
              "Central    East   South    West \n",
              "   1344     888     672    1344 "
            ]
          },
          "metadata": {
            "tags": []
          }
        },
        {
          "output_type": "display_data",
          "data": {
            "text/plain": [
              " [1] \"Date\"           \"Market\"         \"Market.Size\"    \"Product\"       \n",
              " [5] \"Product.Line\"   \"Product.Type\"   \"State\"          \"Type\"          \n",
              " [9] \"Inventory\"      \"Marketing\"      \"Profit\"         \"Sales\"         \n",
              "[13] \"Total.Expenses\""
            ],
            "text/latex": "\\begin{enumerate*}\n\\item 'Date'\n\\item 'Market'\n\\item 'Market.Size'\n\\item 'Product'\n\\item 'Product.Line'\n\\item 'Product.Type'\n\\item 'State'\n\\item 'Type'\n\\item 'Inventory'\n\\item 'Marketing'\n\\item 'Profit'\n\\item 'Sales'\n\\item 'Total.Expenses'\n\\end{enumerate*}\n",
            "text/markdown": "1. 'Date'\n2. 'Market'\n3. 'Market.Size'\n4. 'Product'\n5. 'Product.Line'\n6. 'Product.Type'\n7. 'State'\n8. 'Type'\n9. 'Inventory'\n10. 'Marketing'\n11. 'Profit'\n12. 'Sales'\n13. 'Total.Expenses'\n\n\n",
            "text/html": [
              "<style>\n",
              ".list-inline {list-style: none; margin:0; padding: 0}\n",
              ".list-inline>li {display: inline-block}\n",
              ".list-inline>li:not(:last-child)::after {content: \"\\00b7\"; padding: 0 .5ex}\n",
              "</style>\n",
              "<ol class=list-inline><li>'Date'</li><li>'Market'</li><li>'Market.Size'</li><li>'Product'</li><li>'Product.Line'</li><li>'Product.Type'</li><li>'State'</li><li>'Type'</li><li>'Inventory'</li><li>'Marketing'</li><li>'Profit'</li><li>'Sales'</li><li>'Total.Expenses'</li></ol>\n"
            ]
          },
          "metadata": {
            "tags": []
          }
        },
        {
          "output_type": "display_data",
          "data": {
            "text/plain": [
              " [1] \"Date\"           \"Market\"         \"Market.Size\"    \"Product\"       \n",
              " [5] \"Product.Line\"   \"Product.Type\"   \"State\"          \"Type\"          \n",
              " [9] \"Inventory\"      \"Marketing\"      \"Profit\"         \"Sales\"         \n",
              "[13] \"Total.Expenses\""
            ],
            "text/latex": "\\begin{enumerate*}\n\\item 'Date'\n\\item 'Market'\n\\item 'Market.Size'\n\\item 'Product'\n\\item 'Product.Line'\n\\item 'Product.Type'\n\\item 'State'\n\\item 'Type'\n\\item 'Inventory'\n\\item 'Marketing'\n\\item 'Profit'\n\\item 'Sales'\n\\item 'Total.Expenses'\n\\end{enumerate*}\n",
            "text/markdown": "1. 'Date'\n2. 'Market'\n3. 'Market.Size'\n4. 'Product'\n5. 'Product.Line'\n6. 'Product.Type'\n7. 'State'\n8. 'Type'\n9. 'Inventory'\n10. 'Marketing'\n11. 'Profit'\n12. 'Sales'\n13. 'Total.Expenses'\n\n\n",
            "text/html": [
              "<style>\n",
              ".list-inline {list-style: none; margin:0; padding: 0}\n",
              ".list-inline>li {display: inline-block}\n",
              ".list-inline>li:not(:last-child)::after {content: \"\\00b7\"; padding: 0 .5ex}\n",
              "</style>\n",
              "<ol class=list-inline><li>'Date'</li><li>'Market'</li><li>'Market.Size'</li><li>'Product'</li><li>'Product.Line'</li><li>'Product.Type'</li><li>'State'</li><li>'Type'</li><li>'Inventory'</li><li>'Marketing'</li><li>'Profit'</li><li>'Sales'</li><li>'Total.Expenses'</li></ol>\n"
            ]
          },
          "metadata": {
            "tags": []
          }
        },
        {
          "output_type": "display_data",
          "data": {
            "text/plain": [
              "[1] \"data.frame\""
            ],
            "text/latex": "'data.frame'",
            "text/markdown": "'data.frame'",
            "text/html": [
              "'data.frame'"
            ]
          },
          "metadata": {
            "tags": []
          }
        },
        {
          "output_type": "display_data",
          "data": {
            "text/plain": [
              "[1] \"numeric\""
            ],
            "text/latex": "'numeric'",
            "text/markdown": "'numeric'",
            "text/html": [
              "'numeric'"
            ]
          },
          "metadata": {
            "tags": []
          }
        },
        {
          "output_type": "display_data",
          "data": {
            "text/plain": [
              "     Date          Market Market.Size  Product           Product.Line\n",
              "1    12/1/13 00:00 South  Small Market Colombian         Beans       \n",
              "2    12/1/13 00:00 South  Small Market Chamomile         Leaves      \n",
              "3    11/1/13 00:00 South  Small Market Chamomile         Leaves      \n",
              "4    10/1/13 00:00 South  Small Market Decaf Irish Cream Beans       \n",
              "5    9/1/13 00:00  South  Small Market Lemon             Leaves      \n",
              "6    8/1/13 00:00  South  Small Market Decaf Irish Cream Beans       \n",
              "7    7/1/13 00:00  South  Small Market Lemon             Leaves      \n",
              "8    5/1/13 00:00  South  Small Market Chamomile         Leaves      \n",
              "9    5/1/13 00:00  South  Small Market Caffe Mocha       Beans       \n",
              "10   5/1/13 00:00  South  Small Market Caffe Latte       Beans       \n",
              "11   4/1/13 00:00  South  Small Market Caffe Latte       Beans       \n",
              "12   3/1/13 00:00  South  Small Market Decaf Irish Cream Beans       \n",
              "13   3/1/13 00:00  South  Small Market Decaf Espresso    Beans       \n",
              "14   2/1/13 00:00  South  Small Market Lemon             Leaves      \n",
              "15   2/1/13 00:00  South  Small Market Decaf Espresso    Beans       \n",
              "16   12/1/12 00:00 South  Small Market Lemon             Leaves      \n",
              "17   12/1/12 00:00 South  Small Market Caffe Mocha       Beans       \n",
              "18   12/1/12 00:00 South  Small Market Caffe Latte       Beans       \n",
              "19   10/1/12 00:00 South  Small Market Caffe Mocha       Beans       \n",
              "20   9/1/12 00:00  South  Small Market Decaf Espresso    Beans       \n",
              "21   9/1/12 00:00  South  Small Market Caffe Mocha       Beans       \n",
              "22   8/1/12 00:00  South  Small Market Lemon             Leaves      \n",
              "23   8/1/12 00:00  South  Small Market Caffe Latte       Beans       \n",
              "24   7/1/12 00:00  South  Small Market Caffe Latte       Beans       \n",
              "25   5/1/12 00:00  South  Small Market Chamomile         Leaves      \n",
              "26   5/1/12 00:00  South  Small Market Caffe Latte       Beans       \n",
              "27   4/1/12 00:00  South  Small Market Chamomile         Leaves      \n",
              "28   4/1/12 00:00  South  Small Market Caffe Latte       Beans       \n",
              "29   2/1/12 00:00  South  Small Market Decaf Espresso    Beans       \n",
              "30   1/1/12 00:00  South  Small Market Decaf Irish Cream Beans       \n",
              "⋮    ⋮             ⋮      ⋮            ⋮                 ⋮           \n",
              "4219 5/1/13 00:00  East   Small Market Mint              Leaves      \n",
              "4220 5/1/13 00:00  East   Small Market Caffe Mocha       Beans       \n",
              "4221 4/1/13 00:00  East   Small Market Lemon             Leaves      \n",
              "4222 4/1/13 00:00  East   Small Market Caffe Mocha       Beans       \n",
              "4223 3/1/13 00:00  East   Small Market Decaf Espresso    Beans       \n",
              "4224 3/1/13 00:00  East   Small Market Caffe Mocha       Beans       \n",
              "4225 2/1/13 00:00  East   Small Market Mint              Leaves      \n",
              "4226 2/1/13 00:00  East   Small Market Caffe Mocha       Beans       \n",
              "4227 1/1/13 00:00  East   Small Market Decaf Espresso    Beans       \n",
              "4228 1/1/13 00:00  East   Small Market Caffe Mocha       Beans       \n",
              "4229 12/1/12 00:00 East   Small Market Colombian         Beans       \n",
              "4230 11/1/12 00:00 East   Small Market Green Tea         Leaves      \n",
              "4231 11/1/12 00:00 East   Small Market Colombian         Beans       \n",
              "4232 11/1/12 00:00 East   Small Market Caffe Mocha       Beans       \n",
              "4233 10/1/12 00:00 East   Small Market Caffe Mocha       Beans       \n",
              "4234 9/1/12 00:00  East   Small Market Darjeeling        Leaves      \n",
              "4235 8/1/12 00:00  East   Small Market Decaf Espresso    Beans       \n",
              "4236 8/1/12 00:00  East   Small Market Darjeeling        Leaves      \n",
              "4237 7/1/12 00:00  East   Small Market Decaf Espresso    Beans       \n",
              "4238 7/1/12 00:00  East   Small Market Darjeeling        Leaves      \n",
              "4239 7/1/12 00:00  East   Small Market Colombian         Beans       \n",
              "4240 6/1/12 00:00  East   Small Market Lemon             Leaves      \n",
              "4241 6/1/12 00:00  East   Small Market Green Tea         Leaves      \n",
              "4242 6/1/12 00:00  East   Small Market Caffe Mocha       Beans       \n",
              "4243 5/1/12 00:00  East   Small Market Decaf Espresso    Beans       \n",
              "4244 4/1/12 00:00  East   Small Market Darjeeling        Leaves      \n",
              "4245 4/1/12 00:00  East   Small Market Colombian         Beans       \n",
              "4246 3/1/12 00:00  East   Small Market Mint              Leaves      \n",
              "4247 3/1/12 00:00  East   Small Market Lemon             Leaves      \n",
              "4248 2/1/12 00:00  East   Small Market Decaf Espresso    Beans       "
            ],
            "text/latex": "A data.frame: 4248 × 5\n\\begin{tabular}{lllll}\n Date & Market & Market.Size & Product & Product.Line\\\\\n <chr> & <chr> & <chr> & <chr> & <chr>\\\\\n\\hline\n\t 12/1/13 00:00 & South & Small Market & Colombian         & Beans \\\\\n\t 12/1/13 00:00 & South & Small Market & Chamomile         & Leaves\\\\\n\t 11/1/13 00:00 & South & Small Market & Chamomile         & Leaves\\\\\n\t 10/1/13 00:00 & South & Small Market & Decaf Irish Cream & Beans \\\\\n\t 9/1/13 00:00  & South & Small Market & Lemon             & Leaves\\\\\n\t 8/1/13 00:00  & South & Small Market & Decaf Irish Cream & Beans \\\\\n\t 7/1/13 00:00  & South & Small Market & Lemon             & Leaves\\\\\n\t 5/1/13 00:00  & South & Small Market & Chamomile         & Leaves\\\\\n\t 5/1/13 00:00  & South & Small Market & Caffe Mocha       & Beans \\\\\n\t 5/1/13 00:00  & South & Small Market & Caffe Latte       & Beans \\\\\n\t 4/1/13 00:00  & South & Small Market & Caffe Latte       & Beans \\\\\n\t 3/1/13 00:00  & South & Small Market & Decaf Irish Cream & Beans \\\\\n\t 3/1/13 00:00  & South & Small Market & Decaf Espresso    & Beans \\\\\n\t 2/1/13 00:00  & South & Small Market & Lemon             & Leaves\\\\\n\t 2/1/13 00:00  & South & Small Market & Decaf Espresso    & Beans \\\\\n\t 12/1/12 00:00 & South & Small Market & Lemon             & Leaves\\\\\n\t 12/1/12 00:00 & South & Small Market & Caffe Mocha       & Beans \\\\\n\t 12/1/12 00:00 & South & Small Market & Caffe Latte       & Beans \\\\\n\t 10/1/12 00:00 & South & Small Market & Caffe Mocha       & Beans \\\\\n\t 9/1/12 00:00  & South & Small Market & Decaf Espresso    & Beans \\\\\n\t 9/1/12 00:00  & South & Small Market & Caffe Mocha       & Beans \\\\\n\t 8/1/12 00:00  & South & Small Market & Lemon             & Leaves\\\\\n\t 8/1/12 00:00  & South & Small Market & Caffe Latte       & Beans \\\\\n\t 7/1/12 00:00  & South & Small Market & Caffe Latte       & Beans \\\\\n\t 5/1/12 00:00  & South & Small Market & Chamomile         & Leaves\\\\\n\t 5/1/12 00:00  & South & Small Market & Caffe Latte       & Beans \\\\\n\t 4/1/12 00:00  & South & Small Market & Chamomile         & Leaves\\\\\n\t 4/1/12 00:00  & South & Small Market & Caffe Latte       & Beans \\\\\n\t 2/1/12 00:00  & South & Small Market & Decaf Espresso    & Beans \\\\\n\t 1/1/12 00:00  & South & Small Market & Decaf Irish Cream & Beans \\\\\n\t ⋮ & ⋮ & ⋮ & ⋮ & ⋮\\\\\n\t 5/1/13 00:00  & East & Small Market & Mint           & Leaves\\\\\n\t 5/1/13 00:00  & East & Small Market & Caffe Mocha    & Beans \\\\\n\t 4/1/13 00:00  & East & Small Market & Lemon          & Leaves\\\\\n\t 4/1/13 00:00  & East & Small Market & Caffe Mocha    & Beans \\\\\n\t 3/1/13 00:00  & East & Small Market & Decaf Espresso & Beans \\\\\n\t 3/1/13 00:00  & East & Small Market & Caffe Mocha    & Beans \\\\\n\t 2/1/13 00:00  & East & Small Market & Mint           & Leaves\\\\\n\t 2/1/13 00:00  & East & Small Market & Caffe Mocha    & Beans \\\\\n\t 1/1/13 00:00  & East & Small Market & Decaf Espresso & Beans \\\\\n\t 1/1/13 00:00  & East & Small Market & Caffe Mocha    & Beans \\\\\n\t 12/1/12 00:00 & East & Small Market & Colombian      & Beans \\\\\n\t 11/1/12 00:00 & East & Small Market & Green Tea      & Leaves\\\\\n\t 11/1/12 00:00 & East & Small Market & Colombian      & Beans \\\\\n\t 11/1/12 00:00 & East & Small Market & Caffe Mocha    & Beans \\\\\n\t 10/1/12 00:00 & East & Small Market & Caffe Mocha    & Beans \\\\\n\t 9/1/12 00:00  & East & Small Market & Darjeeling     & Leaves\\\\\n\t 8/1/12 00:00  & East & Small Market & Decaf Espresso & Beans \\\\\n\t 8/1/12 00:00  & East & Small Market & Darjeeling     & Leaves\\\\\n\t 7/1/12 00:00  & East & Small Market & Decaf Espresso & Beans \\\\\n\t 7/1/12 00:00  & East & Small Market & Darjeeling     & Leaves\\\\\n\t 7/1/12 00:00  & East & Small Market & Colombian      & Beans \\\\\n\t 6/1/12 00:00  & East & Small Market & Lemon          & Leaves\\\\\n\t 6/1/12 00:00  & East & Small Market & Green Tea      & Leaves\\\\\n\t 6/1/12 00:00  & East & Small Market & Caffe Mocha    & Beans \\\\\n\t 5/1/12 00:00  & East & Small Market & Decaf Espresso & Beans \\\\\n\t 4/1/12 00:00  & East & Small Market & Darjeeling     & Leaves\\\\\n\t 4/1/12 00:00  & East & Small Market & Colombian      & Beans \\\\\n\t 3/1/12 00:00  & East & Small Market & Mint           & Leaves\\\\\n\t 3/1/12 00:00  & East & Small Market & Lemon          & Leaves\\\\\n\t 2/1/12 00:00  & East & Small Market & Decaf Espresso & Beans \\\\\n\\end{tabular}\n",
            "text/markdown": "\nA data.frame: 4248 × 5\n\n| Date &lt;chr&gt; | Market &lt;chr&gt; | Market.Size &lt;chr&gt; | Product &lt;chr&gt; | Product.Line &lt;chr&gt; |\n|---|---|---|---|---|\n| 12/1/13 00:00 | South | Small Market | Colombian         | Beans  |\n| 12/1/13 00:00 | South | Small Market | Chamomile         | Leaves |\n| 11/1/13 00:00 | South | Small Market | Chamomile         | Leaves |\n| 10/1/13 00:00 | South | Small Market | Decaf Irish Cream | Beans  |\n| 9/1/13 00:00  | South | Small Market | Lemon             | Leaves |\n| 8/1/13 00:00  | South | Small Market | Decaf Irish Cream | Beans  |\n| 7/1/13 00:00  | South | Small Market | Lemon             | Leaves |\n| 5/1/13 00:00  | South | Small Market | Chamomile         | Leaves |\n| 5/1/13 00:00  | South | Small Market | Caffe Mocha       | Beans  |\n| 5/1/13 00:00  | South | Small Market | Caffe Latte       | Beans  |\n| 4/1/13 00:00  | South | Small Market | Caffe Latte       | Beans  |\n| 3/1/13 00:00  | South | Small Market | Decaf Irish Cream | Beans  |\n| 3/1/13 00:00  | South | Small Market | Decaf Espresso    | Beans  |\n| 2/1/13 00:00  | South | Small Market | Lemon             | Leaves |\n| 2/1/13 00:00  | South | Small Market | Decaf Espresso    | Beans  |\n| 12/1/12 00:00 | South | Small Market | Lemon             | Leaves |\n| 12/1/12 00:00 | South | Small Market | Caffe Mocha       | Beans  |\n| 12/1/12 00:00 | South | Small Market | Caffe Latte       | Beans  |\n| 10/1/12 00:00 | South | Small Market | Caffe Mocha       | Beans  |\n| 9/1/12 00:00  | South | Small Market | Decaf Espresso    | Beans  |\n| 9/1/12 00:00  | South | Small Market | Caffe Mocha       | Beans  |\n| 8/1/12 00:00  | South | Small Market | Lemon             | Leaves |\n| 8/1/12 00:00  | South | Small Market | Caffe Latte       | Beans  |\n| 7/1/12 00:00  | South | Small Market | Caffe Latte       | Beans  |\n| 5/1/12 00:00  | South | Small Market | Chamomile         | Leaves |\n| 5/1/12 00:00  | South | Small Market | Caffe Latte       | Beans  |\n| 4/1/12 00:00  | South | Small Market | Chamomile         | Leaves |\n| 4/1/12 00:00  | South | Small Market | Caffe Latte       | Beans  |\n| 2/1/12 00:00  | South | Small Market | Decaf Espresso    | Beans  |\n| 1/1/12 00:00  | South | Small Market | Decaf Irish Cream | Beans  |\n| ⋮ | ⋮ | ⋮ | ⋮ | ⋮ |\n| 5/1/13 00:00  | East | Small Market | Mint           | Leaves |\n| 5/1/13 00:00  | East | Small Market | Caffe Mocha    | Beans  |\n| 4/1/13 00:00  | East | Small Market | Lemon          | Leaves |\n| 4/1/13 00:00  | East | Small Market | Caffe Mocha    | Beans  |\n| 3/1/13 00:00  | East | Small Market | Decaf Espresso | Beans  |\n| 3/1/13 00:00  | East | Small Market | Caffe Mocha    | Beans  |\n| 2/1/13 00:00  | East | Small Market | Mint           | Leaves |\n| 2/1/13 00:00  | East | Small Market | Caffe Mocha    | Beans  |\n| 1/1/13 00:00  | East | Small Market | Decaf Espresso | Beans  |\n| 1/1/13 00:00  | East | Small Market | Caffe Mocha    | Beans  |\n| 12/1/12 00:00 | East | Small Market | Colombian      | Beans  |\n| 11/1/12 00:00 | East | Small Market | Green Tea      | Leaves |\n| 11/1/12 00:00 | East | Small Market | Colombian      | Beans  |\n| 11/1/12 00:00 | East | Small Market | Caffe Mocha    | Beans  |\n| 10/1/12 00:00 | East | Small Market | Caffe Mocha    | Beans  |\n| 9/1/12 00:00  | East | Small Market | Darjeeling     | Leaves |\n| 8/1/12 00:00  | East | Small Market | Decaf Espresso | Beans  |\n| 8/1/12 00:00  | East | Small Market | Darjeeling     | Leaves |\n| 7/1/12 00:00  | East | Small Market | Decaf Espresso | Beans  |\n| 7/1/12 00:00  | East | Small Market | Darjeeling     | Leaves |\n| 7/1/12 00:00  | East | Small Market | Colombian      | Beans  |\n| 6/1/12 00:00  | East | Small Market | Lemon          | Leaves |\n| 6/1/12 00:00  | East | Small Market | Green Tea      | Leaves |\n| 6/1/12 00:00  | East | Small Market | Caffe Mocha    | Beans  |\n| 5/1/12 00:00  | East | Small Market | Decaf Espresso | Beans  |\n| 4/1/12 00:00  | East | Small Market | Darjeeling     | Leaves |\n| 4/1/12 00:00  | East | Small Market | Colombian      | Beans  |\n| 3/1/12 00:00  | East | Small Market | Mint           | Leaves |\n| 3/1/12 00:00  | East | Small Market | Lemon          | Leaves |\n| 2/1/12 00:00  | East | Small Market | Decaf Espresso | Beans  |\n\n",
            "text/html": [
              "<table>\n",
              "<caption>A data.frame: 4248 × 5</caption>\n",
              "<thead>\n",
              "\t<tr><th scope=col>Date</th><th scope=col>Market</th><th scope=col>Market.Size</th><th scope=col>Product</th><th scope=col>Product.Line</th></tr>\n",
              "\t<tr><th scope=col>&lt;chr&gt;</th><th scope=col>&lt;chr&gt;</th><th scope=col>&lt;chr&gt;</th><th scope=col>&lt;chr&gt;</th><th scope=col>&lt;chr&gt;</th></tr>\n",
              "</thead>\n",
              "<tbody>\n",
              "\t<tr><td>12/1/13 00:00</td><td>South</td><td>Small Market</td><td>Colombian        </td><td>Beans </td></tr>\n",
              "\t<tr><td>12/1/13 00:00</td><td>South</td><td>Small Market</td><td>Chamomile        </td><td>Leaves</td></tr>\n",
              "\t<tr><td>11/1/13 00:00</td><td>South</td><td>Small Market</td><td>Chamomile        </td><td>Leaves</td></tr>\n",
              "\t<tr><td>10/1/13 00:00</td><td>South</td><td>Small Market</td><td>Decaf Irish Cream</td><td>Beans </td></tr>\n",
              "\t<tr><td>9/1/13 00:00 </td><td>South</td><td>Small Market</td><td>Lemon            </td><td>Leaves</td></tr>\n",
              "\t<tr><td>8/1/13 00:00 </td><td>South</td><td>Small Market</td><td>Decaf Irish Cream</td><td>Beans </td></tr>\n",
              "\t<tr><td>7/1/13 00:00 </td><td>South</td><td>Small Market</td><td>Lemon            </td><td>Leaves</td></tr>\n",
              "\t<tr><td>5/1/13 00:00 </td><td>South</td><td>Small Market</td><td>Chamomile        </td><td>Leaves</td></tr>\n",
              "\t<tr><td>5/1/13 00:00 </td><td>South</td><td>Small Market</td><td>Caffe Mocha      </td><td>Beans </td></tr>\n",
              "\t<tr><td>5/1/13 00:00 </td><td>South</td><td>Small Market</td><td>Caffe Latte      </td><td>Beans </td></tr>\n",
              "\t<tr><td>4/1/13 00:00 </td><td>South</td><td>Small Market</td><td>Caffe Latte      </td><td>Beans </td></tr>\n",
              "\t<tr><td>3/1/13 00:00 </td><td>South</td><td>Small Market</td><td>Decaf Irish Cream</td><td>Beans </td></tr>\n",
              "\t<tr><td>3/1/13 00:00 </td><td>South</td><td>Small Market</td><td>Decaf Espresso   </td><td>Beans </td></tr>\n",
              "\t<tr><td>2/1/13 00:00 </td><td>South</td><td>Small Market</td><td>Lemon            </td><td>Leaves</td></tr>\n",
              "\t<tr><td>2/1/13 00:00 </td><td>South</td><td>Small Market</td><td>Decaf Espresso   </td><td>Beans </td></tr>\n",
              "\t<tr><td>12/1/12 00:00</td><td>South</td><td>Small Market</td><td>Lemon            </td><td>Leaves</td></tr>\n",
              "\t<tr><td>12/1/12 00:00</td><td>South</td><td>Small Market</td><td>Caffe Mocha      </td><td>Beans </td></tr>\n",
              "\t<tr><td>12/1/12 00:00</td><td>South</td><td>Small Market</td><td>Caffe Latte      </td><td>Beans </td></tr>\n",
              "\t<tr><td>10/1/12 00:00</td><td>South</td><td>Small Market</td><td>Caffe Mocha      </td><td>Beans </td></tr>\n",
              "\t<tr><td>9/1/12 00:00 </td><td>South</td><td>Small Market</td><td>Decaf Espresso   </td><td>Beans </td></tr>\n",
              "\t<tr><td>9/1/12 00:00 </td><td>South</td><td>Small Market</td><td>Caffe Mocha      </td><td>Beans </td></tr>\n",
              "\t<tr><td>8/1/12 00:00 </td><td>South</td><td>Small Market</td><td>Lemon            </td><td>Leaves</td></tr>\n",
              "\t<tr><td>8/1/12 00:00 </td><td>South</td><td>Small Market</td><td>Caffe Latte      </td><td>Beans </td></tr>\n",
              "\t<tr><td>7/1/12 00:00 </td><td>South</td><td>Small Market</td><td>Caffe Latte      </td><td>Beans </td></tr>\n",
              "\t<tr><td>5/1/12 00:00 </td><td>South</td><td>Small Market</td><td>Chamomile        </td><td>Leaves</td></tr>\n",
              "\t<tr><td>5/1/12 00:00 </td><td>South</td><td>Small Market</td><td>Caffe Latte      </td><td>Beans </td></tr>\n",
              "\t<tr><td>4/1/12 00:00 </td><td>South</td><td>Small Market</td><td>Chamomile        </td><td>Leaves</td></tr>\n",
              "\t<tr><td>4/1/12 00:00 </td><td>South</td><td>Small Market</td><td>Caffe Latte      </td><td>Beans </td></tr>\n",
              "\t<tr><td>2/1/12 00:00 </td><td>South</td><td>Small Market</td><td>Decaf Espresso   </td><td>Beans </td></tr>\n",
              "\t<tr><td>1/1/12 00:00 </td><td>South</td><td>Small Market</td><td>Decaf Irish Cream</td><td>Beans </td></tr>\n",
              "\t<tr><td>⋮</td><td>⋮</td><td>⋮</td><td>⋮</td><td>⋮</td></tr>\n",
              "\t<tr><td>5/1/13 00:00 </td><td>East</td><td>Small Market</td><td>Mint          </td><td>Leaves</td></tr>\n",
              "\t<tr><td>5/1/13 00:00 </td><td>East</td><td>Small Market</td><td>Caffe Mocha   </td><td>Beans </td></tr>\n",
              "\t<tr><td>4/1/13 00:00 </td><td>East</td><td>Small Market</td><td>Lemon         </td><td>Leaves</td></tr>\n",
              "\t<tr><td>4/1/13 00:00 </td><td>East</td><td>Small Market</td><td>Caffe Mocha   </td><td>Beans </td></tr>\n",
              "\t<tr><td>3/1/13 00:00 </td><td>East</td><td>Small Market</td><td>Decaf Espresso</td><td>Beans </td></tr>\n",
              "\t<tr><td>3/1/13 00:00 </td><td>East</td><td>Small Market</td><td>Caffe Mocha   </td><td>Beans </td></tr>\n",
              "\t<tr><td>2/1/13 00:00 </td><td>East</td><td>Small Market</td><td>Mint          </td><td>Leaves</td></tr>\n",
              "\t<tr><td>2/1/13 00:00 </td><td>East</td><td>Small Market</td><td>Caffe Mocha   </td><td>Beans </td></tr>\n",
              "\t<tr><td>1/1/13 00:00 </td><td>East</td><td>Small Market</td><td>Decaf Espresso</td><td>Beans </td></tr>\n",
              "\t<tr><td>1/1/13 00:00 </td><td>East</td><td>Small Market</td><td>Caffe Mocha   </td><td>Beans </td></tr>\n",
              "\t<tr><td>12/1/12 00:00</td><td>East</td><td>Small Market</td><td>Colombian     </td><td>Beans </td></tr>\n",
              "\t<tr><td>11/1/12 00:00</td><td>East</td><td>Small Market</td><td>Green Tea     </td><td>Leaves</td></tr>\n",
              "\t<tr><td>11/1/12 00:00</td><td>East</td><td>Small Market</td><td>Colombian     </td><td>Beans </td></tr>\n",
              "\t<tr><td>11/1/12 00:00</td><td>East</td><td>Small Market</td><td>Caffe Mocha   </td><td>Beans </td></tr>\n",
              "\t<tr><td>10/1/12 00:00</td><td>East</td><td>Small Market</td><td>Caffe Mocha   </td><td>Beans </td></tr>\n",
              "\t<tr><td>9/1/12 00:00 </td><td>East</td><td>Small Market</td><td>Darjeeling    </td><td>Leaves</td></tr>\n",
              "\t<tr><td>8/1/12 00:00 </td><td>East</td><td>Small Market</td><td>Decaf Espresso</td><td>Beans </td></tr>\n",
              "\t<tr><td>8/1/12 00:00 </td><td>East</td><td>Small Market</td><td>Darjeeling    </td><td>Leaves</td></tr>\n",
              "\t<tr><td>7/1/12 00:00 </td><td>East</td><td>Small Market</td><td>Decaf Espresso</td><td>Beans </td></tr>\n",
              "\t<tr><td>7/1/12 00:00 </td><td>East</td><td>Small Market</td><td>Darjeeling    </td><td>Leaves</td></tr>\n",
              "\t<tr><td>7/1/12 00:00 </td><td>East</td><td>Small Market</td><td>Colombian     </td><td>Beans </td></tr>\n",
              "\t<tr><td>6/1/12 00:00 </td><td>East</td><td>Small Market</td><td>Lemon         </td><td>Leaves</td></tr>\n",
              "\t<tr><td>6/1/12 00:00 </td><td>East</td><td>Small Market</td><td>Green Tea     </td><td>Leaves</td></tr>\n",
              "\t<tr><td>6/1/12 00:00 </td><td>East</td><td>Small Market</td><td>Caffe Mocha   </td><td>Beans </td></tr>\n",
              "\t<tr><td>5/1/12 00:00 </td><td>East</td><td>Small Market</td><td>Decaf Espresso</td><td>Beans </td></tr>\n",
              "\t<tr><td>4/1/12 00:00 </td><td>East</td><td>Small Market</td><td>Darjeeling    </td><td>Leaves</td></tr>\n",
              "\t<tr><td>4/1/12 00:00 </td><td>East</td><td>Small Market</td><td>Colombian     </td><td>Beans </td></tr>\n",
              "\t<tr><td>3/1/12 00:00 </td><td>East</td><td>Small Market</td><td>Mint          </td><td>Leaves</td></tr>\n",
              "\t<tr><td>3/1/12 00:00 </td><td>East</td><td>Small Market</td><td>Lemon         </td><td>Leaves</td></tr>\n",
              "\t<tr><td>2/1/12 00:00 </td><td>East</td><td>Small Market</td><td>Decaf Espresso</td><td>Beans </td></tr>\n",
              "</tbody>\n",
              "</table>\n"
            ]
          },
          "metadata": {
            "tags": []
          }
        },
        {
          "output_type": "display_data",
          "data": {
            "text/plain": [
              "     Date          Market Market.Size  Product           Product.Line\n",
              "1    12/1/13 00:00 South  Small Market Colombian         Beans       \n",
              "2    12/1/13 00:00 South  Small Market Chamomile         Leaves      \n",
              "3    11/1/13 00:00 South  Small Market Chamomile         Leaves      \n",
              "4    10/1/13 00:00 South  Small Market Decaf Irish Cream Beans       \n",
              "5    9/1/13 00:00  South  Small Market Lemon             Leaves      \n",
              "6    8/1/13 00:00  South  Small Market Decaf Irish Cream Beans       \n",
              "7    7/1/13 00:00  South  Small Market Lemon             Leaves      \n",
              "8    5/1/13 00:00  South  Small Market Chamomile         Leaves      \n",
              "9    5/1/13 00:00  South  Small Market Caffe Mocha       Beans       \n",
              "10   5/1/13 00:00  South  Small Market Caffe Latte       Beans       \n",
              "11   4/1/13 00:00  South  Small Market Caffe Latte       Beans       \n",
              "12   3/1/13 00:00  South  Small Market Decaf Irish Cream Beans       \n",
              "13   3/1/13 00:00  South  Small Market Decaf Espresso    Beans       \n",
              "14   2/1/13 00:00  South  Small Market Lemon             Leaves      \n",
              "15   2/1/13 00:00  South  Small Market Decaf Espresso    Beans       \n",
              "16   12/1/12 00:00 South  Small Market Lemon             Leaves      \n",
              "17   12/1/12 00:00 South  Small Market Caffe Mocha       Beans       \n",
              "18   12/1/12 00:00 South  Small Market Caffe Latte       Beans       \n",
              "19   10/1/12 00:00 South  Small Market Caffe Mocha       Beans       \n",
              "20   9/1/12 00:00  South  Small Market Decaf Espresso    Beans       \n",
              "21   9/1/12 00:00  South  Small Market Caffe Mocha       Beans       \n",
              "22   8/1/12 00:00  South  Small Market Lemon             Leaves      \n",
              "23   8/1/12 00:00  South  Small Market Caffe Latte       Beans       \n",
              "24   7/1/12 00:00  South  Small Market Caffe Latte       Beans       \n",
              "25   5/1/12 00:00  South  Small Market Chamomile         Leaves      \n",
              "26   5/1/12 00:00  South  Small Market Caffe Latte       Beans       \n",
              "27   4/1/12 00:00  South  Small Market Chamomile         Leaves      \n",
              "28   4/1/12 00:00  South  Small Market Caffe Latte       Beans       \n",
              "29   2/1/12 00:00  South  Small Market Decaf Espresso    Beans       \n",
              "30   1/1/12 00:00  South  Small Market Decaf Irish Cream Beans       \n",
              "⋮    ⋮             ⋮      ⋮            ⋮                 ⋮           \n",
              "4219 5/1/13 00:00  East   Small Market Mint              Leaves      \n",
              "4220 5/1/13 00:00  East   Small Market Caffe Mocha       Beans       \n",
              "4221 4/1/13 00:00  East   Small Market Lemon             Leaves      \n",
              "4222 4/1/13 00:00  East   Small Market Caffe Mocha       Beans       \n",
              "4223 3/1/13 00:00  East   Small Market Decaf Espresso    Beans       \n",
              "4224 3/1/13 00:00  East   Small Market Caffe Mocha       Beans       \n",
              "4225 2/1/13 00:00  East   Small Market Mint              Leaves      \n",
              "4226 2/1/13 00:00  East   Small Market Caffe Mocha       Beans       \n",
              "4227 1/1/13 00:00  East   Small Market Decaf Espresso    Beans       \n",
              "4228 1/1/13 00:00  East   Small Market Caffe Mocha       Beans       \n",
              "4229 12/1/12 00:00 East   Small Market Colombian         Beans       \n",
              "4230 11/1/12 00:00 East   Small Market Green Tea         Leaves      \n",
              "4231 11/1/12 00:00 East   Small Market Colombian         Beans       \n",
              "4232 11/1/12 00:00 East   Small Market Caffe Mocha       Beans       \n",
              "4233 10/1/12 00:00 East   Small Market Caffe Mocha       Beans       \n",
              "4234 9/1/12 00:00  East   Small Market Darjeeling        Leaves      \n",
              "4235 8/1/12 00:00  East   Small Market Decaf Espresso    Beans       \n",
              "4236 8/1/12 00:00  East   Small Market Darjeeling        Leaves      \n",
              "4237 7/1/12 00:00  East   Small Market Decaf Espresso    Beans       \n",
              "4238 7/1/12 00:00  East   Small Market Darjeeling        Leaves      \n",
              "4239 7/1/12 00:00  East   Small Market Colombian         Beans       \n",
              "4240 6/1/12 00:00  East   Small Market Lemon             Leaves      \n",
              "4241 6/1/12 00:00  East   Small Market Green Tea         Leaves      \n",
              "4242 6/1/12 00:00  East   Small Market Caffe Mocha       Beans       \n",
              "4243 5/1/12 00:00  East   Small Market Decaf Espresso    Beans       \n",
              "4244 4/1/12 00:00  East   Small Market Darjeeling        Leaves      \n",
              "4245 4/1/12 00:00  East   Small Market Colombian         Beans       \n",
              "4246 3/1/12 00:00  East   Small Market Mint              Leaves      \n",
              "4247 3/1/12 00:00  East   Small Market Lemon             Leaves      \n",
              "4248 2/1/12 00:00  East   Small Market Decaf Espresso    Beans       "
            ],
            "text/latex": "A data.frame: 4248 × 5\n\\begin{tabular}{lllll}\n Date & Market & Market.Size & Product & Product.Line\\\\\n <chr> & <chr> & <chr> & <chr> & <chr>\\\\\n\\hline\n\t 12/1/13 00:00 & South & Small Market & Colombian         & Beans \\\\\n\t 12/1/13 00:00 & South & Small Market & Chamomile         & Leaves\\\\\n\t 11/1/13 00:00 & South & Small Market & Chamomile         & Leaves\\\\\n\t 10/1/13 00:00 & South & Small Market & Decaf Irish Cream & Beans \\\\\n\t 9/1/13 00:00  & South & Small Market & Lemon             & Leaves\\\\\n\t 8/1/13 00:00  & South & Small Market & Decaf Irish Cream & Beans \\\\\n\t 7/1/13 00:00  & South & Small Market & Lemon             & Leaves\\\\\n\t 5/1/13 00:00  & South & Small Market & Chamomile         & Leaves\\\\\n\t 5/1/13 00:00  & South & Small Market & Caffe Mocha       & Beans \\\\\n\t 5/1/13 00:00  & South & Small Market & Caffe Latte       & Beans \\\\\n\t 4/1/13 00:00  & South & Small Market & Caffe Latte       & Beans \\\\\n\t 3/1/13 00:00  & South & Small Market & Decaf Irish Cream & Beans \\\\\n\t 3/1/13 00:00  & South & Small Market & Decaf Espresso    & Beans \\\\\n\t 2/1/13 00:00  & South & Small Market & Lemon             & Leaves\\\\\n\t 2/1/13 00:00  & South & Small Market & Decaf Espresso    & Beans \\\\\n\t 12/1/12 00:00 & South & Small Market & Lemon             & Leaves\\\\\n\t 12/1/12 00:00 & South & Small Market & Caffe Mocha       & Beans \\\\\n\t 12/1/12 00:00 & South & Small Market & Caffe Latte       & Beans \\\\\n\t 10/1/12 00:00 & South & Small Market & Caffe Mocha       & Beans \\\\\n\t 9/1/12 00:00  & South & Small Market & Decaf Espresso    & Beans \\\\\n\t 9/1/12 00:00  & South & Small Market & Caffe Mocha       & Beans \\\\\n\t 8/1/12 00:00  & South & Small Market & Lemon             & Leaves\\\\\n\t 8/1/12 00:00  & South & Small Market & Caffe Latte       & Beans \\\\\n\t 7/1/12 00:00  & South & Small Market & Caffe Latte       & Beans \\\\\n\t 5/1/12 00:00  & South & Small Market & Chamomile         & Leaves\\\\\n\t 5/1/12 00:00  & South & Small Market & Caffe Latte       & Beans \\\\\n\t 4/1/12 00:00  & South & Small Market & Chamomile         & Leaves\\\\\n\t 4/1/12 00:00  & South & Small Market & Caffe Latte       & Beans \\\\\n\t 2/1/12 00:00  & South & Small Market & Decaf Espresso    & Beans \\\\\n\t 1/1/12 00:00  & South & Small Market & Decaf Irish Cream & Beans \\\\\n\t ⋮ & ⋮ & ⋮ & ⋮ & ⋮\\\\\n\t 5/1/13 00:00  & East & Small Market & Mint           & Leaves\\\\\n\t 5/1/13 00:00  & East & Small Market & Caffe Mocha    & Beans \\\\\n\t 4/1/13 00:00  & East & Small Market & Lemon          & Leaves\\\\\n\t 4/1/13 00:00  & East & Small Market & Caffe Mocha    & Beans \\\\\n\t 3/1/13 00:00  & East & Small Market & Decaf Espresso & Beans \\\\\n\t 3/1/13 00:00  & East & Small Market & Caffe Mocha    & Beans \\\\\n\t 2/1/13 00:00  & East & Small Market & Mint           & Leaves\\\\\n\t 2/1/13 00:00  & East & Small Market & Caffe Mocha    & Beans \\\\\n\t 1/1/13 00:00  & East & Small Market & Decaf Espresso & Beans \\\\\n\t 1/1/13 00:00  & East & Small Market & Caffe Mocha    & Beans \\\\\n\t 12/1/12 00:00 & East & Small Market & Colombian      & Beans \\\\\n\t 11/1/12 00:00 & East & Small Market & Green Tea      & Leaves\\\\\n\t 11/1/12 00:00 & East & Small Market & Colombian      & Beans \\\\\n\t 11/1/12 00:00 & East & Small Market & Caffe Mocha    & Beans \\\\\n\t 10/1/12 00:00 & East & Small Market & Caffe Mocha    & Beans \\\\\n\t 9/1/12 00:00  & East & Small Market & Darjeeling     & Leaves\\\\\n\t 8/1/12 00:00  & East & Small Market & Decaf Espresso & Beans \\\\\n\t 8/1/12 00:00  & East & Small Market & Darjeeling     & Leaves\\\\\n\t 7/1/12 00:00  & East & Small Market & Decaf Espresso & Beans \\\\\n\t 7/1/12 00:00  & East & Small Market & Darjeeling     & Leaves\\\\\n\t 7/1/12 00:00  & East & Small Market & Colombian      & Beans \\\\\n\t 6/1/12 00:00  & East & Small Market & Lemon          & Leaves\\\\\n\t 6/1/12 00:00  & East & Small Market & Green Tea      & Leaves\\\\\n\t 6/1/12 00:00  & East & Small Market & Caffe Mocha    & Beans \\\\\n\t 5/1/12 00:00  & East & Small Market & Decaf Espresso & Beans \\\\\n\t 4/1/12 00:00  & East & Small Market & Darjeeling     & Leaves\\\\\n\t 4/1/12 00:00  & East & Small Market & Colombian      & Beans \\\\\n\t 3/1/12 00:00  & East & Small Market & Mint           & Leaves\\\\\n\t 3/1/12 00:00  & East & Small Market & Lemon          & Leaves\\\\\n\t 2/1/12 00:00  & East & Small Market & Decaf Espresso & Beans \\\\\n\\end{tabular}\n",
            "text/markdown": "\nA data.frame: 4248 × 5\n\n| Date &lt;chr&gt; | Market &lt;chr&gt; | Market.Size &lt;chr&gt; | Product &lt;chr&gt; | Product.Line &lt;chr&gt; |\n|---|---|---|---|---|\n| 12/1/13 00:00 | South | Small Market | Colombian         | Beans  |\n| 12/1/13 00:00 | South | Small Market | Chamomile         | Leaves |\n| 11/1/13 00:00 | South | Small Market | Chamomile         | Leaves |\n| 10/1/13 00:00 | South | Small Market | Decaf Irish Cream | Beans  |\n| 9/1/13 00:00  | South | Small Market | Lemon             | Leaves |\n| 8/1/13 00:00  | South | Small Market | Decaf Irish Cream | Beans  |\n| 7/1/13 00:00  | South | Small Market | Lemon             | Leaves |\n| 5/1/13 00:00  | South | Small Market | Chamomile         | Leaves |\n| 5/1/13 00:00  | South | Small Market | Caffe Mocha       | Beans  |\n| 5/1/13 00:00  | South | Small Market | Caffe Latte       | Beans  |\n| 4/1/13 00:00  | South | Small Market | Caffe Latte       | Beans  |\n| 3/1/13 00:00  | South | Small Market | Decaf Irish Cream | Beans  |\n| 3/1/13 00:00  | South | Small Market | Decaf Espresso    | Beans  |\n| 2/1/13 00:00  | South | Small Market | Lemon             | Leaves |\n| 2/1/13 00:00  | South | Small Market | Decaf Espresso    | Beans  |\n| 12/1/12 00:00 | South | Small Market | Lemon             | Leaves |\n| 12/1/12 00:00 | South | Small Market | Caffe Mocha       | Beans  |\n| 12/1/12 00:00 | South | Small Market | Caffe Latte       | Beans  |\n| 10/1/12 00:00 | South | Small Market | Caffe Mocha       | Beans  |\n| 9/1/12 00:00  | South | Small Market | Decaf Espresso    | Beans  |\n| 9/1/12 00:00  | South | Small Market | Caffe Mocha       | Beans  |\n| 8/1/12 00:00  | South | Small Market | Lemon             | Leaves |\n| 8/1/12 00:00  | South | Small Market | Caffe Latte       | Beans  |\n| 7/1/12 00:00  | South | Small Market | Caffe Latte       | Beans  |\n| 5/1/12 00:00  | South | Small Market | Chamomile         | Leaves |\n| 5/1/12 00:00  | South | Small Market | Caffe Latte       | Beans  |\n| 4/1/12 00:00  | South | Small Market | Chamomile         | Leaves |\n| 4/1/12 00:00  | South | Small Market | Caffe Latte       | Beans  |\n| 2/1/12 00:00  | South | Small Market | Decaf Espresso    | Beans  |\n| 1/1/12 00:00  | South | Small Market | Decaf Irish Cream | Beans  |\n| ⋮ | ⋮ | ⋮ | ⋮ | ⋮ |\n| 5/1/13 00:00  | East | Small Market | Mint           | Leaves |\n| 5/1/13 00:00  | East | Small Market | Caffe Mocha    | Beans  |\n| 4/1/13 00:00  | East | Small Market | Lemon          | Leaves |\n| 4/1/13 00:00  | East | Small Market | Caffe Mocha    | Beans  |\n| 3/1/13 00:00  | East | Small Market | Decaf Espresso | Beans  |\n| 3/1/13 00:00  | East | Small Market | Caffe Mocha    | Beans  |\n| 2/1/13 00:00  | East | Small Market | Mint           | Leaves |\n| 2/1/13 00:00  | East | Small Market | Caffe Mocha    | Beans  |\n| 1/1/13 00:00  | East | Small Market | Decaf Espresso | Beans  |\n| 1/1/13 00:00  | East | Small Market | Caffe Mocha    | Beans  |\n| 12/1/12 00:00 | East | Small Market | Colombian      | Beans  |\n| 11/1/12 00:00 | East | Small Market | Green Tea      | Leaves |\n| 11/1/12 00:00 | East | Small Market | Colombian      | Beans  |\n| 11/1/12 00:00 | East | Small Market | Caffe Mocha    | Beans  |\n| 10/1/12 00:00 | East | Small Market | Caffe Mocha    | Beans  |\n| 9/1/12 00:00  | East | Small Market | Darjeeling     | Leaves |\n| 8/1/12 00:00  | East | Small Market | Decaf Espresso | Beans  |\n| 8/1/12 00:00  | East | Small Market | Darjeeling     | Leaves |\n| 7/1/12 00:00  | East | Small Market | Decaf Espresso | Beans  |\n| 7/1/12 00:00  | East | Small Market | Darjeeling     | Leaves |\n| 7/1/12 00:00  | East | Small Market | Colombian      | Beans  |\n| 6/1/12 00:00  | East | Small Market | Lemon          | Leaves |\n| 6/1/12 00:00  | East | Small Market | Green Tea      | Leaves |\n| 6/1/12 00:00  | East | Small Market | Caffe Mocha    | Beans  |\n| 5/1/12 00:00  | East | Small Market | Decaf Espresso | Beans  |\n| 4/1/12 00:00  | East | Small Market | Darjeeling     | Leaves |\n| 4/1/12 00:00  | East | Small Market | Colombian      | Beans  |\n| 3/1/12 00:00  | East | Small Market | Mint           | Leaves |\n| 3/1/12 00:00  | East | Small Market | Lemon          | Leaves |\n| 2/1/12 00:00  | East | Small Market | Decaf Espresso | Beans  |\n\n",
            "text/html": [
              "<table>\n",
              "<caption>A data.frame: 4248 × 5</caption>\n",
              "<thead>\n",
              "\t<tr><th scope=col>Date</th><th scope=col>Market</th><th scope=col>Market.Size</th><th scope=col>Product</th><th scope=col>Product.Line</th></tr>\n",
              "\t<tr><th scope=col>&lt;chr&gt;</th><th scope=col>&lt;chr&gt;</th><th scope=col>&lt;chr&gt;</th><th scope=col>&lt;chr&gt;</th><th scope=col>&lt;chr&gt;</th></tr>\n",
              "</thead>\n",
              "<tbody>\n",
              "\t<tr><td>12/1/13 00:00</td><td>South</td><td>Small Market</td><td>Colombian        </td><td>Beans </td></tr>\n",
              "\t<tr><td>12/1/13 00:00</td><td>South</td><td>Small Market</td><td>Chamomile        </td><td>Leaves</td></tr>\n",
              "\t<tr><td>11/1/13 00:00</td><td>South</td><td>Small Market</td><td>Chamomile        </td><td>Leaves</td></tr>\n",
              "\t<tr><td>10/1/13 00:00</td><td>South</td><td>Small Market</td><td>Decaf Irish Cream</td><td>Beans </td></tr>\n",
              "\t<tr><td>9/1/13 00:00 </td><td>South</td><td>Small Market</td><td>Lemon            </td><td>Leaves</td></tr>\n",
              "\t<tr><td>8/1/13 00:00 </td><td>South</td><td>Small Market</td><td>Decaf Irish Cream</td><td>Beans </td></tr>\n",
              "\t<tr><td>7/1/13 00:00 </td><td>South</td><td>Small Market</td><td>Lemon            </td><td>Leaves</td></tr>\n",
              "\t<tr><td>5/1/13 00:00 </td><td>South</td><td>Small Market</td><td>Chamomile        </td><td>Leaves</td></tr>\n",
              "\t<tr><td>5/1/13 00:00 </td><td>South</td><td>Small Market</td><td>Caffe Mocha      </td><td>Beans </td></tr>\n",
              "\t<tr><td>5/1/13 00:00 </td><td>South</td><td>Small Market</td><td>Caffe Latte      </td><td>Beans </td></tr>\n",
              "\t<tr><td>4/1/13 00:00 </td><td>South</td><td>Small Market</td><td>Caffe Latte      </td><td>Beans </td></tr>\n",
              "\t<tr><td>3/1/13 00:00 </td><td>South</td><td>Small Market</td><td>Decaf Irish Cream</td><td>Beans </td></tr>\n",
              "\t<tr><td>3/1/13 00:00 </td><td>South</td><td>Small Market</td><td>Decaf Espresso   </td><td>Beans </td></tr>\n",
              "\t<tr><td>2/1/13 00:00 </td><td>South</td><td>Small Market</td><td>Lemon            </td><td>Leaves</td></tr>\n",
              "\t<tr><td>2/1/13 00:00 </td><td>South</td><td>Small Market</td><td>Decaf Espresso   </td><td>Beans </td></tr>\n",
              "\t<tr><td>12/1/12 00:00</td><td>South</td><td>Small Market</td><td>Lemon            </td><td>Leaves</td></tr>\n",
              "\t<tr><td>12/1/12 00:00</td><td>South</td><td>Small Market</td><td>Caffe Mocha      </td><td>Beans </td></tr>\n",
              "\t<tr><td>12/1/12 00:00</td><td>South</td><td>Small Market</td><td>Caffe Latte      </td><td>Beans </td></tr>\n",
              "\t<tr><td>10/1/12 00:00</td><td>South</td><td>Small Market</td><td>Caffe Mocha      </td><td>Beans </td></tr>\n",
              "\t<tr><td>9/1/12 00:00 </td><td>South</td><td>Small Market</td><td>Decaf Espresso   </td><td>Beans </td></tr>\n",
              "\t<tr><td>9/1/12 00:00 </td><td>South</td><td>Small Market</td><td>Caffe Mocha      </td><td>Beans </td></tr>\n",
              "\t<tr><td>8/1/12 00:00 </td><td>South</td><td>Small Market</td><td>Lemon            </td><td>Leaves</td></tr>\n",
              "\t<tr><td>8/1/12 00:00 </td><td>South</td><td>Small Market</td><td>Caffe Latte      </td><td>Beans </td></tr>\n",
              "\t<tr><td>7/1/12 00:00 </td><td>South</td><td>Small Market</td><td>Caffe Latte      </td><td>Beans </td></tr>\n",
              "\t<tr><td>5/1/12 00:00 </td><td>South</td><td>Small Market</td><td>Chamomile        </td><td>Leaves</td></tr>\n",
              "\t<tr><td>5/1/12 00:00 </td><td>South</td><td>Small Market</td><td>Caffe Latte      </td><td>Beans </td></tr>\n",
              "\t<tr><td>4/1/12 00:00 </td><td>South</td><td>Small Market</td><td>Chamomile        </td><td>Leaves</td></tr>\n",
              "\t<tr><td>4/1/12 00:00 </td><td>South</td><td>Small Market</td><td>Caffe Latte      </td><td>Beans </td></tr>\n",
              "\t<tr><td>2/1/12 00:00 </td><td>South</td><td>Small Market</td><td>Decaf Espresso   </td><td>Beans </td></tr>\n",
              "\t<tr><td>1/1/12 00:00 </td><td>South</td><td>Small Market</td><td>Decaf Irish Cream</td><td>Beans </td></tr>\n",
              "\t<tr><td>⋮</td><td>⋮</td><td>⋮</td><td>⋮</td><td>⋮</td></tr>\n",
              "\t<tr><td>5/1/13 00:00 </td><td>East</td><td>Small Market</td><td>Mint          </td><td>Leaves</td></tr>\n",
              "\t<tr><td>5/1/13 00:00 </td><td>East</td><td>Small Market</td><td>Caffe Mocha   </td><td>Beans </td></tr>\n",
              "\t<tr><td>4/1/13 00:00 </td><td>East</td><td>Small Market</td><td>Lemon         </td><td>Leaves</td></tr>\n",
              "\t<tr><td>4/1/13 00:00 </td><td>East</td><td>Small Market</td><td>Caffe Mocha   </td><td>Beans </td></tr>\n",
              "\t<tr><td>3/1/13 00:00 </td><td>East</td><td>Small Market</td><td>Decaf Espresso</td><td>Beans </td></tr>\n",
              "\t<tr><td>3/1/13 00:00 </td><td>East</td><td>Small Market</td><td>Caffe Mocha   </td><td>Beans </td></tr>\n",
              "\t<tr><td>2/1/13 00:00 </td><td>East</td><td>Small Market</td><td>Mint          </td><td>Leaves</td></tr>\n",
              "\t<tr><td>2/1/13 00:00 </td><td>East</td><td>Small Market</td><td>Caffe Mocha   </td><td>Beans </td></tr>\n",
              "\t<tr><td>1/1/13 00:00 </td><td>East</td><td>Small Market</td><td>Decaf Espresso</td><td>Beans </td></tr>\n",
              "\t<tr><td>1/1/13 00:00 </td><td>East</td><td>Small Market</td><td>Caffe Mocha   </td><td>Beans </td></tr>\n",
              "\t<tr><td>12/1/12 00:00</td><td>East</td><td>Small Market</td><td>Colombian     </td><td>Beans </td></tr>\n",
              "\t<tr><td>11/1/12 00:00</td><td>East</td><td>Small Market</td><td>Green Tea     </td><td>Leaves</td></tr>\n",
              "\t<tr><td>11/1/12 00:00</td><td>East</td><td>Small Market</td><td>Colombian     </td><td>Beans </td></tr>\n",
              "\t<tr><td>11/1/12 00:00</td><td>East</td><td>Small Market</td><td>Caffe Mocha   </td><td>Beans </td></tr>\n",
              "\t<tr><td>10/1/12 00:00</td><td>East</td><td>Small Market</td><td>Caffe Mocha   </td><td>Beans </td></tr>\n",
              "\t<tr><td>9/1/12 00:00 </td><td>East</td><td>Small Market</td><td>Darjeeling    </td><td>Leaves</td></tr>\n",
              "\t<tr><td>8/1/12 00:00 </td><td>East</td><td>Small Market</td><td>Decaf Espresso</td><td>Beans </td></tr>\n",
              "\t<tr><td>8/1/12 00:00 </td><td>East</td><td>Small Market</td><td>Darjeeling    </td><td>Leaves</td></tr>\n",
              "\t<tr><td>7/1/12 00:00 </td><td>East</td><td>Small Market</td><td>Decaf Espresso</td><td>Beans </td></tr>\n",
              "\t<tr><td>7/1/12 00:00 </td><td>East</td><td>Small Market</td><td>Darjeeling    </td><td>Leaves</td></tr>\n",
              "\t<tr><td>7/1/12 00:00 </td><td>East</td><td>Small Market</td><td>Colombian     </td><td>Beans </td></tr>\n",
              "\t<tr><td>6/1/12 00:00 </td><td>East</td><td>Small Market</td><td>Lemon         </td><td>Leaves</td></tr>\n",
              "\t<tr><td>6/1/12 00:00 </td><td>East</td><td>Small Market</td><td>Green Tea     </td><td>Leaves</td></tr>\n",
              "\t<tr><td>6/1/12 00:00 </td><td>East</td><td>Small Market</td><td>Caffe Mocha   </td><td>Beans </td></tr>\n",
              "\t<tr><td>5/1/12 00:00 </td><td>East</td><td>Small Market</td><td>Decaf Espresso</td><td>Beans </td></tr>\n",
              "\t<tr><td>4/1/12 00:00 </td><td>East</td><td>Small Market</td><td>Darjeeling    </td><td>Leaves</td></tr>\n",
              "\t<tr><td>4/1/12 00:00 </td><td>East</td><td>Small Market</td><td>Colombian     </td><td>Beans </td></tr>\n",
              "\t<tr><td>3/1/12 00:00 </td><td>East</td><td>Small Market</td><td>Mint          </td><td>Leaves</td></tr>\n",
              "\t<tr><td>3/1/12 00:00 </td><td>East</td><td>Small Market</td><td>Lemon         </td><td>Leaves</td></tr>\n",
              "\t<tr><td>2/1/12 00:00 </td><td>East</td><td>Small Market</td><td>Decaf Espresso</td><td>Beans </td></tr>\n",
              "</tbody>\n",
              "</table>\n"
            ]
          },
          "metadata": {
            "tags": []
          }
        },
        {
          "output_type": "display_data",
          "data": {
            "text/plain": [
              "  Date          Market Market.Size  Product           Product.Line Product.Type\n",
              "1 12/1/13 00:00 South  Small Market Colombian         Beans        Coffee      \n",
              "2 12/1/13 00:00 South  Small Market Chamomile         Leaves       Herbal Tea  \n",
              "3 11/1/13 00:00 South  Small Market Chamomile         Leaves       Herbal Tea  \n",
              "4 10/1/13 00:00 South  Small Market Decaf Irish Cream Beans        Coffee      \n",
              "5 9/1/13 00:00  South  Small Market Lemon             Leaves       Herbal Tea  \n",
              "  State     Type    Inventory Marketing Profit Sales Total.Expenses\n",
              "1 Louisiana Regular 845       13         68    128   25            \n",
              "2 Louisiana Decaf   540       31        114    228   43            \n",
              "3 Louisiana Decaf   552       33        126    246   45            \n",
              "4 Louisiana Decaf   851       13         67    126   25            \n",
              "5 Louisiana Decaf   599       25         37    160   58            "
            ],
            "text/latex": "A data.frame: 5 × 13\n\\begin{tabular}{r|lllllllllllll}\n  & Date & Market & Market.Size & Product & Product.Line & Product.Type & State & Type & Inventory & Marketing & Profit & Sales & Total.Expenses\\\\\n  & <chr> & <chr> & <chr> & <chr> & <chr> & <chr> & <chr> & <chr> & <int> & <int> & <int> & <int> & <int>\\\\\n\\hline\n\t1 & 12/1/13 00:00 & South & Small Market & Colombian         & Beans  & Coffee     & Louisiana & Regular & 845 & 13 &  68 & 128 & 25\\\\\n\t2 & 12/1/13 00:00 & South & Small Market & Chamomile         & Leaves & Herbal Tea & Louisiana & Decaf   & 540 & 31 & 114 & 228 & 43\\\\\n\t3 & 11/1/13 00:00 & South & Small Market & Chamomile         & Leaves & Herbal Tea & Louisiana & Decaf   & 552 & 33 & 126 & 246 & 45\\\\\n\t4 & 10/1/13 00:00 & South & Small Market & Decaf Irish Cream & Beans  & Coffee     & Louisiana & Decaf   & 851 & 13 &  67 & 126 & 25\\\\\n\t5 & 9/1/13 00:00  & South & Small Market & Lemon             & Leaves & Herbal Tea & Louisiana & Decaf   & 599 & 25 &  37 & 160 & 58\\\\\n\\end{tabular}\n",
            "text/markdown": "\nA data.frame: 5 × 13\n\n| <!--/--> | Date &lt;chr&gt; | Market &lt;chr&gt; | Market.Size &lt;chr&gt; | Product &lt;chr&gt; | Product.Line &lt;chr&gt; | Product.Type &lt;chr&gt; | State &lt;chr&gt; | Type &lt;chr&gt; | Inventory &lt;int&gt; | Marketing &lt;int&gt; | Profit &lt;int&gt; | Sales &lt;int&gt; | Total.Expenses &lt;int&gt; |\n|---|---|---|---|---|---|---|---|---|---|---|---|---|---|\n| 1 | 12/1/13 00:00 | South | Small Market | Colombian         | Beans  | Coffee     | Louisiana | Regular | 845 | 13 |  68 | 128 | 25 |\n| 2 | 12/1/13 00:00 | South | Small Market | Chamomile         | Leaves | Herbal Tea | Louisiana | Decaf   | 540 | 31 | 114 | 228 | 43 |\n| 3 | 11/1/13 00:00 | South | Small Market | Chamomile         | Leaves | Herbal Tea | Louisiana | Decaf   | 552 | 33 | 126 | 246 | 45 |\n| 4 | 10/1/13 00:00 | South | Small Market | Decaf Irish Cream | Beans  | Coffee     | Louisiana | Decaf   | 851 | 13 |  67 | 126 | 25 |\n| 5 | 9/1/13 00:00  | South | Small Market | Lemon             | Leaves | Herbal Tea | Louisiana | Decaf   | 599 | 25 |  37 | 160 | 58 |\n\n",
            "text/html": [
              "<table>\n",
              "<caption>A data.frame: 5 × 13</caption>\n",
              "<thead>\n",
              "\t<tr><th></th><th scope=col>Date</th><th scope=col>Market</th><th scope=col>Market.Size</th><th scope=col>Product</th><th scope=col>Product.Line</th><th scope=col>Product.Type</th><th scope=col>State</th><th scope=col>Type</th><th scope=col>Inventory</th><th scope=col>Marketing</th><th scope=col>Profit</th><th scope=col>Sales</th><th scope=col>Total.Expenses</th></tr>\n",
              "\t<tr><th></th><th scope=col>&lt;chr&gt;</th><th scope=col>&lt;chr&gt;</th><th scope=col>&lt;chr&gt;</th><th scope=col>&lt;chr&gt;</th><th scope=col>&lt;chr&gt;</th><th scope=col>&lt;chr&gt;</th><th scope=col>&lt;chr&gt;</th><th scope=col>&lt;chr&gt;</th><th scope=col>&lt;int&gt;</th><th scope=col>&lt;int&gt;</th><th scope=col>&lt;int&gt;</th><th scope=col>&lt;int&gt;</th><th scope=col>&lt;int&gt;</th></tr>\n",
              "</thead>\n",
              "<tbody>\n",
              "\t<tr><th scope=row>1</th><td>12/1/13 00:00</td><td>South</td><td>Small Market</td><td>Colombian        </td><td>Beans </td><td>Coffee    </td><td>Louisiana</td><td>Regular</td><td>845</td><td>13</td><td> 68</td><td>128</td><td>25</td></tr>\n",
              "\t<tr><th scope=row>2</th><td>12/1/13 00:00</td><td>South</td><td>Small Market</td><td>Chamomile        </td><td>Leaves</td><td>Herbal Tea</td><td>Louisiana</td><td>Decaf  </td><td>540</td><td>31</td><td>114</td><td>228</td><td>43</td></tr>\n",
              "\t<tr><th scope=row>3</th><td>11/1/13 00:00</td><td>South</td><td>Small Market</td><td>Chamomile        </td><td>Leaves</td><td>Herbal Tea</td><td>Louisiana</td><td>Decaf  </td><td>552</td><td>33</td><td>126</td><td>246</td><td>45</td></tr>\n",
              "\t<tr><th scope=row>4</th><td>10/1/13 00:00</td><td>South</td><td>Small Market</td><td>Decaf Irish Cream</td><td>Beans </td><td>Coffee    </td><td>Louisiana</td><td>Decaf  </td><td>851</td><td>13</td><td> 67</td><td>126</td><td>25</td></tr>\n",
              "\t<tr><th scope=row>5</th><td>9/1/13 00:00 </td><td>South</td><td>Small Market</td><td>Lemon            </td><td>Leaves</td><td>Herbal Tea</td><td>Louisiana</td><td>Decaf  </td><td>599</td><td>25</td><td> 37</td><td>160</td><td>58</td></tr>\n",
              "</tbody>\n",
              "</table>\n"
            ]
          },
          "metadata": {
            "tags": []
          }
        },
        {
          "output_type": "error",
          "ename": "ERROR",
          "evalue": "ignored",
          "traceback": [
            "Error in eval(expr, envir, enclos): object 'datat' not found\nTraceback:\n"
          ]
        }
      ]
    },
    {
      "cell_type": "code",
      "metadata": {
        "id": "ymUkBbpXafdZ",
        "colab_type": "code",
        "colab": {
          "base_uri": "https://localhost:8080/",
          "height": 551
        },
        "outputId": "70a1a2e8-1424-4f20-d6a2-2fb34cec9342"
      },
      "source": [
        "subset = data[1:5, c(\"Market\", \"State\", \"Inventory\")]\n",
        "subset\n",
        "#Add a new row\n",
        "subset = rbind(subset, data.frame(\"Market\"=\"North\", \"State\" = \"NY\", \"Inventory\"= 2500))\n",
        "subset\n",
        "#Add a new column (values must match number of rows)\n",
        "subset = cbind(subset, Code=c(1,2,3,4,5,6))\n",
        "subset"
      ],
      "execution_count": 70,
      "outputs": [
        {
          "output_type": "display_data",
          "data": {
            "text/plain": [
              "  Market State     Inventory\n",
              "1 South  Louisiana 845      \n",
              "2 South  Louisiana 540      \n",
              "3 South  Louisiana 552      \n",
              "4 South  Louisiana 851      \n",
              "5 South  Louisiana 599      "
            ],
            "text/latex": "A data.frame: 5 × 3\n\\begin{tabular}{r|lll}\n  & Market & State & Inventory\\\\\n  & <chr> & <chr> & <int>\\\\\n\\hline\n\t1 & South & Louisiana & 845\\\\\n\t2 & South & Louisiana & 540\\\\\n\t3 & South & Louisiana & 552\\\\\n\t4 & South & Louisiana & 851\\\\\n\t5 & South & Louisiana & 599\\\\\n\\end{tabular}\n",
            "text/markdown": "\nA data.frame: 5 × 3\n\n| <!--/--> | Market &lt;chr&gt; | State &lt;chr&gt; | Inventory &lt;int&gt; |\n|---|---|---|---|\n| 1 | South | Louisiana | 845 |\n| 2 | South | Louisiana | 540 |\n| 3 | South | Louisiana | 552 |\n| 4 | South | Louisiana | 851 |\n| 5 | South | Louisiana | 599 |\n\n",
            "text/html": [
              "<table>\n",
              "<caption>A data.frame: 5 × 3</caption>\n",
              "<thead>\n",
              "\t<tr><th></th><th scope=col>Market</th><th scope=col>State</th><th scope=col>Inventory</th></tr>\n",
              "\t<tr><th></th><th scope=col>&lt;chr&gt;</th><th scope=col>&lt;chr&gt;</th><th scope=col>&lt;int&gt;</th></tr>\n",
              "</thead>\n",
              "<tbody>\n",
              "\t<tr><th scope=row>1</th><td>South</td><td>Louisiana</td><td>845</td></tr>\n",
              "\t<tr><th scope=row>2</th><td>South</td><td>Louisiana</td><td>540</td></tr>\n",
              "\t<tr><th scope=row>3</th><td>South</td><td>Louisiana</td><td>552</td></tr>\n",
              "\t<tr><th scope=row>4</th><td>South</td><td>Louisiana</td><td>851</td></tr>\n",
              "\t<tr><th scope=row>5</th><td>South</td><td>Louisiana</td><td>599</td></tr>\n",
              "</tbody>\n",
              "</table>\n"
            ]
          },
          "metadata": {
            "tags": []
          }
        },
        {
          "output_type": "display_data",
          "data": {
            "text/plain": [
              "  Market State     Inventory\n",
              "1 South  Louisiana  845     \n",
              "2 South  Louisiana  540     \n",
              "3 South  Louisiana  552     \n",
              "4 South  Louisiana  851     \n",
              "5 South  Louisiana  599     \n",
              "6 North  NY        2500     "
            ],
            "text/latex": "A data.frame: 6 × 3\n\\begin{tabular}{lll}\n Market & State & Inventory\\\\\n <chr> & <chr> & <dbl>\\\\\n\\hline\n\t South & Louisiana &  845\\\\\n\t South & Louisiana &  540\\\\\n\t South & Louisiana &  552\\\\\n\t South & Louisiana &  851\\\\\n\t South & Louisiana &  599\\\\\n\t North & NY        & 2500\\\\\n\\end{tabular}\n",
            "text/markdown": "\nA data.frame: 6 × 3\n\n| Market &lt;chr&gt; | State &lt;chr&gt; | Inventory &lt;dbl&gt; |\n|---|---|---|\n| South | Louisiana |  845 |\n| South | Louisiana |  540 |\n| South | Louisiana |  552 |\n| South | Louisiana |  851 |\n| South | Louisiana |  599 |\n| North | NY        | 2500 |\n\n",
            "text/html": [
              "<table>\n",
              "<caption>A data.frame: 6 × 3</caption>\n",
              "<thead>\n",
              "\t<tr><th scope=col>Market</th><th scope=col>State</th><th scope=col>Inventory</th></tr>\n",
              "\t<tr><th scope=col>&lt;chr&gt;</th><th scope=col>&lt;chr&gt;</th><th scope=col>&lt;dbl&gt;</th></tr>\n",
              "</thead>\n",
              "<tbody>\n",
              "\t<tr><td>South</td><td>Louisiana</td><td> 845</td></tr>\n",
              "\t<tr><td>South</td><td>Louisiana</td><td> 540</td></tr>\n",
              "\t<tr><td>South</td><td>Louisiana</td><td> 552</td></tr>\n",
              "\t<tr><td>South</td><td>Louisiana</td><td> 851</td></tr>\n",
              "\t<tr><td>South</td><td>Louisiana</td><td> 599</td></tr>\n",
              "\t<tr><td>North</td><td>NY       </td><td>2500</td></tr>\n",
              "</tbody>\n",
              "</table>\n"
            ]
          },
          "metadata": {
            "tags": []
          }
        },
        {
          "output_type": "display_data",
          "data": {
            "text/plain": [
              "  Market State     Inventory Code\n",
              "1 South  Louisiana  845      1   \n",
              "2 South  Louisiana  540      2   \n",
              "3 South  Louisiana  552      3   \n",
              "4 South  Louisiana  851      4   \n",
              "5 South  Louisiana  599      5   \n",
              "6 North  NY        2500      6   "
            ],
            "text/latex": "A data.frame: 6 × 4\n\\begin{tabular}{llll}\n Market & State & Inventory & Code\\\\\n <chr> & <chr> & <dbl> & <dbl>\\\\\n\\hline\n\t South & Louisiana &  845 & 1\\\\\n\t South & Louisiana &  540 & 2\\\\\n\t South & Louisiana &  552 & 3\\\\\n\t South & Louisiana &  851 & 4\\\\\n\t South & Louisiana &  599 & 5\\\\\n\t North & NY        & 2500 & 6\\\\\n\\end{tabular}\n",
            "text/markdown": "\nA data.frame: 6 × 4\n\n| Market &lt;chr&gt; | State &lt;chr&gt; | Inventory &lt;dbl&gt; | Code &lt;dbl&gt; |\n|---|---|---|---|\n| South | Louisiana |  845 | 1 |\n| South | Louisiana |  540 | 2 |\n| South | Louisiana |  552 | 3 |\n| South | Louisiana |  851 | 4 |\n| South | Louisiana |  599 | 5 |\n| North | NY        | 2500 | 6 |\n\n",
            "text/html": [
              "<table>\n",
              "<caption>A data.frame: 6 × 4</caption>\n",
              "<thead>\n",
              "\t<tr><th scope=col>Market</th><th scope=col>State</th><th scope=col>Inventory</th><th scope=col>Code</th></tr>\n",
              "\t<tr><th scope=col>&lt;chr&gt;</th><th scope=col>&lt;chr&gt;</th><th scope=col>&lt;dbl&gt;</th><th scope=col>&lt;dbl&gt;</th></tr>\n",
              "</thead>\n",
              "<tbody>\n",
              "\t<tr><td>South</td><td>Louisiana</td><td> 845</td><td>1</td></tr>\n",
              "\t<tr><td>South</td><td>Louisiana</td><td> 540</td><td>2</td></tr>\n",
              "\t<tr><td>South</td><td>Louisiana</td><td> 552</td><td>3</td></tr>\n",
              "\t<tr><td>South</td><td>Louisiana</td><td> 851</td><td>4</td></tr>\n",
              "\t<tr><td>South</td><td>Louisiana</td><td> 599</td><td>5</td></tr>\n",
              "\t<tr><td>North</td><td>NY       </td><td>2500</td><td>6</td></tr>\n",
              "</tbody>\n",
              "</table>\n"
            ]
          },
          "metadata": {
            "tags": []
          }
        }
      ]
    },
    {
      "cell_type": "code",
      "metadata": {
        "id": "yK9pAcq5cTHG",
        "colab_type": "code",
        "colab": {
          "base_uri": "https://localhost:8080/",
          "height": 202
        },
        "outputId": "37279808-3189-40fb-895e-41c4082cb909"
      },
      "source": [
        "#Another more direct way to add a column\n",
        "subset$Code2 = c(10, 11, 12, 13, 14, 15)\n",
        "subset"
      ],
      "execution_count": 71,
      "outputs": [
        {
          "output_type": "display_data",
          "data": {
            "text/plain": [
              "  Market State     Inventory Code Code2\n",
              "1 South  Louisiana  845      1    10   \n",
              "2 South  Louisiana  540      2    11   \n",
              "3 South  Louisiana  552      3    12   \n",
              "4 South  Louisiana  851      4    13   \n",
              "5 South  Louisiana  599      5    14   \n",
              "6 North  NY        2500      6    15   "
            ],
            "text/latex": "A data.frame: 6 × 5\n\\begin{tabular}{lllll}\n Market & State & Inventory & Code & Code2\\\\\n <chr> & <chr> & <dbl> & <dbl> & <dbl>\\\\\n\\hline\n\t South & Louisiana &  845 & 1 & 10\\\\\n\t South & Louisiana &  540 & 2 & 11\\\\\n\t South & Louisiana &  552 & 3 & 12\\\\\n\t South & Louisiana &  851 & 4 & 13\\\\\n\t South & Louisiana &  599 & 5 & 14\\\\\n\t North & NY        & 2500 & 6 & 15\\\\\n\\end{tabular}\n",
            "text/markdown": "\nA data.frame: 6 × 5\n\n| Market &lt;chr&gt; | State &lt;chr&gt; | Inventory &lt;dbl&gt; | Code &lt;dbl&gt; | Code2 &lt;dbl&gt; |\n|---|---|---|---|---|\n| South | Louisiana |  845 | 1 | 10 |\n| South | Louisiana |  540 | 2 | 11 |\n| South | Louisiana |  552 | 3 | 12 |\n| South | Louisiana |  851 | 4 | 13 |\n| South | Louisiana |  599 | 5 | 14 |\n| North | NY        | 2500 | 6 | 15 |\n\n",
            "text/html": [
              "<table>\n",
              "<caption>A data.frame: 6 × 5</caption>\n",
              "<thead>\n",
              "\t<tr><th scope=col>Market</th><th scope=col>State</th><th scope=col>Inventory</th><th scope=col>Code</th><th scope=col>Code2</th></tr>\n",
              "\t<tr><th scope=col>&lt;chr&gt;</th><th scope=col>&lt;chr&gt;</th><th scope=col>&lt;dbl&gt;</th><th scope=col>&lt;dbl&gt;</th><th scope=col>&lt;dbl&gt;</th></tr>\n",
              "</thead>\n",
              "<tbody>\n",
              "\t<tr><td>South</td><td>Louisiana</td><td> 845</td><td>1</td><td>10</td></tr>\n",
              "\t<tr><td>South</td><td>Louisiana</td><td> 540</td><td>2</td><td>11</td></tr>\n",
              "\t<tr><td>South</td><td>Louisiana</td><td> 552</td><td>3</td><td>12</td></tr>\n",
              "\t<tr><td>South</td><td>Louisiana</td><td> 851</td><td>4</td><td>13</td></tr>\n",
              "\t<tr><td>South</td><td>Louisiana</td><td> 599</td><td>5</td><td>14</td></tr>\n",
              "\t<tr><td>North</td><td>NY       </td><td>2500</td><td>6</td><td>15</td></tr>\n",
              "</tbody>\n",
              "</table>\n"
            ]
          },
          "metadata": {
            "tags": []
          }
        }
      ]
    },
    {
      "cell_type": "code",
      "metadata": {
        "id": "EgpTt5NfckEZ",
        "colab_type": "code",
        "colab": {
          "base_uri": "https://localhost:8080/",
          "height": 202
        },
        "outputId": "3ae34f74-4c97-4172-dfc7-bfec586ad455"
      },
      "source": [
        "#Remove columns\n",
        "subset = subset[-2]\n",
        "subset"
      ],
      "execution_count": 72,
      "outputs": [
        {
          "output_type": "display_data",
          "data": {
            "text/plain": [
              "  Market Inventory Code Code2\n",
              "1 South   845      1    10   \n",
              "2 South   540      2    11   \n",
              "3 South   552      3    12   \n",
              "4 South   851      4    13   \n",
              "5 South   599      5    14   \n",
              "6 North  2500      6    15   "
            ],
            "text/latex": "A data.frame: 6 × 4\n\\begin{tabular}{llll}\n Market & Inventory & Code & Code2\\\\\n <chr> & <dbl> & <dbl> & <dbl>\\\\\n\\hline\n\t South &  845 & 1 & 10\\\\\n\t South &  540 & 2 & 11\\\\\n\t South &  552 & 3 & 12\\\\\n\t South &  851 & 4 & 13\\\\\n\t South &  599 & 5 & 14\\\\\n\t North & 2500 & 6 & 15\\\\\n\\end{tabular}\n",
            "text/markdown": "\nA data.frame: 6 × 4\n\n| Market &lt;chr&gt; | Inventory &lt;dbl&gt; | Code &lt;dbl&gt; | Code2 &lt;dbl&gt; |\n|---|---|---|---|\n| South |  845 | 1 | 10 |\n| South |  540 | 2 | 11 |\n| South |  552 | 3 | 12 |\n| South |  851 | 4 | 13 |\n| South |  599 | 5 | 14 |\n| North | 2500 | 6 | 15 |\n\n",
            "text/html": [
              "<table>\n",
              "<caption>A data.frame: 6 × 4</caption>\n",
              "<thead>\n",
              "\t<tr><th scope=col>Market</th><th scope=col>Inventory</th><th scope=col>Code</th><th scope=col>Code2</th></tr>\n",
              "\t<tr><th scope=col>&lt;chr&gt;</th><th scope=col>&lt;dbl&gt;</th><th scope=col>&lt;dbl&gt;</th><th scope=col>&lt;dbl&gt;</th></tr>\n",
              "</thead>\n",
              "<tbody>\n",
              "\t<tr><td>South</td><td> 845</td><td>1</td><td>10</td></tr>\n",
              "\t<tr><td>South</td><td> 540</td><td>2</td><td>11</td></tr>\n",
              "\t<tr><td>South</td><td> 552</td><td>3</td><td>12</td></tr>\n",
              "\t<tr><td>South</td><td> 851</td><td>4</td><td>13</td></tr>\n",
              "\t<tr><td>South</td><td> 599</td><td>5</td><td>14</td></tr>\n",
              "\t<tr><td>North</td><td>2500</td><td>6</td><td>15</td></tr>\n",
              "</tbody>\n",
              "</table>\n"
            ]
          },
          "metadata": {
            "tags": []
          }
        }
      ]
    },
    {
      "cell_type": "code",
      "metadata": {
        "id": "gC6SuGqMcoqm",
        "colab_type": "code",
        "colab": {
          "base_uri": "https://localhost:8080/",
          "height": 181
        },
        "outputId": "3102a5c5-2c89-4c67-b09b-e040fd86fe09"
      },
      "source": [
        "#Remove rows\n",
        "subset = subset[-2,]\n",
        "subset"
      ],
      "execution_count": 73,
      "outputs": [
        {
          "output_type": "display_data",
          "data": {
            "text/plain": [
              "  Market Inventory Code Code2\n",
              "1 South   845      1    10   \n",
              "3 South   552      3    12   \n",
              "4 South   851      4    13   \n",
              "5 South   599      5    14   \n",
              "6 North  2500      6    15   "
            ],
            "text/latex": "A data.frame: 5 × 4\n\\begin{tabular}{r|llll}\n  & Market & Inventory & Code & Code2\\\\\n  & <chr> & <dbl> & <dbl> & <dbl>\\\\\n\\hline\n\t1 & South &  845 & 1 & 10\\\\\n\t3 & South &  552 & 3 & 12\\\\\n\t4 & South &  851 & 4 & 13\\\\\n\t5 & South &  599 & 5 & 14\\\\\n\t6 & North & 2500 & 6 & 15\\\\\n\\end{tabular}\n",
            "text/markdown": "\nA data.frame: 5 × 4\n\n| <!--/--> | Market &lt;chr&gt; | Inventory &lt;dbl&gt; | Code &lt;dbl&gt; | Code2 &lt;dbl&gt; |\n|---|---|---|---|---|\n| 1 | South |  845 | 1 | 10 |\n| 3 | South |  552 | 3 | 12 |\n| 4 | South |  851 | 4 | 13 |\n| 5 | South |  599 | 5 | 14 |\n| 6 | North | 2500 | 6 | 15 |\n\n",
            "text/html": [
              "<table>\n",
              "<caption>A data.frame: 5 × 4</caption>\n",
              "<thead>\n",
              "\t<tr><th></th><th scope=col>Market</th><th scope=col>Inventory</th><th scope=col>Code</th><th scope=col>Code2</th></tr>\n",
              "\t<tr><th></th><th scope=col>&lt;chr&gt;</th><th scope=col>&lt;dbl&gt;</th><th scope=col>&lt;dbl&gt;</th><th scope=col>&lt;dbl&gt;</th></tr>\n",
              "</thead>\n",
              "<tbody>\n",
              "\t<tr><th scope=row>1</th><td>South</td><td> 845</td><td>1</td><td>10</td></tr>\n",
              "\t<tr><th scope=row>3</th><td>South</td><td> 552</td><td>3</td><td>12</td></tr>\n",
              "\t<tr><th scope=row>4</th><td>South</td><td> 851</td><td>4</td><td>13</td></tr>\n",
              "\t<tr><th scope=row>5</th><td>South</td><td> 599</td><td>5</td><td>14</td></tr>\n",
              "\t<tr><th scope=row>6</th><td>North</td><td>2500</td><td>6</td><td>15</td></tr>\n",
              "</tbody>\n",
              "</table>\n"
            ]
          },
          "metadata": {
            "tags": []
          }
        }
      ]
    },
    {
      "cell_type": "code",
      "metadata": {
        "id": "7iCJt41TdEyw",
        "colab_type": "code",
        "colab": {
          "base_uri": "https://localhost:8080/",
          "height": 99
        },
        "outputId": "e8ba3e21-ad32-4daa-814e-0ac01382b6a3"
      },
      "source": [
        "subset(subset, subset$Inventory > 1000)"
      ],
      "execution_count": 76,
      "outputs": [
        {
          "output_type": "display_data",
          "data": {
            "text/plain": [
              "  Market Inventory Code Code2\n",
              "6 North  2500      6    15   "
            ],
            "text/latex": "A data.frame: 1 × 4\n\\begin{tabular}{r|llll}\n  & Market & Inventory & Code & Code2\\\\\n  & <chr> & <dbl> & <dbl> & <dbl>\\\\\n\\hline\n\t6 & North & 2500 & 6 & 15\\\\\n\\end{tabular}\n",
            "text/markdown": "\nA data.frame: 1 × 4\n\n| <!--/--> | Market &lt;chr&gt; | Inventory &lt;dbl&gt; | Code &lt;dbl&gt; | Code2 &lt;dbl&gt; |\n|---|---|---|---|---|\n| 6 | North | 2500 | 6 | 15 |\n\n",
            "text/html": [
              "<table>\n",
              "<caption>A data.frame: 1 × 4</caption>\n",
              "<thead>\n",
              "\t<tr><th></th><th scope=col>Market</th><th scope=col>Inventory</th><th scope=col>Code</th><th scope=col>Code2</th></tr>\n",
              "\t<tr><th></th><th scope=col>&lt;chr&gt;</th><th scope=col>&lt;dbl&gt;</th><th scope=col>&lt;dbl&gt;</th><th scope=col>&lt;dbl&gt;</th></tr>\n",
              "</thead>\n",
              "<tbody>\n",
              "\t<tr><th scope=row>6</th><td>North</td><td>2500</td><td>6</td><td>15</td></tr>\n",
              "</tbody>\n",
              "</table>\n"
            ]
          },
          "metadata": {
            "tags": []
          }
        }
      ]
    },
    {
      "cell_type": "code",
      "metadata": {
        "id": "ZqhSPZZtdunz",
        "colab_type": "code",
        "colab": {
          "base_uri": "https://localhost:8080/",
          "height": 509
        },
        "outputId": "8f5b9b81-ede5-489a-fac3-a8d30735b8b8"
      },
      "source": [
        "#Sort by lines\n",
        "subset[order(subset$Inventory),]  #Asc\n",
        "subset[order(-subset$Inventory),]  #Desc\n",
        "subset[order(subset$Market, subset$Code),]  #Desc"
      ],
      "execution_count": 80,
      "outputs": [
        {
          "output_type": "display_data",
          "data": {
            "text/plain": [
              "  Market Inventory Code Code2\n",
              "3 South   552      3    12   \n",
              "5 South   599      5    14   \n",
              "1 South   845      1    10   \n",
              "4 South   851      4    13   \n",
              "6 North  2500      6    15   "
            ],
            "text/latex": "A data.frame: 5 × 4\n\\begin{tabular}{r|llll}\n  & Market & Inventory & Code & Code2\\\\\n  & <chr> & <dbl> & <dbl> & <dbl>\\\\\n\\hline\n\t3 & South &  552 & 3 & 12\\\\\n\t5 & South &  599 & 5 & 14\\\\\n\t1 & South &  845 & 1 & 10\\\\\n\t4 & South &  851 & 4 & 13\\\\\n\t6 & North & 2500 & 6 & 15\\\\\n\\end{tabular}\n",
            "text/markdown": "\nA data.frame: 5 × 4\n\n| <!--/--> | Market &lt;chr&gt; | Inventory &lt;dbl&gt; | Code &lt;dbl&gt; | Code2 &lt;dbl&gt; |\n|---|---|---|---|---|\n| 3 | South |  552 | 3 | 12 |\n| 5 | South |  599 | 5 | 14 |\n| 1 | South |  845 | 1 | 10 |\n| 4 | South |  851 | 4 | 13 |\n| 6 | North | 2500 | 6 | 15 |\n\n",
            "text/html": [
              "<table>\n",
              "<caption>A data.frame: 5 × 4</caption>\n",
              "<thead>\n",
              "\t<tr><th></th><th scope=col>Market</th><th scope=col>Inventory</th><th scope=col>Code</th><th scope=col>Code2</th></tr>\n",
              "\t<tr><th></th><th scope=col>&lt;chr&gt;</th><th scope=col>&lt;dbl&gt;</th><th scope=col>&lt;dbl&gt;</th><th scope=col>&lt;dbl&gt;</th></tr>\n",
              "</thead>\n",
              "<tbody>\n",
              "\t<tr><th scope=row>3</th><td>South</td><td> 552</td><td>3</td><td>12</td></tr>\n",
              "\t<tr><th scope=row>5</th><td>South</td><td> 599</td><td>5</td><td>14</td></tr>\n",
              "\t<tr><th scope=row>1</th><td>South</td><td> 845</td><td>1</td><td>10</td></tr>\n",
              "\t<tr><th scope=row>4</th><td>South</td><td> 851</td><td>4</td><td>13</td></tr>\n",
              "\t<tr><th scope=row>6</th><td>North</td><td>2500</td><td>6</td><td>15</td></tr>\n",
              "</tbody>\n",
              "</table>\n"
            ]
          },
          "metadata": {
            "tags": []
          }
        },
        {
          "output_type": "display_data",
          "data": {
            "text/plain": [
              "  Market Inventory Code Code2\n",
              "6 North  2500      6    15   \n",
              "4 South   851      4    13   \n",
              "1 South   845      1    10   \n",
              "5 South   599      5    14   \n",
              "3 South   552      3    12   "
            ],
            "text/latex": "A data.frame: 5 × 4\n\\begin{tabular}{r|llll}\n  & Market & Inventory & Code & Code2\\\\\n  & <chr> & <dbl> & <dbl> & <dbl>\\\\\n\\hline\n\t6 & North & 2500 & 6 & 15\\\\\n\t4 & South &  851 & 4 & 13\\\\\n\t1 & South &  845 & 1 & 10\\\\\n\t5 & South &  599 & 5 & 14\\\\\n\t3 & South &  552 & 3 & 12\\\\\n\\end{tabular}\n",
            "text/markdown": "\nA data.frame: 5 × 4\n\n| <!--/--> | Market &lt;chr&gt; | Inventory &lt;dbl&gt; | Code &lt;dbl&gt; | Code2 &lt;dbl&gt; |\n|---|---|---|---|---|\n| 6 | North | 2500 | 6 | 15 |\n| 4 | South |  851 | 4 | 13 |\n| 1 | South |  845 | 1 | 10 |\n| 5 | South |  599 | 5 | 14 |\n| 3 | South |  552 | 3 | 12 |\n\n",
            "text/html": [
              "<table>\n",
              "<caption>A data.frame: 5 × 4</caption>\n",
              "<thead>\n",
              "\t<tr><th></th><th scope=col>Market</th><th scope=col>Inventory</th><th scope=col>Code</th><th scope=col>Code2</th></tr>\n",
              "\t<tr><th></th><th scope=col>&lt;chr&gt;</th><th scope=col>&lt;dbl&gt;</th><th scope=col>&lt;dbl&gt;</th><th scope=col>&lt;dbl&gt;</th></tr>\n",
              "</thead>\n",
              "<tbody>\n",
              "\t<tr><th scope=row>6</th><td>North</td><td>2500</td><td>6</td><td>15</td></tr>\n",
              "\t<tr><th scope=row>4</th><td>South</td><td> 851</td><td>4</td><td>13</td></tr>\n",
              "\t<tr><th scope=row>1</th><td>South</td><td> 845</td><td>1</td><td>10</td></tr>\n",
              "\t<tr><th scope=row>5</th><td>South</td><td> 599</td><td>5</td><td>14</td></tr>\n",
              "\t<tr><th scope=row>3</th><td>South</td><td> 552</td><td>3</td><td>12</td></tr>\n",
              "</tbody>\n",
              "</table>\n"
            ]
          },
          "metadata": {
            "tags": []
          }
        },
        {
          "output_type": "display_data",
          "data": {
            "text/plain": [
              "  Market Inventory Code Code2\n",
              "6 North  2500      6    15   \n",
              "1 South   845      1    10   \n",
              "3 South   552      3    12   \n",
              "4 South   851      4    13   \n",
              "5 South   599      5    14   "
            ],
            "text/latex": "A data.frame: 5 × 4\n\\begin{tabular}{r|llll}\n  & Market & Inventory & Code & Code2\\\\\n  & <chr> & <dbl> & <dbl> & <dbl>\\\\\n\\hline\n\t6 & North & 2500 & 6 & 15\\\\\n\t1 & South &  845 & 1 & 10\\\\\n\t3 & South &  552 & 3 & 12\\\\\n\t4 & South &  851 & 4 & 13\\\\\n\t5 & South &  599 & 5 & 14\\\\\n\\end{tabular}\n",
            "text/markdown": "\nA data.frame: 5 × 4\n\n| <!--/--> | Market &lt;chr&gt; | Inventory &lt;dbl&gt; | Code &lt;dbl&gt; | Code2 &lt;dbl&gt; |\n|---|---|---|---|---|\n| 6 | North | 2500 | 6 | 15 |\n| 1 | South |  845 | 1 | 10 |\n| 3 | South |  552 | 3 | 12 |\n| 4 | South |  851 | 4 | 13 |\n| 5 | South |  599 | 5 | 14 |\n\n",
            "text/html": [
              "<table>\n",
              "<caption>A data.frame: 5 × 4</caption>\n",
              "<thead>\n",
              "\t<tr><th></th><th scope=col>Market</th><th scope=col>Inventory</th><th scope=col>Code</th><th scope=col>Code2</th></tr>\n",
              "\t<tr><th></th><th scope=col>&lt;chr&gt;</th><th scope=col>&lt;dbl&gt;</th><th scope=col>&lt;dbl&gt;</th><th scope=col>&lt;dbl&gt;</th></tr>\n",
              "</thead>\n",
              "<tbody>\n",
              "\t<tr><th scope=row>6</th><td>North</td><td>2500</td><td>6</td><td>15</td></tr>\n",
              "\t<tr><th scope=row>1</th><td>South</td><td> 845</td><td>1</td><td>10</td></tr>\n",
              "\t<tr><th scope=row>3</th><td>South</td><td> 552</td><td>3</td><td>12</td></tr>\n",
              "\t<tr><th scope=row>4</th><td>South</td><td> 851</td><td>4</td><td>13</td></tr>\n",
              "\t<tr><th scope=row>5</th><td>South</td><td> 599</td><td>5</td><td>14</td></tr>\n",
              "</tbody>\n",
              "</table>\n"
            ]
          },
          "metadata": {
            "tags": []
          }
        }
      ]
    },
    {
      "cell_type": "code",
      "metadata": {
        "id": "q0AYbO--eZVP",
        "colab_type": "code",
        "colab": {}
      },
      "source": [
        "write.csv(subset, \"output.csv\", row.names = FALSE, quote = FALSE) #no row names, no quotes"
      ],
      "execution_count": 0,
      "outputs": []
    },
    {
      "cell_type": "code",
      "metadata": {
        "id": "7JZePpIufEFJ",
        "colab_type": "code",
        "colab": {
          "base_uri": "https://localhost:8080/",
          "height": 52
        },
        "outputId": "acd5d0b3-dcf2-43bb-a62c-dead89c1dc22"
      },
      "source": [
        "NA\n",
        "NULL"
      ],
      "execution_count": 84,
      "outputs": [
        {
          "output_type": "display_data",
          "data": {
            "text/plain": [
              "[1] NA"
            ],
            "text/latex": "<NA>",
            "text/markdown": "&lt;NA&gt;",
            "text/html": [
              "&lt;NA&gt;"
            ]
          },
          "metadata": {
            "tags": []
          }
        },
        {
          "output_type": "display_data",
          "data": {
            "text/plain": [
              "NULL"
            ]
          },
          "metadata": {
            "tags": []
          }
        }
      ]
    },
    {
      "cell_type": "code",
      "metadata": {
        "id": "QB2gFXmlfGkl",
        "colab_type": "code",
        "colab": {
          "base_uri": "https://localhost:8080/",
          "height": 87
        },
        "outputId": "43687791-5441-40c3-e9de-45be57e9b56a"
      },
      "source": [
        "x = c(1,2,3, NA)\n",
        "x\n",
        "is.na(x)\n",
        "sum(is.na(x))\n",
        "na.omit(x)"
      ],
      "execution_count": 101,
      "outputs": [
        {
          "output_type": "display_data",
          "data": {
            "text/plain": [
              "[1]  1  2  3 NA"
            ],
            "text/latex": "\\begin{enumerate*}\n\\item 1\n\\item 2\n\\item 3\n\\item <NA>\n\\end{enumerate*}\n",
            "text/markdown": "1. 1\n2. 2\n3. 3\n4. &lt;NA&gt;\n\n\n",
            "text/html": [
              "<style>\n",
              ".list-inline {list-style: none; margin:0; padding: 0}\n",
              ".list-inline>li {display: inline-block}\n",
              ".list-inline>li:not(:last-child)::after {content: \"\\00b7\"; padding: 0 .5ex}\n",
              "</style>\n",
              "<ol class=list-inline><li>1</li><li>2</li><li>3</li><li>&lt;NA&gt;</li></ol>\n"
            ]
          },
          "metadata": {
            "tags": []
          }
        },
        {
          "output_type": "display_data",
          "data": {
            "text/plain": [
              "[1] FALSE FALSE FALSE  TRUE"
            ],
            "text/latex": "\\begin{enumerate*}\n\\item FALSE\n\\item FALSE\n\\item FALSE\n\\item TRUE\n\\end{enumerate*}\n",
            "text/markdown": "1. FALSE\n2. FALSE\n3. FALSE\n4. TRUE\n\n\n",
            "text/html": [
              "<style>\n",
              ".list-inline {list-style: none; margin:0; padding: 0}\n",
              ".list-inline>li {display: inline-block}\n",
              ".list-inline>li:not(:last-child)::after {content: \"\\00b7\"; padding: 0 .5ex}\n",
              "</style>\n",
              "<ol class=list-inline><li>FALSE</li><li>FALSE</li><li>FALSE</li><li>TRUE</li></ol>\n"
            ]
          },
          "metadata": {
            "tags": []
          }
        },
        {
          "output_type": "display_data",
          "data": {
            "text/plain": [
              "[1] 1"
            ],
            "text/latex": "1",
            "text/markdown": "1",
            "text/html": [
              "1"
            ]
          },
          "metadata": {
            "tags": []
          }
        },
        {
          "output_type": "display_data",
          "data": {
            "text/plain": [
              "[1] 1 2 3\n",
              "attr(,\"na.action\")\n",
              "[1] 4\n",
              "attr(,\"class\")\n",
              "[1] \"omit\""
            ],
            "text/latex": "\\begin{enumerate*}\n\\item 1\n\\item 2\n\\item 3\n\\end{enumerate*}\n",
            "text/markdown": "1. 1\n2. 2\n3. 3\n\n\n",
            "text/html": [
              "<style>\n",
              ".list-inline {list-style: none; margin:0; padding: 0}\n",
              ".list-inline>li {display: inline-block}\n",
              ".list-inline>li:not(:last-child)::after {content: \"\\00b7\"; padding: 0 .5ex}\n",
              "</style>\n",
              "<ol class=list-inline><li>1</li><li>2</li><li>3</li></ol>\n"
            ]
          },
          "metadata": {
            "tags": []
          }
        }
      ]
    },
    {
      "cell_type": "code",
      "metadata": {
        "id": "ASaosf9gf6zt",
        "colab_type": "code",
        "colab": {
          "base_uri": "https://localhost:8080/",
          "height": 377
        },
        "outputId": "b4362368-65ca-42f7-904f-05396162837b"
      },
      "source": [
        "subset[1,2] = NA\n",
        "subset\n",
        "na.omit(subset)\n",
        "print(\"Complete cases\")\n",
        "complete.cases(subset)\n",
        "sum(complete.cases(subset))"
      ],
      "execution_count": 106,
      "outputs": [
        {
          "output_type": "display_data",
          "data": {
            "text/plain": [
              "  Market Inventory Code Code2\n",
              "1 South    NA      1    10   \n",
              "3 South   552      3    12   \n",
              "4 South   851      4    13   \n",
              "5 South   599      5    14   \n",
              "6 North  2500      6    15   "
            ],
            "text/latex": "A data.frame: 5 × 4\n\\begin{tabular}{r|llll}\n  & Market & Inventory & Code & Code2\\\\\n  & <chr> & <dbl> & <dbl> & <dbl>\\\\\n\\hline\n\t1 & South &   NA & 1 & 10\\\\\n\t3 & South &  552 & 3 & 12\\\\\n\t4 & South &  851 & 4 & 13\\\\\n\t5 & South &  599 & 5 & 14\\\\\n\t6 & North & 2500 & 6 & 15\\\\\n\\end{tabular}\n",
            "text/markdown": "\nA data.frame: 5 × 4\n\n| <!--/--> | Market &lt;chr&gt; | Inventory &lt;dbl&gt; | Code &lt;dbl&gt; | Code2 &lt;dbl&gt; |\n|---|---|---|---|---|\n| 1 | South |   NA | 1 | 10 |\n| 3 | South |  552 | 3 | 12 |\n| 4 | South |  851 | 4 | 13 |\n| 5 | South |  599 | 5 | 14 |\n| 6 | North | 2500 | 6 | 15 |\n\n",
            "text/html": [
              "<table>\n",
              "<caption>A data.frame: 5 × 4</caption>\n",
              "<thead>\n",
              "\t<tr><th></th><th scope=col>Market</th><th scope=col>Inventory</th><th scope=col>Code</th><th scope=col>Code2</th></tr>\n",
              "\t<tr><th></th><th scope=col>&lt;chr&gt;</th><th scope=col>&lt;dbl&gt;</th><th scope=col>&lt;dbl&gt;</th><th scope=col>&lt;dbl&gt;</th></tr>\n",
              "</thead>\n",
              "<tbody>\n",
              "\t<tr><th scope=row>1</th><td>South</td><td>  NA</td><td>1</td><td>10</td></tr>\n",
              "\t<tr><th scope=row>3</th><td>South</td><td> 552</td><td>3</td><td>12</td></tr>\n",
              "\t<tr><th scope=row>4</th><td>South</td><td> 851</td><td>4</td><td>13</td></tr>\n",
              "\t<tr><th scope=row>5</th><td>South</td><td> 599</td><td>5</td><td>14</td></tr>\n",
              "\t<tr><th scope=row>6</th><td>North</td><td>2500</td><td>6</td><td>15</td></tr>\n",
              "</tbody>\n",
              "</table>\n"
            ]
          },
          "metadata": {
            "tags": []
          }
        },
        {
          "output_type": "display_data",
          "data": {
            "text/plain": [
              "  Market Inventory Code Code2\n",
              "3 South   552      3    12   \n",
              "4 South   851      4    13   \n",
              "5 South   599      5    14   \n",
              "6 North  2500      6    15   "
            ],
            "text/latex": "A data.frame: 4 × 4\n\\begin{tabular}{r|llll}\n  & Market & Inventory & Code & Code2\\\\\n  & <chr> & <dbl> & <dbl> & <dbl>\\\\\n\\hline\n\t3 & South &  552 & 3 & 12\\\\\n\t4 & South &  851 & 4 & 13\\\\\n\t5 & South &  599 & 5 & 14\\\\\n\t6 & North & 2500 & 6 & 15\\\\\n\\end{tabular}\n",
            "text/markdown": "\nA data.frame: 4 × 4\n\n| <!--/--> | Market &lt;chr&gt; | Inventory &lt;dbl&gt; | Code &lt;dbl&gt; | Code2 &lt;dbl&gt; |\n|---|---|---|---|---|\n| 3 | South |  552 | 3 | 12 |\n| 4 | South |  851 | 4 | 13 |\n| 5 | South |  599 | 5 | 14 |\n| 6 | North | 2500 | 6 | 15 |\n\n",
            "text/html": [
              "<table>\n",
              "<caption>A data.frame: 4 × 4</caption>\n",
              "<thead>\n",
              "\t<tr><th></th><th scope=col>Market</th><th scope=col>Inventory</th><th scope=col>Code</th><th scope=col>Code2</th></tr>\n",
              "\t<tr><th></th><th scope=col>&lt;chr&gt;</th><th scope=col>&lt;dbl&gt;</th><th scope=col>&lt;dbl&gt;</th><th scope=col>&lt;dbl&gt;</th></tr>\n",
              "</thead>\n",
              "<tbody>\n",
              "\t<tr><th scope=row>3</th><td>South</td><td> 552</td><td>3</td><td>12</td></tr>\n",
              "\t<tr><th scope=row>4</th><td>South</td><td> 851</td><td>4</td><td>13</td></tr>\n",
              "\t<tr><th scope=row>5</th><td>South</td><td> 599</td><td>5</td><td>14</td></tr>\n",
              "\t<tr><th scope=row>6</th><td>North</td><td>2500</td><td>6</td><td>15</td></tr>\n",
              "</tbody>\n",
              "</table>\n"
            ]
          },
          "metadata": {
            "tags": []
          }
        },
        {
          "output_type": "stream",
          "text": [
            "[1] \"Complete cases\"\n"
          ],
          "name": "stdout"
        },
        {
          "output_type": "display_data",
          "data": {
            "text/plain": [
              "[1] FALSE  TRUE  TRUE  TRUE  TRUE"
            ],
            "text/latex": "\\begin{enumerate*}\n\\item FALSE\n\\item TRUE\n\\item TRUE\n\\item TRUE\n\\item TRUE\n\\end{enumerate*}\n",
            "text/markdown": "1. FALSE\n2. TRUE\n3. TRUE\n4. TRUE\n5. TRUE\n\n\n",
            "text/html": [
              "<style>\n",
              ".list-inline {list-style: none; margin:0; padding: 0}\n",
              ".list-inline>li {display: inline-block}\n",
              ".list-inline>li:not(:last-child)::after {content: \"\\00b7\"; padding: 0 .5ex}\n",
              "</style>\n",
              "<ol class=list-inline><li>FALSE</li><li>TRUE</li><li>TRUE</li><li>TRUE</li><li>TRUE</li></ol>\n"
            ]
          },
          "metadata": {
            "tags": []
          }
        },
        {
          "output_type": "display_data",
          "data": {
            "text/plain": [
              "[1] 4"
            ],
            "text/latex": "4",
            "text/markdown": "4",
            "text/html": [
              "4"
            ]
          },
          "metadata": {
            "tags": []
          }
        }
      ]
    }
  ]
}