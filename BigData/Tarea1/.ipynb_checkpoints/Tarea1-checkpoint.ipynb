{
 "cells": [
  {
   "cell_type": "markdown",
   "metadata": {
    "colab_type": "text",
    "id": "view-in-github"
   },
   "source": [
    "<a href=\"https://colab.research.google.com/github/scmaverick/DataScienceTEC/blob/master/BigData/Tarea1/Tarea1.ipynb\" target=\"_parent\"><img src=\"https://colab.research.google.com/assets/colab-badge.svg\" alt=\"Open In Colab\"/></a>"
   ]
  },
  {
   "cell_type": "markdown",
   "metadata": {
    "colab_type": "text",
    "id": "OdOCUT4K-jQ9"
   },
   "source": [
    "***CENFOTEC***\n",
    "\n",
    "Big Data - Especialidad Ciencia de Datos\n",
    "\n",
    "25 de Noviembre, 2019\n",
    "\n",
    "*Estudiante: Sergio Castillo Segura*\n",
    "\n",
    "##Tarea 1\n",
    "\n",
    "\n",
    "El siguiente notebook introduce el uso de Spark con un dataset convencional, el dataset representa las rentas disponibles en Airbnb del estado de Nueva York.\n",
    "\n",
    "El objetivo del estudio será obtener la siguiente información:\n",
    "\n",
    "- Comprender un dataset y cargarlo en memoria utilizando Spark\n",
    "- Aprender a hacer limpieza de datos con Spark\n",
    "- Aprender a utilizar consultas estilo where con código nativo\n",
    "\n",
    "\n",
    "###Descripción del dataset\n",
    "AB_NYC_2019.csv (6.75 MB), 16 columnas:\n",
    "\n",
    "id - listing ID\n",
    "\n",
    "name - name of the listing\n",
    "\n",
    "host_id - host ID\n",
    "\n",
    "host_name - name of the host\n",
    "\n",
    "neighbourhood_group - location\n",
    "\n",
    "neighbourhood - area\n",
    "\n",
    "latitude - latitude coordinates\n",
    "\n",
    "longitude - longitude coordinates\n",
    "\n",
    "room_type - listing space type\n",
    "\n",
    "price - price in dollars\n",
    "\n",
    "minimum_nights - amount of nights minimum\n",
    "\n",
    "number_of_reviews - number of reviews\n",
    "\n",
    "last_review - latest review\n",
    "\n",
    "reviews_per_month - number of reviews per month\n",
    "\n",
    "calculated_host_listings_count - amount of listing per host\n",
    "\n",
    "availability_365 - number of days when listing is available for booking"
   ]
  },
  {
   "cell_type": "code",
   "execution_count": 0,
   "metadata": {
    "colab": {},
    "colab_type": "code",
    "id": "BnPBteqE9f_6"
   },
   "outputs": [],
   "source": [
    "#Instalamos y preparamos todo el ambiente con Java y Spark\n",
    "!apt-get install openjdk-8-jdk-headless -qq > /dev/null\n",
    "!wget -q https://www-us.apache.org/dist/spark/spark-2.4.4/spark-2.4.4-bin-hadoop2.7.tgz\n",
    "!tar xf spark-2.4.4-bin-hadoop2.7.tgz\n",
    "!pip install -q findspark"
   ]
  },
  {
   "cell_type": "code",
   "execution_count": 0,
   "metadata": {
    "colab": {},
    "colab_type": "code",
    "id": "_fBY0bof-Rwb"
   },
   "outputs": [],
   "source": [
    "#Importamos las librerías necesarias para el trabajo\n",
    "import os\n",
    "os.environ[\"JAVA_HOME\"] = \"/usr/lib/jvm/java-8-openjdk-amd64\"\n",
    "os.environ[\"SPARK_HOME\"] = \"/content/spark-2.4.4-bin-hadoop2.7\"\n",
    "import findspark\n",
    "findspark.init()\n",
    "from pyspark.sql import SparkSession\n",
    "spark = SparkSession.builder.master(\"local[*]\").getOrCreate()\n",
    "from datetime import datetime\n",
    "from pyspark.sql.functions import *\n",
    "from pyspark.sql.types import *"
   ]
  },
  {
   "cell_type": "markdown",
   "metadata": {
    "colab_type": "text",
    "id": "5SvGunSMBfsi"
   },
   "source": [
    "##Carga del dataset y casteo"
   ]
  },
  {
   "cell_type": "code",
   "execution_count": 0,
   "metadata": {
    "colab": {},
    "colab_type": "code",
    "id": "mxO_buAG-dzi"
   },
   "outputs": [],
   "source": [
    "#Cargamos el dataset en memoria de Spark\n",
    "from pyspark import SparkFiles\n",
    "spark.sparkContext.addFile(\"https://raw.githubusercontent.com/scmaverick/DataScienceTEC/master/BigData/Tarea1/AB_NYC_2019.csv\")\n",
    "df = spark.read.csv(SparkFiles.get(\"AB_NYC_2019.csv\"), header=True, inferSchema=True)"
   ]
  },
  {
   "cell_type": "code",
   "execution_count": 105,
   "metadata": {
    "colab": {
     "base_uri": "https://localhost:8080/",
     "height": 348
    },
    "colab_type": "code",
    "id": "8BF-WU8pA8Xb",
    "outputId": "c7edab8d-d392-4241-d517-135493c335b5"
   },
   "outputs": [
    {
     "name": "stdout",
     "output_type": "stream",
     "text": [
      "root\n",
      " |-- id: string (nullable = true)\n",
      " |-- name: string (nullable = true)\n",
      " |-- host_id: string (nullable = true)\n",
      " |-- host_name: string (nullable = true)\n",
      " |-- neighbourhood_group: string (nullable = true)\n",
      " |-- neighbourhood: string (nullable = true)\n",
      " |-- latitude: string (nullable = true)\n",
      " |-- longitude: string (nullable = true)\n",
      " |-- room_type: string (nullable = true)\n",
      " |-- price: string (nullable = true)\n",
      " |-- minimum_nights: string (nullable = true)\n",
      " |-- number_of_reviews: string (nullable = true)\n",
      " |-- last_review: string (nullable = true)\n",
      " |-- reviews_per_month: string (nullable = true)\n",
      " |-- calculated_host_listings_count: string (nullable = true)\n",
      " |-- availability_365: integer (nullable = true)\n",
      "\n"
     ]
    }
   ],
   "source": [
    "#Revisamos el esquema cargado inicialmente\n",
    "df.printSchema()"
   ]
  },
  {
   "cell_type": "code",
   "execution_count": 106,
   "metadata": {
    "colab": {
     "base_uri": "https://localhost:8080/",
     "height": 348
    },
    "colab_type": "code",
    "id": "AHTNqs3wBnpO",
    "outputId": "07a8db18-650a-4bce-958f-17ed3c414643"
   },
   "outputs": [
    {
     "name": "stdout",
     "output_type": "stream",
     "text": [
      "root\n",
      " |-- id: string (nullable = true)\n",
      " |-- name: string (nullable = true)\n",
      " |-- host_id: string (nullable = true)\n",
      " |-- host_name: string (nullable = true)\n",
      " |-- neighbourhood_group: string (nullable = true)\n",
      " |-- neighbourhood: string (nullable = true)\n",
      " |-- latitude: float (nullable = true)\n",
      " |-- longitude: float (nullable = true)\n",
      " |-- room_type: string (nullable = true)\n",
      " |-- price: float (nullable = true)\n",
      " |-- minimum_nights: integer (nullable = true)\n",
      " |-- number_of_reviews: integer (nullable = true)\n",
      " |-- last_review: string (nullable = true)\n",
      " |-- reviews_per_month: float (nullable = true)\n",
      " |-- calculated_host_listings_count: integer (nullable = true)\n",
      " |-- availability_365: integer (nullable = true)\n",
      "\n"
     ]
    }
   ],
   "source": [
    "#Todas las columnas son string, pasamos las correspondientes a los tipos apropiados\n",
    "df = df.withColumn('price', df['price'].cast('Float'))\n",
    "df = df.withColumn('latitude', df['latitude'].cast('Float'))\n",
    "df = df.withColumn('longitude', df['longitude'].cast('Float'))\n",
    "df = df.withColumn('minimum_nights', df['minimum_nights'].cast('Int'))\n",
    "df = df.withColumn('number_of_reviews', df['number_of_reviews'].cast('Int'))\n",
    "df = df.withColumn('reviews_per_month', df['reviews_per_month'].cast('Float'))\n",
    "df = df.withColumn('calculated_host_listings_count', df['calculated_host_listings_count'].cast('Int'))\n",
    "df = df.withColumn('availability_365', df['availability_365'].cast('Int'))\n",
    "df.printSchema()"
   ]
  },
  {
   "cell_type": "code",
   "execution_count": 107,
   "metadata": {
    "colab": {
     "base_uri": "https://localhost:8080/",
     "height": 331
    },
    "colab_type": "code",
    "id": "wT3IEWwaAkNr",
    "outputId": "6d8d92bf-209a-4219-f3f2-8f560cc19e03"
   },
   "outputs": [
    {
     "name": "stdout",
     "output_type": "stream",
     "text": [
      "+----+--------------------+-------+-----------+-------------------+------------------+--------+---------+---------------+-----+--------------+-----------------+-----------+-----------------+------------------------------+----------------+\n",
      "|  id|                name|host_id|  host_name|neighbourhood_group|     neighbourhood|latitude|longitude|      room_type|price|minimum_nights|number_of_reviews|last_review|reviews_per_month|calculated_host_listings_count|availability_365|\n",
      "+----+--------------------+-------+-----------+-------------------+------------------+--------+---------+---------------+-----+--------------+-----------------+-----------+-----------------+------------------------------+----------------+\n",
      "|2539|Clean & quiet apt...|   2787|       John|           Brooklyn|        Kensington|40.64749|-73.97237|   Private room|149.0|             1|                9| 2018-10-19|             0.21|                             6|             365|\n",
      "|2595|Skylit Midtown Ca...|   2845|   Jennifer|          Manhattan|           Midtown|40.75362|-73.98377|Entire home/apt|225.0|             1|               45| 2019-05-21|             0.38|                             2|             355|\n",
      "|3647|THE VILLAGE OF HA...|   4632|  Elisabeth|          Manhattan|            Harlem|40.80902| -73.9419|   Private room|150.0|             3|                0|       null|             null|                             1|             365|\n",
      "|3831|Cozy Entire Floor...|   4869|LisaRoxanne|           Brooklyn|      Clinton Hill|40.68514|-73.95976|Entire home/apt| 89.0|             1|              270| 2019-07-05|             4.64|                             1|             194|\n",
      "|5022|Entire Apt: Spaci...|   7192|      Laura|          Manhattan|       East Harlem|40.79851|-73.94399|Entire home/apt| 80.0|            10|                9| 2018-11-19|              0.1|                             1|               0|\n",
      "|5099|Large Cozy 1 BR A...|   7322|      Chris|          Manhattan|       Murray Hill|40.74767|  -73.975|Entire home/apt|200.0|             3|               74| 2019-06-22|             0.59|                             1|             129|\n",
      "|5121|     BlissArtsSpace!|   7356|      Garon|           Brooklyn|Bedford-Stuyvesant|40.68688|-73.95596|   Private room| 60.0|            45|               49| 2017-10-05|              0.4|                             1|               0|\n",
      "|5178|Large Furnished R...|   8967|   Shunichi|          Manhattan|    Hell's Kitchen|40.76489|-73.98493|   Private room| 79.0|             2|              430| 2019-06-24|             3.47|                             1|             220|\n",
      "|5203|Cozy Clean Guest ...|   7490|  MaryEllen|          Manhattan|   Upper West Side|40.80178|-73.96723|   Private room| 79.0|             2|              118| 2017-07-21|             0.99|                             1|               0|\n",
      "|5238|Cute & Cozy Lower...|   7549|        Ben|          Manhattan|         Chinatown|40.71344|-73.99037|Entire home/apt|150.0|             1|              160| 2019-06-09|             1.33|                             4|             188|\n",
      "+----+--------------------+-------+-----------+-------------------+------------------+--------+---------+---------------+-----+--------------+-----------------+-----------+-----------------+------------------------------+----------------+\n",
      "only showing top 10 rows\n",
      "\n"
     ]
    }
   ],
   "source": [
    "#Revisamos los primeros 10 valores\n",
    "df.show(10)"
   ]
  },
  {
   "cell_type": "markdown",
   "metadata": {
    "colab_type": "text",
    "id": "SoIri7828qyW"
   },
   "source": [
    "##Limpieza de datos\n",
    "Agregamos algunas funciones para la limpieza de los datos:"
   ]
  },
  {
   "cell_type": "code",
   "execution_count": 108,
   "metadata": {
    "colab": {
     "base_uri": "https://localhost:8080/",
     "height": 368
    },
    "colab_type": "code",
    "id": "RMkR9UPH8J45",
    "outputId": "ab25e207-3c6d-4f9a-df2d-7d2abb91cc9f"
   },
   "outputs": [
    {
     "name": "stdout",
     "output_type": "stream",
     "text": [
      "+---------+--------------------+-----------+--------------------+-------------------+------------------+--------+---------+---------------+---------+--------------+-----------------+-----------+-----------------+------------------------------+----------------+\n",
      "|       id|                name|    host_id|           host_name|neighbourhood_group|     neighbourhood|latitude|longitude|      room_type|    price|minimum_nights|number_of_reviews|last_review|reviews_per_month|calculated_host_listings_count|availability_365|\n",
      "+---------+--------------------+-----------+--------------------+-------------------+------------------+--------+---------+---------------+---------+--------------+-----------------+-----------+-----------------+------------------------------+----------------+\n",
      "| 18750597|Huge Brooklyn Bro...|    8993084|            Kimberly|           Brooklyn|Bedford-Stuyvesant|40.69023|-73.95428|   Private room|      0.0|             4|                1| 2018-01-06|             0.05|                             4|              28|\n",
      "| 20333471|★Hostel Style Roo...|  131697576|              Anisha|              Bronx|   East Morrisania|40.83296|-73.88668|   Private room|      0.0|             2|               55| 2019-06-24|             2.56|                             4|             127|\n",
      "| 20523843|MARTIAL LOFT 3: R...|   15787004|        Martial Loft|           Brooklyn|          Bushwick|40.69467|-73.92433|   Private room|      0.0|             2|               16| 2019-05-18|             0.71|                             5|               0|\n",
      "| 20608117|Sunny, Quiet Room...|    1641537|              Lauren|           Brooklyn|        Greenpoint|40.72462|-73.94072|   Private room|      0.0|             2|               12| 2017-10-27|             0.53|                             2|               0|\n",
      "| 20624541|Modern apartment ...|   10132166|             Aymeric|           Brooklyn|      Williamsburg|40.70838|-73.94645|Entire home/apt|      0.0|             5|                3| 2018-01-02|             0.15|                             1|              73|\n",
      "| 20639628|Spacious comforta...|   86327101|             Adeyemi|           Brooklyn|Bedford-Stuyvesant|40.68173|-73.91342|   Private room|      0.0|             1|               93| 2019-06-15|             4.28|                             6|             176|\n",
      "| 20639792|Contemporary bedr...|   86327101|             Adeyemi|           Brooklyn|Bedford-Stuyvesant|40.68279| -73.9117|   Private room|      0.0|             1|               95| 2019-06-21|             4.37|                             6|             232|\n",
      "| 20639914|Cozy yet spacious...|   86327101|             Adeyemi|           Brooklyn|Bedford-Stuyvesant|40.68258|-73.91284|   Private room|      0.0|             1|               95| 2019-06-23|             4.35|                             6|             222|\n",
      "| 20933849|the best you can ...|   13709292|              Qiuchi|          Manhattan|       Murray Hill|40.75091|-73.97597|Entire home/apt|      0.0|             3|                0|       null|             null|                             1|               0|\n",
      "| 21291569|Coliving in Brook...|  101970559|              Sergii|           Brooklyn|          Bushwick|40.69211| -73.9067|    Shared room|      0.0|            30|                2| 2019-06-22|             0.11|                             6|             333|\n",
      "| 21304320|Best Coliving spa...|  101970559|              Sergii|           Brooklyn|          Bushwick|40.69166|-73.90928|    Shared room|      0.0|            30|                5| 2019-05-24|             0.26|                             6|             139|\n",
      "|Chinatown|                Soho|LittleItaly|                LES\"|          197400421|               Ben|    null|     null|       40.71509|-73.99986|          null|              100|         25|              0.0|                          null|            null|\n",
      "| 33780377| \"\"\"Sea Gate\"\" Sunny|       cozy| very clean studi...|          194716858|              Greg|    null|     null|       40.57453|-74.00828|          null|              125|         10|              1.0|                          null|               1|\n",
      "+---------+--------------------+-----------+--------------------+-------------------+------------------+--------+---------+---------------+---------+--------------+-----------------+-----------+-----------------+------------------------------+----------------+\n",
      "\n"
     ]
    }
   ],
   "source": [
    "#Revisamos si todos los precios estan correctamente indicados, pues puede que haya algunas propiedades con valores invalidos\n",
    "df.filter(df['price'] <= 0).show()"
   ]
  },
  {
   "cell_type": "code",
   "execution_count": 109,
   "metadata": {
    "colab": {
     "base_uri": "https://localhost:8080/",
     "height": 109
    },
    "colab_type": "code",
    "id": "3WV9Ibac84K6",
    "outputId": "6a0fb0c4-5457-45a9-fb9c-220b0f927191"
   },
   "outputs": [
    {
     "name": "stdout",
     "output_type": "stream",
     "text": [
      "+---+----+-------+---------+-------------------+-------------+--------+---------+---------+-----+--------------+-----------------+-----------+-----------------+------------------------------+----------------+\n",
      "| id|name|host_id|host_name|neighbourhood_group|neighbourhood|latitude|longitude|room_type|price|minimum_nights|number_of_reviews|last_review|reviews_per_month|calculated_host_listings_count|availability_365|\n",
      "+---+----+-------+---------+-------------------+-------------+--------+---------+---------+-----+--------------+-----------------+-----------+-----------------+------------------------------+----------------+\n",
      "+---+----+-------+---------+-------------------+-------------+--------+---------+---------+-----+--------------+-----------------+-----------+-----------------+------------------------------+----------------+\n",
      "\n"
     ]
    }
   ],
   "source": [
    "#Eliminamos todas las entradas cuyo precio sea menor o igual a 0\n",
    "df = df.filter(df['price'] > 0)\n",
    "df.filter(df['price'] <= 0).show()"
   ]
  },
  {
   "cell_type": "code",
   "execution_count": 110,
   "metadata": {
    "colab": {
     "base_uri": "https://localhost:8080/",
     "height": 54
    },
    "colab_type": "code",
    "id": "f5cEi_QjLinN",
    "outputId": "43b877cf-7a0c-483f-c05b-72612d8b2709"
   },
   "outputs": [
    {
     "name": "stdout",
     "output_type": "stream",
     "text": [
      "Antes:  48874\n",
      "Después:  31210\n"
     ]
    }
   ],
   "source": [
    "#Filtramos propiedades que no estén disponibles durante el año\n",
    "print(\"Antes: \", df.count())\n",
    "df = df.filter(df['availability_365'] > 0)\n",
    "print(\"Después: \", df.count())"
   ]
  },
  {
   "cell_type": "markdown",
   "metadata": {
    "colab_type": "text",
    "id": "QPH-Cvlq6uR-"
   },
   "source": [
    "##Análisis\n",
    "Comenzamos el análisis de los datos con algunas operaciones básicas:\n",
    "\n",
    "- Listar el top 20 de las localidades con mayor número de propiedades en renta\n",
    "- Conseguir el top 20 de precio promedio de la renta por localidad\n",
    "- Top 20 de las propiedades más caras\n",
    "- El precio de las propiedades más caras por localidad\n"
   ]
  },
  {
   "cell_type": "code",
   "execution_count": 111,
   "metadata": {
    "colab": {
     "base_uri": "https://localhost:8080/",
     "height": 201
    },
    "colab_type": "code",
    "id": "KxHP3yVP5WgL",
    "outputId": "ef799389-d55b-4613-e4fd-20eb526dade4"
   },
   "outputs": [
    {
     "name": "stdout",
     "output_type": "stream",
     "text": [
      "+-------------------+-----+\n",
      "|neighbourhood_group|count|\n",
      "+-------------------+-----+\n",
      "|          Manhattan|13498|\n",
      "|           Brooklyn|12214|\n",
      "|             Queens| 4268|\n",
      "|              Bronx|  902|\n",
      "|      Staten Island|  328|\n",
      "+-------------------+-----+\n",
      "\n"
     ]
    }
   ],
   "source": [
    "#Top 20 de las localidades con mayor número de propiedades en renta\n",
    "df.groupby('neighbourhood_group').count().orderBy(desc('count')).show()"
   ]
  },
  {
   "cell_type": "code",
   "execution_count": 90,
   "metadata": {
    "colab": {
     "base_uri": "https://localhost:8080/",
     "height": 201
    },
    "colab_type": "code",
    "id": "Iuyx2HS17D_Y",
    "outputId": "274db33e-518b-4404-ffd0-c314f23bb0fa"
   },
   "outputs": [
    {
     "name": "stdout",
     "output_type": "stream",
     "text": [
      "+-------------------+------------------+\n",
      "|neighbourhood_group|        avg(price)|\n",
      "+-------------------+------------------+\n",
      "|          Manhattan|214.06386131278708|\n",
      "|           Brooklyn|132.95742590469953|\n",
      "|      Staten Island| 114.4298780487805|\n",
      "|             Queens|100.13753514526711|\n",
      "|              Bronx| 89.40243902439025|\n",
      "+-------------------+------------------+\n",
      "\n"
     ]
    }
   ],
   "source": [
    "#Top 20 de precio promedio de la renta por localidad\n",
    "df.groupBy('neighbourhood_group').agg(mean('price')).orderBy(desc('avg(price)')).show(15)"
   ]
  },
  {
   "cell_type": "code",
   "execution_count": 91,
   "metadata": {
    "colab": {
     "base_uri": "https://localhost:8080/",
     "height": 515
    },
    "colab_type": "code",
    "id": "Ix7GNbIM7sUn",
    "outputId": "072bc6ed-0d9f-4ee5-ddce-4554f302041d"
   },
   "outputs": [
    {
     "name": "stdout",
     "output_type": "stream",
     "text": [
      "+--------+--------------------+---------+-----------+-------------------+------------------+--------+---------+---------------+-------+--------------+-----------------+-----------+-----------------+------------------------------+----------------+\n",
      "|      id|                name|  host_id|  host_name|neighbourhood_group|     neighbourhood|latitude|longitude|      room_type|  price|minimum_nights|number_of_reviews|last_review|reviews_per_month|calculated_host_listings_count|availability_365|\n",
      "+--------+--------------------+---------+-----------+-------------------+------------------+--------+---------+---------------+-------+--------------+-----------------+-----------+-----------------+------------------------------+----------------+\n",
      "|22436899| 1-BR Lincoln Center| 72390391|     Jelena|          Manhattan|   Upper West Side|40.77213|-73.98665|Entire home/apt|10000.0|            30|                0|       null|             null|                             1|              83|\n",
      "| 9528920|Quiet, Clean, Lit...|  3906464|        Amy|          Manhattan|   Lower East Side|40.71355|-73.98507|   Private room| 9999.0|            99|                6| 2016-01-01|             0.14|                             1|              83|\n",
      "|31340283|2br - The Heart o...|  4382127|       Matt|          Manhattan|   Lower East Side| 40.7198|-73.98566|Entire home/apt| 9999.0|            30|                0|       null|             null|                             1|             365|\n",
      "|23377410|Beautiful/Spaciou...| 18128455|        Rum|          Manhattan|           Tribeca|40.72197|-74.00633|Entire home/apt| 8500.0|            30|                2| 2018-09-18|             0.18|                             1|             251|\n",
      "| 2953058|       Film Location|  1177497|    Jessica|           Brooklyn|      Clinton Hill|40.69137|-73.96723|Entire home/apt| 8000.0|             1|                1| 2016-09-15|             0.03|                            11|             365|\n",
      "|22779726|East 72nd Townhou...|156158778|      Sally|          Manhattan|   Upper East Side|40.76824|-73.95989|Entire home/apt| 7703.0|             1|                0|       null|             null|                            12|             146|\n",
      "|34895693|Gem of east Flatbush|262534951|     Sandra|           Brooklyn|     East Flatbush|40.65724| -73.9245|   Private room| 7500.0|             1|                8| 2019-07-07|             6.15|                             2|             179|\n",
      "|33007610|70' Luxury MotorY...|  7407743|       Jack|          Manhattan| Battery Park City|40.71162|-74.01693|Entire home/apt| 7500.0|             1|                0|       null|             null|                             1|             364|\n",
      "|33998396|3000 sq ft daylig...|  3750764|      Kevin|          Manhattan|           Chelsea| 40.7506|-74.00388|Entire home/apt| 6800.0|             1|                0|       null|             null|                             6|             364|\n",
      "|36056808|Luxury TriBeCa Ap...|271248669|      Jenny|          Manhattan|           Tribeca|40.71206|-74.00999|Entire home/apt| 6500.0|           180|                0|       null|             null|                             1|             365|\n",
      "|22780103|Park Avenue Mansi...|156158778|      Sally|          Manhattan|   Upper East Side|40.78517| -73.9527|Entire home/apt| 6419.0|             1|                0|       null|             null|                            12|              45|\n",
      "| 2110145|UWS 1BR w/backyar...|  2151325|Jay And Liz|          Manhattan|   Upper West Side|40.77782|-73.97848|Entire home/apt| 6000.0|            14|               17| 2015-02-17|             0.27|                             1|             359|\n",
      "|33397385|Midtown Manhattan...| 16105313|      Debra|          Manhattan|           Midtown|40.74482|-73.98367|Entire home/apt| 5100.0|            30|                1| 2019-06-22|              1.0|                             2|             343|\n",
      "| 2919330|NearWilliamsburg ...| 14908606|     Bianca|           Brooklyn|Bedford-Stuyvesant|40.69572|-73.95731|   Private room| 5000.0|             6|               10| 2016-01-02|             0.16|                             1|             363|\n",
      "| 1448703|Beautiful 1 Bedro...|   213266|    Jessica|          Manhattan|            Nolita|40.72193|-73.99379|Entire home/apt| 5000.0|             1|                2| 2013-09-28|             0.03|                             1|             365|\n",
      "|30035166|4-Floor Unique Ev...|172611460|     Rasmus|          Manhattan|            Harlem|40.82511|-73.94961|Entire home/apt| 5000.0|             1|                2| 2019-02-23|             0.38|                             2|             150|\n",
      "|18051877|Victorian Film lo...|  2675644|     Alissa|      Staten Island|     Randall Manor|40.63952| -74.0973|Entire home/apt| 5000.0|             1|                0|       null|             null|                             1|             344|\n",
      "|35345358|Northside William...|   956324|       Alex|           Brooklyn|      Williamsburg|40.71705| -73.9647|Entire home/apt| 4500.0|            30|                0|       null|             null|                             1|             365|\n",
      "| 2952861|Photography Location|  1177497|    Jessica|           Brooklyn|      Clinton Hill|40.69127|-73.96563|Entire home/apt| 4500.0|             1|                5| 2018-12-29|             0.09|                            11|             365|\n",
      "|33796251|Beautiful private...|  8748976|    Jeffrey|           Brooklyn|Bedford-Stuyvesant|40.68807|-73.95426|   Private room| 4200.0|           114|                0|       null|             null|                             1|             347|\n",
      "+--------+--------------------+---------+-----------+-------------------+------------------+--------+---------+---------------+-------+--------------+-----------------+-----------+-----------------+------------------------------+----------------+\n",
      "only showing top 20 rows\n",
      "\n"
     ]
    }
   ],
   "source": [
    "#Top 20 de las propiedades más caras\n",
    "df.orderBy(desc('price')).show(20)"
   ]
  },
  {
   "cell_type": "code",
   "execution_count": 92,
   "metadata": {
    "colab": {
     "base_uri": "https://localhost:8080/",
     "height": 201
    },
    "colab_type": "code",
    "id": "8jSguoIx-bUx",
    "outputId": "d8677307-d3bf-4e72-a964-6e30813e73da"
   },
   "outputs": [
    {
     "name": "stdout",
     "output_type": "stream",
     "text": [
      "+-------------------+----------+\n",
      "|neighbourhood_group|max(price)|\n",
      "+-------------------+----------+\n",
      "|          Manhattan|   10000.0|\n",
      "|           Brooklyn|    8000.0|\n",
      "|      Staten Island|    5000.0|\n",
      "|             Queens|    2600.0|\n",
      "|              Bronx|    2500.0|\n",
      "+-------------------+----------+\n",
      "\n"
     ]
    }
   ],
   "source": [
    "#Listar los precios más altos por localidad\n",
    "df.groupby('neighbourhood_group').agg(max('price')).orderBy(desc('max(price)')).show(20)"
   ]
  },
  {
   "cell_type": "markdown",
   "metadata": {
    "colab_type": "text",
    "id": "Our1f0x9FQys"
   },
   "source": [
    "Como se puede verificar anteriormente, se obtuvieron los siguientes resultados:\n",
    "- Manhattan, Brooklyn y Queens son de las localidades con mayor número de propiedades en renta.\n",
    "- El precio promedio de la renta en es:\n",
    "    * Manhattan: $214\n",
    "\n",
    "    * Brooklyn: $133\n",
    "\n",
    "    * Staten Island: $114\n",
    "- Las propiedades más caras se encuentran en el Upper West Side y el Lower East Side de Manhattan.\n",
    "- Las propiedades más caras están en los $10000 por noche.\n",
    "\n",
    "##Procesamiento\n"
   ]
  },
  {
   "cell_type": "code",
   "execution_count": 112,
   "metadata": {
    "colab": {
     "base_uri": "https://localhost:8080/",
     "height": 515
    },
    "colab_type": "code",
    "id": "Eb7DbsvBJZec",
    "outputId": "c75aec8f-7bdf-48aa-a627-601607b8556b"
   },
   "outputs": [
    {
     "name": "stdout",
     "output_type": "stream",
     "text": [
      "+----+--------------------+-------+----------------+-------------------+------------------+--------+---------+---------------+-----+--------------+-----------------+-----------+-----------------+------------------------------+----------------+\n",
      "|  id|                name|host_id|       host_name|neighbourhood_group|     neighbourhood|latitude|longitude|      room_type|price|minimum_nights|number_of_reviews|last_review|reviews_per_month|calculated_host_listings_count|availability_365|\n",
      "+----+--------------------+-------+----------------+-------------------+------------------+--------+---------+---------------+-----+--------------+-----------------+-----------+-----------------+------------------------------+----------------+\n",
      "|2539|Clean & quiet apt...|   2787|            john|           Brooklyn|        Kensington|40.64749|-73.97237|   Private room|149.0|             1|                9| 2018-10-19|             0.21|                             6|             365|\n",
      "|2595|Skylit Midtown Ca...|   2845|        jennifer|          Manhattan|           Midtown|40.75362|-73.98377|Entire home/apt|225.0|             1|               45| 2019-05-21|             0.38|                             2|             355|\n",
      "|3647|THE VILLAGE OF HA...|   4632|       elisabeth|          Manhattan|            Harlem|40.80902| -73.9419|   Private room|150.0|             3|                0|       null|             null|                             1|             365|\n",
      "|3831|Cozy Entire Floor...|   4869|     lisaroxanne|           Brooklyn|      Clinton Hill|40.68514|-73.95976|Entire home/apt| 89.0|             1|              270| 2019-07-05|             4.64|                             1|             194|\n",
      "|5099|Large Cozy 1 BR A...|   7322|           chris|          Manhattan|       Murray Hill|40.74767|  -73.975|Entire home/apt|200.0|             3|               74| 2019-06-22|             0.59|                             1|             129|\n",
      "|5178|Large Furnished R...|   8967|        shunichi|          Manhattan|    Hell's Kitchen|40.76489|-73.98493|   Private room| 79.0|             2|              430| 2019-06-24|             3.47|                             1|             220|\n",
      "|5238|Cute & Cozy Lower...|   7549|             ben|          Manhattan|         Chinatown|40.71344|-73.99037|Entire home/apt|150.0|             1|              160| 2019-06-09|             1.33|                             4|             188|\n",
      "|5295|Beautiful 1br on ...|   7702|            lena|          Manhattan|   Upper West Side|40.80316|-73.96545|Entire home/apt|135.0|             5|               53| 2019-06-22|             0.43|                             1|               6|\n",
      "|5441|Central Manhattan...|   7989|            kate|          Manhattan|    Hell's Kitchen|40.76076|-73.98867|   Private room| 85.0|             2|              188| 2019-06-23|              1.5|                             1|              39|\n",
      "|5803|Lovely Room 1, Ga...|   9744|          laurie|           Brooklyn|       South Slope|40.66829|-73.98779|   Private room| 89.0|             4|              167| 2019-06-24|             1.34|                             3|             314|\n",
      "|6021|Wonderful Guest B...|  11528|         claudio|          Manhattan|   Upper West Side|40.79826|-73.96113|   Private room| 85.0|             2|              113| 2019-07-05|             0.91|                             1|             333|\n",
      "|6848|Only 2 stops to M...|  15991|   allen & irina|           Brooklyn|      Williamsburg|40.70837|-73.95352|Entire home/apt|140.0|             2|              148| 2019-06-29|              1.2|                             1|              46|\n",
      "|7097|Perfect for Your ...|  17571|            jane|           Brooklyn|       Fort Greene|40.69169|-73.97185|Entire home/apt|215.0|             2|              198| 2019-06-28|             1.72|                             1|             321|\n",
      "|7322|     Chelsea Perfect|  18946|            doti|          Manhattan|           Chelsea|40.74192|-73.99501|   Private room|140.0|             1|              260| 2019-07-01|             2.12|                             1|              12|\n",
      "|7726|Hip Historic Brow...|  20950|adam and charity|           Brooklyn|     Crown Heights|40.67592|-73.94694|Entire home/apt| 99.0|             3|               53| 2019-06-22|             4.44|                             1|              21|\n",
      "|7750|Huge 2 BR Upper E...|  17985|            sing|          Manhattan|       East Harlem|40.79685|-73.94872|Entire home/apt|190.0|             7|                0|       null|             null|                             2|             249|\n",
      "|8024|CBG CtyBGd HelpsH...|  22486|           lisel|           Brooklyn|        Park Slope|40.68069|-73.97706|   Private room|130.0|             2|              130| 2019-07-01|             1.09|                             6|             347|\n",
      "|8025|CBG Helps Haiti R...|  22486|           lisel|           Brooklyn|        Park Slope|40.67989|-73.97798|   Private room| 80.0|             1|               39| 2019-01-01|             0.37|                             6|             364|\n",
      "|8110|CBG Helps Haiti R...|  22486|           lisel|           Brooklyn|        Park Slope|40.68001|-73.97865|   Private room|110.0|             2|               71| 2019-07-02|             0.61|                             6|             304|\n",
      "|8490|MAISON DES SIRENE...|  25183|        nathalie|           Brooklyn|Bedford-Stuyvesant|40.68371|-73.94028|Entire home/apt|120.0|             2|               88| 2019-06-19|             0.73|                             2|             233|\n",
      "+----+--------------------+-------+----------------+-------------------+------------------+--------+---------+---------------+-----+--------------+-----------------+-----------+-----------------+------------------------------+----------------+\n",
      "only showing top 20 rows\n",
      "\n"
     ]
    }
   ],
   "source": [
    "#Pasar los nombres de los hosts a minusculas\n",
    "df = df.withColumn('host_name', lower(col('host_name')))\n",
    "df.show()"
   ]
  },
  {
   "cell_type": "code",
   "execution_count": 118,
   "metadata": {
    "colab": {
     "base_uri": "https://localhost:8080/",
     "height": 515
    },
    "colab_type": "code",
    "id": "vzHRahqYNeGV",
    "outputId": "c099f619-1462-42e0-a2c3-752c37e25cc0"
   },
   "outputs": [
    {
     "name": "stdout",
     "output_type": "stream",
     "text": [
      "+----+--------------------+-------+----------------+-------------------+------------------+--------+---------+---------------+-----+--------------+-----------------+-----------+-----------------+------------------------------+----------------+\n",
      "|  id|                name|host_id|       host_name|neighbourhood_group|     neighbourhood|latitude|longitude|      room_type|price|minimum_nights|number_of_reviews|last_review|reviews_per_month|calculated_host_listings_count|availability_365|\n",
      "+----+--------------------+-------+----------------+-------------------+------------------+--------+---------+---------------+-----+--------------+-----------------+-----------+-----------------+------------------------------+----------------+\n",
      "|2539|Clean & quiet apt...|   2787|            john|           Brooklyn|        Kensington|40.64749|-73.97237|   Private room|149.0|             1|                9| 2018-10-19|             0.21|                             6|             365|\n",
      "|2595|Skylit Midtown Ca...|   2845|        jennifer|          Manhattan|           Midtown|40.75362|-73.98377|Entire home/apt|225.0|             1|               45| 2019-05-21|             0.38|                             2|             355|\n",
      "|3647|THE VILLAGE OF HA...|   4632|       elisabeth|          Manhattan|            Harlem|40.80902| -73.9419|   Private room|150.0|             3|                0|       null|             null|                             1|             365|\n",
      "|3831|Cozy Entire Floor...|   4869|     lisaroxanne|           Brooklyn|      Clinton Hill|40.68514|-73.95976|Entire home/apt| 89.0|             1|              270| 2019-07-05|             4.64|                             1|             194|\n",
      "|5099|Large Cozy 1 BR A...|   7322|           chris|          Manhattan|       Murray Hill|40.74767|  -73.975|Entire home/apt|200.0|             3|               74| 2019-06-22|             0.59|                             1|             129|\n",
      "|5178|Large Furnished R...|   8967|        shunichi|          Manhattan|    Hell's Kitchen|40.76489|-73.98493|   Private room| 79.0|             2|              430| 2019-06-24|             3.47|                             1|             220|\n",
      "|5238|Cute & Cozy Lower...|   7549|             ben|          Manhattan|         Chinatown|40.71344|-73.99037|Entire home/apt|150.0|             1|              160| 2019-06-09|             1.33|                             4|             188|\n",
      "|5295|Beautiful 1br on ...|   7702|            lena|          Manhattan|   Upper West Side|40.80316|-73.96545|Entire home/apt|135.0|             5|               53| 2019-06-22|             0.43|                             1|               6|\n",
      "|5441|Central Manhattan...|   7989|            kate|          Manhattan|    Hell's Kitchen|40.76076|-73.98867|   Private room| 85.0|             2|              188| 2019-06-23|              1.5|                             1|              39|\n",
      "|5803|Lovely Room 1, Ga...|   9744|          laurie|           Brooklyn|       South Slope|40.66829|-73.98779|   Private room| 89.0|             4|              167| 2019-06-24|             1.34|                             3|             314|\n",
      "|6021|Wonderful Guest B...|  11528|         claudio|          Manhattan|   Upper West Side|40.79826|-73.96113|   Private room| 85.0|             2|              113| 2019-07-05|             0.91|                             1|             333|\n",
      "|6848|Only 2 stops to M...|  15991|   allen & irina|           Brooklyn|      Williamsburg|40.70837|-73.95352|Entire home/apt|140.0|             2|              148| 2019-06-29|              1.2|                             1|              46|\n",
      "|7097|Perfect for Your ...|  17571|            jane|           Brooklyn|       Fort Greene|40.69169|-73.97185|Entire home/apt|215.0|             2|              198| 2019-06-28|             1.72|                             1|             321|\n",
      "|7322|     Chelsea Perfect|  18946|            doti|          Manhattan|           Chelsea|40.74192|-73.99501|   Private room|140.0|             1|              260| 2019-07-01|             2.12|                             1|              12|\n",
      "|7726|Hip Historic Brow...|  20950|adam and charity|           Brooklyn|     Crown Heights|40.67592|-73.94694|Entire home/apt| 99.0|             3|               53| 2019-06-22|             4.44|                             1|              21|\n",
      "|7750|Huge 2 BR Upper E...|  17985|            sing|          Manhattan|       East Harlem|40.79685|-73.94872|Entire home/apt|190.0|             7|                0|       null|             null|                             2|             249|\n",
      "|8024|CBG CtyBGd HelpsH...|  22486|           lisel|           Brooklyn|        Park Slope|40.68069|-73.97706|   Private room|130.0|             2|              130| 2019-07-01|             1.09|                             6|             347|\n",
      "|8025|CBG Helps Haiti R...|  22486|           lisel|           Brooklyn|        Park Slope|40.67989|-73.97798|   Private room| 80.0|             1|               39| 2019-01-01|             0.37|                             6|             364|\n",
      "|8110|CBG Helps Haiti R...|  22486|           lisel|           Brooklyn|        Park Slope|40.68001|-73.97865|   Private room|110.0|             2|               71| 2019-07-02|             0.61|                             6|             304|\n",
      "|8490|MAISON DES SIRENE...|  25183|        nathalie|           Brooklyn|Bedford-Stuyvesant|40.68371|-73.94028|Entire home/apt|120.0|             2|               88| 2019-06-19|             0.73|                             2|             233|\n",
      "+----+--------------------+-------+----------------+-------------------+------------------+--------+---------+---------------+-----+--------------+-----------------+-----------+-----------------+------------------------------+----------------+\n",
      "only showing top 20 rows\n",
      "\n"
     ]
    }
   ],
   "source": [
    "#Eliminar espacios al inicio y final del nombre\n",
    "df = df.withColumn(\"name\", ltrim(df[\"name\"]))\n",
    "df.show()"
   ]
  }
 ],
 "metadata": {
  "colab": {
   "include_colab_link": true,
   "name": "Untitled3.ipynb",
   "provenance": []
  },
  "kernelspec": {
   "display_name": "Python 3",
   "language": "python",
   "name": "python3"
  },
  "language_info": {
   "codemirror_mode": {
    "name": "ipython",
    "version": 3
   },
   "file_extension": ".py",
   "mimetype": "text/x-python",
   "name": "python",
   "nbconvert_exporter": "python",
   "pygments_lexer": "ipython3",
   "version": "3.7.5"
  }
 },
 "nbformat": 4,
 "nbformat_minor": 1
}
