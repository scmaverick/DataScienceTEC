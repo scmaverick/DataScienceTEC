{
  "nbformat": 4,
  "nbformat_minor": 0,
  "metadata": {
    "kernelspec": {
      "display_name": "Python 3",
      "language": "python",
      "name": "python3"
    },
    "language_info": {
      "codemirror_mode": {
        "name": "ipython",
        "version": 3
      },
      "file_extension": ".py",
      "mimetype": "text/x-python",
      "name": "python",
      "nbconvert_exporter": "python",
      "pygments_lexer": "ipython3",
      "version": "3.6.7"
    },
    "colab": {
      "name": "Tarea5 - Supervised_Machine Learning - Sergio Castillo.ipynb",
      "provenance": [],
      "collapsed_sections": [],
      "include_colab_link": true
    }
  },
  "cells": [
    {
      "cell_type": "markdown",
      "metadata": {
        "id": "view-in-github",
        "colab_type": "text"
      },
      "source": [
        "<a href=\"https://colab.research.google.com/github/scmaverick/DataScienceTEC/blob/master/BigData/Tarea5/Tarea5_Supervised_Machine_Learning_Sergio_Castillo.ipynb\" target=\"_parent\"><img src=\"https://colab.research.google.com/assets/colab-badge.svg\" alt=\"Open In Colab\"/></a>"
      ]
    },
    {
      "cell_type": "markdown",
      "metadata": {
        "id": "ySiiPf_yVU2X",
        "colab_type": "text"
      },
      "source": [
        "# Tarea 5 - Sergio Castillo\n",
        "## Intro ML SUP en BD"
      ]
    },
    {
      "cell_type": "markdown",
      "metadata": {
        "id": "_GkyXQOfVU2Z",
        "colab_type": "text"
      },
      "source": [
        "Creación de la sesión Spark:"
      ]
    },
    {
      "cell_type": "code",
      "metadata": {
        "id": "iFkekBUrYU7u",
        "colab_type": "code",
        "colab": {}
      },
      "source": [
        "#Instalamos y preparamos todo el ambiente con Java y Spark\n",
        "!apt-get install openjdk-8-jdk-headless -qq > /dev/null\n",
        "!wget -q https://www-us.apache.org/dist/spark/spark-2.4.4/spark-2.4.4-bin-hadoop2.7.tgz\n",
        "!tar xf spark-2.4.4-bin-hadoop2.7.tgz\n",
        "!pip install -q findspark"
      ],
      "execution_count": 0,
      "outputs": []
    },
    {
      "cell_type": "code",
      "metadata": {
        "id": "fhVIJl0tVU2a",
        "colab_type": "code",
        "colab": {}
      },
      "source": [
        "#import SparkSession\n",
        "import os\n",
        "os.environ[\"JAVA_HOME\"] = \"/usr/lib/jvm/java-8-openjdk-amd64\"\n",
        "os.environ[\"SPARK_HOME\"] = \"/content/spark-2.4.4-bin-hadoop2.7\"\n",
        "import findspark\n",
        "findspark.init()\n",
        "from pyspark.sql import SparkSession\n",
        "spark = SparkSession.builder.master(\"local[*]\").getOrCreate()\n",
        "from datetime import datetime\n",
        "from pyspark.sql.functions import *\n",
        "from pyspark.sql.types import *\n"
      ],
      "execution_count": 0,
      "outputs": []
    },
    {
      "cell_type": "code",
      "metadata": {
        "id": "BeFC88i-VU2d",
        "colab_type": "code",
        "colab": {}
      },
      "source": [
        "# Crear el spark session object, llamarle \"supervised_ml\"\n",
        "spark = SparkSession.builder.master(\"supervised_ml\").getOrCreate()\n"
      ],
      "execution_count": 0,
      "outputs": []
    },
    {
      "cell_type": "markdown",
      "metadata": {
        "id": "ZG9_PiNbVU2g",
        "colab_type": "text"
      },
      "source": [
        "## Regression "
      ]
    },
    {
      "cell_type": "markdown",
      "metadata": {
        "id": "TXFpi_AjVU2h",
        "colab_type": "text"
      },
      "source": [
        "Carga de datos, archivo *Linear_regression_dataset.csv*:"
      ]
    },
    {
      "cell_type": "code",
      "metadata": {
        "id": "WDT7DHmvVU2i",
        "colab_type": "code",
        "colab": {}
      },
      "source": [
        "# Carga de datos\n",
        "\n",
        "\n",
        "from pyspark import SparkFiles\n",
        "spark.sparkContext.addFile(\"https://raw.githubusercontent.com/fmezacr/BigDataTEC/master/Clase6/Linear_regression_dataset.csv\")\n",
        "df = spark.read.csv(SparkFiles.get(\"Linear_regression_dataset.csv\"), header=True, inferSchema=True)"
      ],
      "execution_count": 0,
      "outputs": []
    },
    {
      "cell_type": "markdown",
      "metadata": {
        "id": "GkmgmO5MVU2l",
        "colab_type": "text"
      },
      "source": [
        "Se invocan las librerias correcpondientes a **LinearRegression**, asi como las de OneHotEncoder, StringIndexer, VectorAssembler:"
      ]
    },
    {
      "cell_type": "code",
      "metadata": {
        "id": "2mxZdOVCVU5h",
        "colab_type": "code",
        "colab": {}
      },
      "source": [
        "# Importacion de libs y operaciones\n",
        "import os\n",
        "import numpy as np\n",
        "import pandas as pd\n",
        "from pyspark.sql.types import *\n",
        "from pyspark.ml import Pipeline\n",
        "from pyspark.sql import functions as f\n",
        "from pyspark.sql.functions import udf, StringType\n",
        "from pyspark.sql import SparkSession, functions as F\n",
        "from pyspark.ml.evaluation import MulticlassClassificationEvaluator\n",
        "from pyspark.ml.classification import MultilayerPerceptronClassifier\n",
        "from pyspark.ml.feature import OneHotEncoder, VectorAssembler, StringIndexer"
      ],
      "execution_count": 0,
      "outputs": []
    },
    {
      "cell_type": "markdown",
      "metadata": {
        "id": "4l3DDBsSVU2o",
        "colab_type": "text"
      },
      "source": [
        "Se visualizan algunos datos:"
      ]
    },
    {
      "cell_type": "code",
      "metadata": {
        "id": "wMp_arT8VU2q",
        "colab_type": "code",
        "colab": {
          "base_uri": "https://localhost:8080/",
          "height": 176
        },
        "outputId": "a60491a5-6e3b-4133-e2bc-3183dc32c447"
      },
      "source": [
        "print((df.count(), len(df.columns))) \n",
        "df.printSchema()"
      ],
      "execution_count": 13,
      "outputs": [
        {
          "output_type": "stream",
          "text": [
            "(1232, 6)\n",
            "root\n",
            " |-- var_1: integer (nullable = true)\n",
            " |-- var_2: integer (nullable = true)\n",
            " |-- var_3: integer (nullable = true)\n",
            " |-- var_4: double (nullable = true)\n",
            " |-- var_5: double (nullable = true)\n",
            " |-- label: double (nullable = true)\n",
            "\n"
          ],
          "name": "stdout"
        }
      ]
    },
    {
      "cell_type": "markdown",
      "metadata": {
        "id": "HOO07niuVU2t",
        "colab_type": "text"
      },
      "source": [
        "Se muestran los primeros 10 datos:"
      ]
    },
    {
      "cell_type": "code",
      "metadata": {
        "id": "q52FK8j2VU2u",
        "colab_type": "code",
        "colab": {
          "base_uri": "https://localhost:8080/",
          "height": 194
        },
        "outputId": "10132b56-4329-4c01-a93c-9bb1a5367ae2"
      },
      "source": [
        "# primeros 10 datos\n",
        "df.head(10)"
      ],
      "execution_count": 14,
      "outputs": [
        {
          "output_type": "execute_result",
          "data": {
            "text/plain": [
              "[Row(var_1=734, var_2=688, var_3=81, var_4=0.328, var_5=0.259, label=0.418),\n",
              " Row(var_1=700, var_2=600, var_3=94, var_4=0.32, var_5=0.247, label=0.389),\n",
              " Row(var_1=712, var_2=705, var_3=93, var_4=0.311, var_5=0.247, label=0.417),\n",
              " Row(var_1=734, var_2=806, var_3=69, var_4=0.315, var_5=0.26, label=0.415),\n",
              " Row(var_1=613, var_2=759, var_3=61, var_4=0.302, var_5=0.24, label=0.378),\n",
              " Row(var_1=748, var_2=676, var_3=85, var_4=0.318, var_5=0.255, label=0.422),\n",
              " Row(var_1=669, var_2=588, var_3=97, var_4=0.315, var_5=0.251, label=0.411),\n",
              " Row(var_1=667, var_2=845, var_3=68, var_4=0.324, var_5=0.251, label=0.381),\n",
              " Row(var_1=758, var_2=890, var_3=64, var_4=0.33, var_5=0.274, label=0.436),\n",
              " Row(var_1=726, var_2=670, var_3=88, var_4=0.335, var_5=0.268, label=0.422)]"
            ]
          },
          "metadata": {
            "tags": []
          },
          "execution_count": 14
        }
      ]
    },
    {
      "cell_type": "markdown",
      "metadata": {
        "id": "8EUQoDldVU2w",
        "colab_type": "text"
      },
      "source": [
        "## Feature Engineering"
      ]
    },
    {
      "cell_type": "markdown",
      "metadata": {
        "id": "SaRMMfyJVU2x",
        "colab_type": "text"
      },
      "source": [
        "Creamos un solo vector con todos los features i.e 'var_1', 'var_2', 'var_3', 'var_4', 'var_5', a este le llamaremos \"features\" y como salida colocamos a 'label':"
      ]
    },
    {
      "cell_type": "code",
      "metadata": {
        "id": "ItctIHpxVU2y",
        "colab_type": "code",
        "colab": {}
      },
      "source": [
        "# Vector Ensamblador\n",
        "#categorical_columns = [item[0] for item in data.dtypes if item[1].startswith('string')]\n",
        "#numeric_columns = [item[0] for item in data.dtypes if item[1].startswith('double')]\n",
        "\n",
        "#indexers = [StringIndexer(inputCol=column, outputCol='{0}_index'.format(column)) for column in categorical_columns]\n",
        "df_assembler = []\n",
        "df_assembler = VectorAssembler(inputCols=df.columns[0:5], outputCol=\"features\")\n",
        "\n",
        "df2 = df_assembler.transform(df).select(['features', 'label'])"
      ],
      "execution_count": 0,
      "outputs": []
    },
    {
      "cell_type": "code",
      "metadata": {
        "id": "f2cI9m1UVU22",
        "colab_type": "code",
        "colab": {
          "base_uri": "https://localhost:8080/",
          "height": 478
        },
        "outputId": "c06dd8a3-0d1c-4ce4-f7d2-02aa0e9605ad"
      },
      "source": [
        "# visulizacion de vector ensamblado compuesto por features y label\n",
        "\n",
        "df2.show()"
      ],
      "execution_count": 16,
      "outputs": [
        {
          "output_type": "stream",
          "text": [
            "+--------------------+-----+\n",
            "|            features|label|\n",
            "+--------------------+-----+\n",
            "|[734.0,688.0,81.0...|0.418|\n",
            "|[700.0,600.0,94.0...|0.389|\n",
            "|[712.0,705.0,93.0...|0.417|\n",
            "|[734.0,806.0,69.0...|0.415|\n",
            "|[613.0,759.0,61.0...|0.378|\n",
            "|[748.0,676.0,85.0...|0.422|\n",
            "|[669.0,588.0,97.0...|0.411|\n",
            "|[667.0,845.0,68.0...|0.381|\n",
            "|[758.0,890.0,64.0...|0.436|\n",
            "|[726.0,670.0,88.0...|0.422|\n",
            "|[583.0,794.0,55.0...|0.371|\n",
            "|[676.0,746.0,72.0...|  0.4|\n",
            "|[767.0,699.0,89.0...|0.433|\n",
            "|[637.0,597.0,86.0...|0.374|\n",
            "|[609.0,724.0,69.0...|0.382|\n",
            "|[776.0,733.0,83.0...|0.437|\n",
            "|[701.0,832.0,66.0...| 0.39|\n",
            "|[650.0,709.0,74.0...|0.386|\n",
            "|[804.0,668.0,95.0...|0.453|\n",
            "|[713.0,614.0,94.0...|0.404|\n",
            "+--------------------+-----+\n",
            "only showing top 20 rows\n",
            "\n"
          ],
          "name": "stdout"
        }
      ]
    },
    {
      "cell_type": "markdown",
      "metadata": {
        "id": "Ne4JyVnjVU25",
        "colab_type": "text"
      },
      "source": [
        "Partimos a continuación el set de datos en 75% training y 25% testing:"
      ]
    },
    {
      "cell_type": "code",
      "metadata": {
        "id": "bYfyq8A_VU26",
        "colab_type": "code",
        "colab": {
          "base_uri": "https://localhost:8080/",
          "height": 52
        },
        "outputId": "8fa9774c-f05c-4589-dc21-fa3ced6e594b"
      },
      "source": [
        "# Particion del data set\n",
        "train, test  = df2.randomSplit([0.75, 0.25], 32)\n",
        "\n",
        "print(f\"Size of train Dataset : {train.count()}\" )\n",
        "print(f\"Size of test Dataset : {test.count()}\" )"
      ],
      "execution_count": 17,
      "outputs": [
        {
          "output_type": "stream",
          "text": [
            "Size of train Dataset : 950\n",
            "Size of test Dataset : 282\n"
          ],
          "name": "stdout"
        }
      ]
    },
    {
      "cell_type": "markdown",
      "metadata": {
        "id": "ZcaWlbiLVU2-",
        "colab_type": "text"
      },
      "source": [
        "Creamos el Regresor Lineal: "
      ]
    },
    {
      "cell_type": "code",
      "metadata": {
        "id": "_ZYb8FG_VU2_",
        "colab_type": "code",
        "colab": {}
      },
      "source": [
        "from pyspark.ml.regression import LinearRegression\n",
        "lr = LinearRegression()"
      ],
      "execution_count": 0,
      "outputs": []
    },
    {
      "cell_type": "markdown",
      "metadata": {
        "id": "puPtpywZVU3D",
        "colab_type": "text"
      },
      "source": [
        "Entrenamos el modelo de regresión lineal:"
      ]
    },
    {
      "cell_type": "code",
      "metadata": {
        "id": "DAweo6nQVU3F",
        "colab_type": "code",
        "colab": {}
      },
      "source": [
        "# Fit the model, le llamamos lr_model\n",
        "lr_model = lr.fit(train)\n",
        "\n"
      ],
      "execution_count": 0,
      "outputs": []
    },
    {
      "cell_type": "markdown",
      "metadata": {
        "id": "FvCXZQdfVU3K",
        "colab_type": "text"
      },
      "source": [
        "Creamos el dataframe de prediciones (*predictions_df*) a partir del modelo de entrenamiento y el conjunto de datos test: "
      ]
    },
    {
      "cell_type": "code",
      "metadata": {
        "id": "mEK4L6s0VU3L",
        "colab_type": "code",
        "colab": {}
      },
      "source": [
        "predictions_df = lr_model.transform(test)"
      ],
      "execution_count": 0,
      "outputs": []
    },
    {
      "cell_type": "markdown",
      "metadata": {
        "id": "giYbRN5rVU3P",
        "colab_type": "text"
      },
      "source": [
        "Visualizamos el contenido de *predictions_df*:"
      ]
    },
    {
      "cell_type": "code",
      "metadata": {
        "scrolled": true,
        "id": "lO6vVxCiVU3Q",
        "colab_type": "code",
        "colab": {
          "base_uri": "https://localhost:8080/",
          "height": 478
        },
        "outputId": "a57547af-2989-4c74-a999-ee4b7da113d9"
      },
      "source": [
        "# visulizacion de predictions_df\n",
        "predictions_df.show()\n"
      ],
      "execution_count": 21,
      "outputs": [
        {
          "output_type": "stream",
          "text": [
            "+--------------------+-----+-------------------+\n",
            "|            features|label|         prediction|\n",
            "+--------------------+-----+-------------------+\n",
            "|[464.0,640.0,66.0...|0.301|0.31425090959414237|\n",
            "|[486.0,610.0,61.0...|0.332| 0.3200618835372234|\n",
            "|[510.0,588.0,72.0...|0.317|0.32409714928176037|\n",
            "|[527.0,569.0,75.0...|0.341| 0.3342283294791447|\n",
            "|[543.0,615.0,76.0...|0.333|   0.34077679575515|\n",
            "|[544.0,551.0,82.0...|0.344|0.33687681741528375|\n",
            "|[545.0,661.0,61.0...| 0.35|0.34062557118153797|\n",
            "|[548.0,636.0,63.0...|0.339|0.33720156902021947|\n",
            "|[550.0,789.0,54.0...|0.359| 0.3439135683303223|\n",
            "|[557.0,659.0,71.0...|0.355|0.34689693716060926|\n",
            "|[570.0,578.0,82.0...|0.363| 0.3496399088079572|\n",
            "|[573.0,656.0,75.0...|0.345|0.34480544862021006|\n",
            "|[574.0,517.0,83.0...|0.331| 0.3448039125603529|\n",
            "|[576.0,759.0,57.0...| 0.35|0.35479335399043554|\n",
            "|[583.0,532.0,80.0...|0.343|0.35312604537815406|\n",
            "|[586.0,688.0,69.0...|0.338|0.35173641672617584|\n",
            "|[586.0,745.0,64.0...|0.349| 0.3581752775912789|\n",
            "|[587.0,663.0,64.0...|0.346| 0.3498750233721911|\n",
            "|[591.0,598.0,84.0...|0.348| 0.3491867334045863|\n",
            "|[593.0,706.0,63.0...| 0.35|  0.356847450243815|\n",
            "+--------------------+-----+-------------------+\n",
            "only showing top 20 rows\n",
            "\n"
          ],
          "name": "stdout"
        }
      ]
    },
    {
      "cell_type": "markdown",
      "metadata": {
        "id": "8eJVb-49VU3W",
        "colab_type": "text"
      },
      "source": [
        "Ahora, evaluamos el modelo de Regresión Lineal, con los datos de TEST:"
      ]
    },
    {
      "cell_type": "code",
      "metadata": {
        "id": "6y3Gf2eXVU3W",
        "colab_type": "code",
        "colab": {}
      },
      "source": [
        "# evaluacion del modelo, le llamaremos model_predictions\n",
        "\n",
        "model_predictions = lr_model.evaluate(test)\n"
      ],
      "execution_count": 0,
      "outputs": []
    },
    {
      "cell_type": "markdown",
      "metadata": {
        "id": "4WGVi7SVVU3Y",
        "colab_type": "text"
      },
      "source": [
        "Imprimimos el valor de R2:"
      ]
    },
    {
      "cell_type": "code",
      "metadata": {
        "id": "porkj7fMVU3Z",
        "colab_type": "code",
        "colab": {
          "base_uri": "https://localhost:8080/",
          "height": 34
        },
        "outputId": "e46bfecb-ef7b-4101-c1e5-004db3697f44"
      },
      "source": [
        "# valor de R2\n",
        "print(\"r2: %f\" % lr_model.summary.r2)\n",
        "\n"
      ],
      "execution_count": 23,
      "outputs": [
        {
          "output_type": "stream",
          "text": [
            "r2: 0.865380\n"
          ],
          "name": "stdout"
        }
      ]
    },
    {
      "cell_type": "markdown",
      "metadata": {
        "id": "DSHSkKILVU3d",
        "colab_type": "text"
      },
      "source": [
        "Imprimimos el valor del meanSquaredError:"
      ]
    },
    {
      "cell_type": "code",
      "metadata": {
        "id": "lkDzgN_aVU3e",
        "colab_type": "code",
        "colab": {
          "base_uri": "https://localhost:8080/",
          "height": 34
        },
        "outputId": "986b24d5-f534-44b0-b007-02b83299994d"
      },
      "source": [
        "# valor del meanSquaredError\n",
        "print(\"MSE: %f\" % lr_model.summary.meanSquaredError)\n",
        "\n"
      ],
      "execution_count": 24,
      "outputs": [
        {
          "output_type": "stream",
          "text": [
            "MSE: 0.000145\n"
          ],
          "name": "stdout"
        }
      ]
    },
    {
      "cell_type": "markdown",
      "metadata": {
        "id": "fyfV9Nv0VU3i",
        "colab_type": "text"
      },
      "source": [
        "## Regresión con Árboles de Decisión"
      ]
    },
    {
      "cell_type": "markdown",
      "metadata": {
        "id": "nLFC2jq9VU3i",
        "colab_type": "text"
      },
      "source": [
        "Importamos la librería *DecisionTreeRegressor*: "
      ]
    },
    {
      "cell_type": "code",
      "metadata": {
        "id": "3kcVCsPVVU3k",
        "colab_type": "code",
        "colab": {}
      },
      "source": [
        "# import lib\n",
        "\n",
        "from pyspark.ml.regression import DecisionTreeRegressor\n"
      ],
      "execution_count": 0,
      "outputs": []
    },
    {
      "cell_type": "markdown",
      "metadata": {
        "id": "wXuUlySpVU3o",
        "colab_type": "text"
      },
      "source": [
        "Creamos el Regresor DT, le llamaremos *dec_tree*:"
      ]
    },
    {
      "cell_type": "code",
      "metadata": {
        "id": "4tf1k3a1VU3p",
        "colab_type": "code",
        "colab": {}
      },
      "source": [
        "# dec_tree\n",
        "\n",
        "dec_tree = DecisionTreeRegressor()\n"
      ],
      "execution_count": 0,
      "outputs": []
    },
    {
      "cell_type": "markdown",
      "metadata": {
        "id": "1nSSKGlZVU3s",
        "colab_type": "text"
      },
      "source": [
        "Entrenamos el modelo:"
      ]
    },
    {
      "cell_type": "code",
      "metadata": {
        "id": "d90VYlGIVU3t",
        "colab_type": "code",
        "colab": {}
      },
      "source": [
        "# Train model, le llamaremos dec_tree_model\n",
        "\n",
        "dec_tree_model = dec_tree.fit(train)"
      ],
      "execution_count": 0,
      "outputs": []
    },
    {
      "cell_type": "code",
      "metadata": {
        "id": "CRT-0JFXrQyP",
        "colab_type": "code",
        "colab": {
          "base_uri": "https://localhost:8080/",
          "height": 34
        },
        "outputId": "a2f3e1c6-fbf8-4d7f-d09d-66911f689520"
      },
      "source": [
        "dec_tree.getMaxDepth()"
      ],
      "execution_count": 28,
      "outputs": [
        {
          "output_type": "execute_result",
          "data": {
            "text/plain": [
              "5"
            ]
          },
          "metadata": {
            "tags": []
          },
          "execution_count": 28
        }
      ]
    },
    {
      "cell_type": "markdown",
      "metadata": {
        "id": "HuNUpgCNVU3x",
        "colab_type": "text"
      },
      "source": [
        "Cuánto es la profundidad máxima por defecto, de este algoritmo?"
      ]
    },
    {
      "cell_type": "markdown",
      "metadata": {
        "id": "iSTsHq0BVU3y",
        "colab_type": "text"
      },
      "source": [
        "R/ 5"
      ]
    },
    {
      "cell_type": "markdown",
      "metadata": {
        "id": "L43PDF2NVU3z",
        "colab_type": "text"
      },
      "source": [
        "Desplegamos las *featureImportances*:"
      ]
    },
    {
      "cell_type": "code",
      "metadata": {
        "scrolled": true,
        "id": "_wmEyjKtVU31",
        "colab_type": "code",
        "colab": {
          "base_uri": "https://localhost:8080/",
          "height": 34
        },
        "outputId": "d77b2f4f-1ec9-4932-9762-5491c52566a6"
      },
      "source": [
        "dec_tree_model.featureImportances"
      ],
      "execution_count": 29,
      "outputs": [
        {
          "output_type": "execute_result",
          "data": {
            "text/plain": [
              "SparseVector(5, {0: 0.9622, 1: 0.0169, 2: 0.005, 3: 0.0049, 4: 0.0109})"
            ]
          },
          "metadata": {
            "tags": []
          },
          "execution_count": 29
        }
      ]
    },
    {
      "cell_type": "markdown",
      "metadata": {
        "id": "voRVOQzHVU33",
        "colab_type": "text"
      },
      "source": [
        "Evaluamos el modelo con los datos de entrenamiento:"
      ]
    },
    {
      "cell_type": "code",
      "metadata": {
        "id": "MgVRtV9HVU34",
        "colab_type": "code",
        "colab": {}
      },
      "source": [
        "# Make predictions, le llamaremos model_predictions \n",
        "model_predictions = dec_tree_model.transform(test)\n",
        "\n"
      ],
      "execution_count": 0,
      "outputs": []
    },
    {
      "cell_type": "code",
      "metadata": {
        "id": "cbJky5_3VU37",
        "colab_type": "code",
        "colab": {
          "base_uri": "https://localhost:8080/",
          "height": 478
        },
        "outputId": "d8812868-7735-4427-a229-5071952f4212"
      },
      "source": [
        "# visualizamos\n",
        "\n",
        "model_predictions.show()"
      ],
      "execution_count": 31,
      "outputs": [
        {
          "output_type": "stream",
          "text": [
            "+--------------------+-----+-------------------+\n",
            "|            features|label|         prediction|\n",
            "+--------------------+-----+-------------------+\n",
            "|[464.0,640.0,66.0...|0.301|0.32023076923076926|\n",
            "|[486.0,610.0,61.0...|0.332|0.32023076923076926|\n",
            "|[510.0,588.0,72.0...|0.317|0.32023076923076926|\n",
            "|[527.0,569.0,75.0...|0.341|             0.3285|\n",
            "|[543.0,615.0,76.0...|0.333|0.32023076923076926|\n",
            "|[544.0,551.0,82.0...|0.344|             0.3285|\n",
            "|[545.0,661.0,61.0...| 0.35|             0.3285|\n",
            "|[548.0,636.0,63.0...|0.339|             0.3285|\n",
            "|[550.0,789.0,54.0...|0.359|0.34299999999999997|\n",
            "|[557.0,659.0,71.0...|0.355|  0.351974025974026|\n",
            "|[570.0,578.0,82.0...|0.363|  0.351974025974026|\n",
            "|[573.0,656.0,75.0...|0.345|  0.351974025974026|\n",
            "|[574.0,517.0,83.0...|0.331|  0.351974025974026|\n",
            "|[576.0,759.0,57.0...| 0.35|  0.351974025974026|\n",
            "|[583.0,532.0,80.0...|0.343|  0.351974025974026|\n",
            "|[586.0,688.0,69.0...|0.338|  0.351974025974026|\n",
            "|[586.0,745.0,64.0...|0.349|  0.351974025974026|\n",
            "|[587.0,663.0,64.0...|0.346|  0.351974025974026|\n",
            "|[591.0,598.0,84.0...|0.348|  0.351974025974026|\n",
            "|[593.0,706.0,63.0...| 0.35|  0.351974025974026|\n",
            "+--------------------+-----+-------------------+\n",
            "only showing top 20 rows\n",
            "\n"
          ],
          "name": "stdout"
        }
      ]
    },
    {
      "cell_type": "markdown",
      "metadata": {
        "id": "sZKusPX9VU39",
        "colab_type": "text"
      },
      "source": [
        "Importamos el **RegressionEvaluator**"
      ]
    },
    {
      "cell_type": "code",
      "metadata": {
        "id": "BJQzYEH7VU3-",
        "colab_type": "code",
        "colab": {}
      },
      "source": [
        "# import Evaluator\n",
        "\n",
        "from pyspark.ml.evaluation import RegressionEvaluator\n"
      ],
      "execution_count": 0,
      "outputs": []
    },
    {
      "cell_type": "markdown",
      "metadata": {
        "id": "McpULg5oVU4A",
        "colab_type": "text"
      },
      "source": [
        "Usando *RegressionEvaluator* calculamos e imprimimos el valor de las metricas R2 y RMSE:"
      ]
    },
    {
      "cell_type": "code",
      "metadata": {
        "id": "VUby-KXuVU4B",
        "colab_type": "code",
        "colab": {
          "base_uri": "https://localhost:8080/",
          "height": 52
        },
        "outputId": "8eb3ec30-ce90-4eda-d76b-440ef638a58f"
      },
      "source": [
        "# R2 value of the model on test data \n",
        "dt_evaluator = RegressionEvaluator(metricName='r2')\n",
        "dt_r2 = dt_evaluator.evaluate(model_predictions)\n",
        "print(f'The r-square value of DecisionTreeRegressor is {dt_r2}')\n",
        "\n",
        "# RMSE value of the model on test data \n",
        "dt_evaluator.setMetricName(\"rmse\")\n",
        "rmse = dt_evaluator.evaluate(model_predictions)\n",
        "print(\"Root Mean Squared Error (RMSE) on test data = \" + str(rmse))\n",
        "\n"
      ],
      "execution_count": 33,
      "outputs": [
        {
          "output_type": "stream",
          "text": [
            "The r-square value of DecisionTreeRegressor is 0.8467659356512574\n",
            "Root Mean Squared Error (RMSE) on test data = 0.013504505717714619\n"
          ],
          "name": "stdout"
        }
      ]
    },
    {
      "cell_type": "markdown",
      "metadata": {
        "id": "cAXkDvqWVU4F",
        "colab_type": "text"
      },
      "source": [
        "## RandomForestRegressor"
      ]
    },
    {
      "cell_type": "markdown",
      "metadata": {
        "id": "8h_gvMbgVU4G",
        "colab_type": "text"
      },
      "source": [
        "Importamos a *RandomForestRegressor*"
      ]
    },
    {
      "cell_type": "code",
      "metadata": {
        "id": "EE6VIhTcVU4H",
        "colab_type": "code",
        "colab": {}
      },
      "source": [
        "# import lib\n",
        "from pyspark.ml.regression import RandomForestRegressor\n",
        "\n"
      ],
      "execution_count": 0,
      "outputs": []
    },
    {
      "cell_type": "markdown",
      "metadata": {
        "id": "UzK-THHcVU4K",
        "colab_type": "text"
      },
      "source": [
        "Creamos el Regresor RF:"
      ]
    },
    {
      "cell_type": "code",
      "metadata": {
        "id": "k9E4dT-sVU4M",
        "colab_type": "code",
        "colab": {}
      },
      "source": [
        "# Regresor \n",
        "\n",
        "rf = RandomForestRegressor()\n"
      ],
      "execution_count": 0,
      "outputs": []
    },
    {
      "cell_type": "markdown",
      "metadata": {
        "id": "dNmDzP0oVU4P",
        "colab_type": "text"
      },
      "source": [
        "Entrenamos el modelo:"
      ]
    },
    {
      "cell_type": "code",
      "metadata": {
        "id": "q23nX2C0VU4P",
        "colab_type": "code",
        "colab": {}
      },
      "source": [
        "# Train model, le llamaremos rf_model\n",
        "rf_model = rf.fit(train)\n"
      ],
      "execution_count": 0,
      "outputs": []
    },
    {
      "cell_type": "markdown",
      "metadata": {
        "id": "aBSsbxeaVU4S",
        "colab_type": "text"
      },
      "source": [
        "Desplegamos las *featureImportances*:"
      ]
    },
    {
      "cell_type": "code",
      "metadata": {
        "scrolled": true,
        "id": "eJs3zPdfVU4T",
        "colab_type": "code",
        "colab": {
          "base_uri": "https://localhost:8080/",
          "height": 34
        },
        "outputId": "c4a81e8a-ff48-4ba0-d1e6-00d3d443e717"
      },
      "source": [
        "# importances \n",
        "\n",
        "rf_model.featureImportances\n"
      ],
      "execution_count": 37,
      "outputs": [
        {
          "output_type": "execute_result",
          "data": {
            "text/plain": [
              "SparseVector(5, {0: 0.5294, 1: 0.0409, 2: 0.0149, 3: 0.2028, 4: 0.2121})"
            ]
          },
          "metadata": {
            "tags": []
          },
          "execution_count": 37
        }
      ]
    },
    {
      "cell_type": "markdown",
      "metadata": {
        "id": "yLg2ClTvVU4W",
        "colab_type": "text"
      },
      "source": [
        "Desplegamos el numero de arboles (Num of Trees)"
      ]
    },
    {
      "cell_type": "code",
      "metadata": {
        "id": "sZzPGS9SVU4W",
        "colab_type": "code",
        "colab": {
          "base_uri": "https://localhost:8080/",
          "height": 34
        },
        "outputId": "c6690a94-9cd5-4463-d28d-b4fe4544f57b"
      },
      "source": [
        "# Numero de Trees\n",
        "\n",
        "print(\"Trees created: \" + str(rf_model.getNumTrees))\n"
      ],
      "execution_count": 38,
      "outputs": [
        {
          "output_type": "stream",
          "text": [
            "Trees created: 20\n"
          ],
          "name": "stdout"
        }
      ]
    },
    {
      "cell_type": "markdown",
      "metadata": {
        "id": "MIuaIasUVU4Y",
        "colab_type": "text"
      },
      "source": [
        "Evaluamos el modelo con los datos de entrenamiento, le llamaremos model_predictions:\n"
      ]
    },
    {
      "cell_type": "code",
      "metadata": {
        "id": "WTHFA9hIVU4Z",
        "colab_type": "code",
        "colab": {}
      },
      "source": [
        "# model_predictions\n",
        "\n",
        "model_predictions = rf_model.transform(train)\n"
      ],
      "execution_count": 0,
      "outputs": []
    },
    {
      "cell_type": "markdown",
      "metadata": {
        "id": "pLG4bV_iVU4d",
        "colab_type": "text"
      },
      "source": [
        "Desplegamos los valores del *model_predictions*"
      ]
    },
    {
      "cell_type": "code",
      "metadata": {
        "scrolled": true,
        "id": "T5L7EwNzVU4e",
        "colab_type": "code",
        "colab": {
          "base_uri": "https://localhost:8080/",
          "height": 478
        },
        "outputId": "07b48112-d91b-41f6-9e60-b5ea20964655"
      },
      "source": [
        "model_predictions.show()"
      ],
      "execution_count": 40,
      "outputs": [
        {
          "output_type": "stream",
          "text": [
            "+--------------------+-----+-------------------+\n",
            "|            features|label|         prediction|\n",
            "+--------------------+-----+-------------------+\n",
            "|[463.0,527.0,67.0...|0.311|   0.32013779169502|\n",
            "|[468.0,746.0,52.0...|0.329| 0.3304187013228318|\n",
            "|[470.0,509.0,76.0...|0.319| 0.3202839333311617|\n",
            "|[473.0,499.0,73.0...|0.315|0.32009393333116165|\n",
            "|[495.0,628.0,66.0...|0.315|0.32502236381372257|\n",
            "|[495.0,752.0,50.0...|0.327| 0.3304187013228318|\n",
            "|[498.0,615.0,67.0...|0.318|0.32447403048038925|\n",
            "|[498.0,672.0,61.0...|0.325|0.33468477932603913|\n",
            "|[501.0,774.0,51.0...|0.315| 0.3304187013228318|\n",
            "|[511.0,576.0,76.0...|0.329|0.32366359602957434|\n",
            "|[513.0,698.0,61.0...|0.339|0.34153971142825046|\n",
            "|[514.0,549.0,81.0...|0.339|0.35338306061506897|\n",
            "|[516.0,504.0,86.0...|0.327| 0.3220756320491104|\n",
            "|[519.0,595.0,73.0...|0.332| 0.3359821210841545|\n",
            "|[522.0,621.0,72.0...|0.317| 0.3246227911641499|\n",
            "|[524.0,665.0,65.0...|0.336|0.32827497269035316|\n",
            "|[528.0,652.0,71.0...|0.319| 0.3310317805556903|\n",
            "|[531.0,491.0,89.0...| 0.32|0.32332108659456493|\n",
            "|[531.0,734.0,55.0...| 0.34| 0.3358942039292137|\n",
            "|[532.0,690.0,69.0...|0.351|0.34630524916939703|\n",
            "+--------------------+-----+-------------------+\n",
            "only showing top 20 rows\n",
            "\n"
          ],
          "name": "stdout"
        }
      ]
    },
    {
      "cell_type": "markdown",
      "metadata": {
        "id": "pvhFrrGXVU4j",
        "colab_type": "text"
      },
      "source": [
        "Usando *RegressionEvaluator* calculamos e imprimimos el valor de las metricas R2 y RMSE:"
      ]
    },
    {
      "cell_type": "code",
      "metadata": {
        "id": "4cCxiWPEVU4l",
        "colab_type": "code",
        "colab": {
          "base_uri": "https://localhost:8080/",
          "height": 52
        },
        "outputId": "4e96d54d-b140-4f0c-a3b7-e3a781c64fd8"
      },
      "source": [
        "# R2 value of the model on test data \n",
        "dt_evaluator = RegressionEvaluator(metricName='r2')\n",
        "dt_r2 = dt_evaluator.evaluate(model_predictions)\n",
        "print(f'The r-square value of RandomForestRegressor is {dt_r2}')\n",
        "\n",
        "# RMSE value of the model on test data \n",
        "dt_evaluator.setMetricName(\"rmse\")\n",
        "rmse = dt_evaluator.evaluate(model_predictions)\n",
        "print(\"Root Mean Squared Error (RMSE) on test data = \" + str(rmse))"
      ],
      "execution_count": 41,
      "outputs": [
        {
          "output_type": "stream",
          "text": [
            "The r-square value of RandomForestRegressor is 0.8654055169547652\n",
            "Root Mean Squared Error (RMSE) on test data = 0.01204844436520372\n"
          ],
          "name": "stdout"
        }
      ]
    },
    {
      "cell_type": "markdown",
      "metadata": {
        "id": "TlsEp3QMVU4o",
        "colab_type": "text"
      },
      "source": [
        "## Gradient-Boosted Tree Regressor"
      ]
    },
    {
      "cell_type": "markdown",
      "metadata": {
        "id": "DPt3pZwvVU4p",
        "colab_type": "text"
      },
      "source": [
        "Importamos a GBTRegressor\n"
      ]
    },
    {
      "cell_type": "code",
      "metadata": {
        "id": "VJiO4KdEVU4r",
        "colab_type": "code",
        "colab": {}
      },
      "source": [
        "# import\n",
        "from pyspark.ml.regression import GBTRegressor\n",
        "\n"
      ],
      "execution_count": 0,
      "outputs": []
    },
    {
      "cell_type": "markdown",
      "metadata": {
        "id": "F6f6BUe9VU4u",
        "colab_type": "text"
      },
      "source": [
        "Creamos el Regresor GBTR, le llamaremos gbt:\n"
      ]
    },
    {
      "cell_type": "code",
      "metadata": {
        "id": "2pZU6M9FVU4v",
        "colab_type": "code",
        "colab": {}
      },
      "source": [
        "# regresor\n",
        "\n",
        "gbt = GBTRegressor()\n"
      ],
      "execution_count": 0,
      "outputs": []
    },
    {
      "cell_type": "markdown",
      "metadata": {
        "id": "H2FD7LDoVU4x",
        "colab_type": "text"
      },
      "source": [
        "Entrenamos el modelo:"
      ]
    },
    {
      "cell_type": "code",
      "metadata": {
        "id": "rh5p5IXDVU4y",
        "colab_type": "code",
        "colab": {}
      },
      "source": [
        "# Train model, le llamaremos gbt_model\n",
        "\n",
        "\n",
        "gbt_model = gbt.fit(train)\n",
        "\n"
      ],
      "execution_count": 0,
      "outputs": []
    },
    {
      "cell_type": "markdown",
      "metadata": {
        "id": "gLyooFlxVU41",
        "colab_type": "text"
      },
      "source": [
        "Desplegamos las featureImportances:"
      ]
    },
    {
      "cell_type": "code",
      "metadata": {
        "id": "URRGQnJBVU42",
        "colab_type": "code",
        "colab": {
          "base_uri": "https://localhost:8080/",
          "height": 34
        },
        "outputId": "234f76d6-a6d4-4fe3-a737-07763261ea69"
      },
      "source": [
        "#Importances\n",
        "gbt_model.featureImportances\n",
        "\n"
      ],
      "execution_count": 45,
      "outputs": [
        {
          "output_type": "execute_result",
          "data": {
            "text/plain": [
              "SparseVector(5, {0: 0.2346, 1: 0.2108, 2: 0.1888, 3: 0.2032, 4: 0.1626})"
            ]
          },
          "metadata": {
            "tags": []
          },
          "execution_count": 45
        }
      ]
    },
    {
      "cell_type": "markdown",
      "metadata": {
        "id": "_mxQ0dFHVU47",
        "colab_type": "text"
      },
      "source": [
        "Evaluamos el modelo con los datos de entrenamiento, le llamaremos model_predictions:"
      ]
    },
    {
      "cell_type": "code",
      "metadata": {
        "id": "XHHLY8CPVU48",
        "colab_type": "code",
        "colab": {}
      },
      "source": [
        "# Model\n",
        "model_predictions = gbt_model.transform(train)\n"
      ],
      "execution_count": 0,
      "outputs": []
    },
    {
      "cell_type": "markdown",
      "metadata": {
        "id": "9ZrqQ163VU4-",
        "colab_type": "text"
      },
      "source": [
        "Desplegamos los valores del *model_predictions*"
      ]
    },
    {
      "cell_type": "code",
      "metadata": {
        "id": "hL3wvFSMVU4_",
        "colab_type": "code",
        "colab": {
          "base_uri": "https://localhost:8080/",
          "height": 478
        },
        "outputId": "485b7605-bc51-447e-909b-a58147a3487e"
      },
      "source": [
        "# show \n",
        "\n",
        "model_predictions.show()\n"
      ],
      "execution_count": 47,
      "outputs": [
        {
          "output_type": "stream",
          "text": [
            "+--------------------+-----+-------------------+\n",
            "|            features|label|         prediction|\n",
            "+--------------------+-----+-------------------+\n",
            "|[463.0,527.0,67.0...|0.311| 0.3164344441725342|\n",
            "|[468.0,746.0,52.0...|0.329| 0.3266866071370786|\n",
            "|[470.0,509.0,76.0...|0.319|0.32096605235456055|\n",
            "|[473.0,499.0,73.0...|0.315| 0.3176814283351136|\n",
            "|[495.0,628.0,66.0...|0.315| 0.3174545939258208|\n",
            "|[495.0,752.0,50.0...|0.327| 0.3266866071370786|\n",
            "|[498.0,615.0,67.0...|0.318| 0.3187126978489555|\n",
            "|[498.0,672.0,61.0...|0.325|0.32629949170524275|\n",
            "|[501.0,774.0,51.0...|0.315|  0.324696547012342|\n",
            "|[511.0,576.0,76.0...|0.329| 0.3221578747828934|\n",
            "|[513.0,698.0,61.0...|0.339| 0.3392956804388739|\n",
            "|[514.0,549.0,81.0...|0.339|0.33402954670576834|\n",
            "|[516.0,504.0,86.0...|0.327|0.32174698115061107|\n",
            "|[519.0,595.0,73.0...|0.332|0.32754215771195183|\n",
            "|[522.0,621.0,72.0...|0.317| 0.3180148230195864|\n",
            "|[524.0,665.0,65.0...|0.336| 0.3253709202766713|\n",
            "|[528.0,652.0,71.0...|0.319| 0.3185904900297776|\n",
            "|[531.0,491.0,89.0...| 0.32|0.32044543150047694|\n",
            "|[531.0,734.0,55.0...| 0.34| 0.3413209497520427|\n",
            "|[532.0,690.0,69.0...|0.351|0.34437272123685775|\n",
            "+--------------------+-----+-------------------+\n",
            "only showing top 20 rows\n",
            "\n"
          ],
          "name": "stdout"
        }
      ]
    },
    {
      "cell_type": "markdown",
      "metadata": {
        "id": "WjqYXkeWVU5C",
        "colab_type": "text"
      },
      "source": [
        "Usando RegressionEvaluator calculamos e imprimimos el valor de las metricas R2 y RMSE:"
      ]
    },
    {
      "cell_type": "code",
      "metadata": {
        "id": "5eDvMW8pVU5D",
        "colab_type": "code",
        "colab": {
          "base_uri": "https://localhost:8080/",
          "height": 52
        },
        "outputId": "0b988765-1970-4cad-ccfd-e7c34c45eeab"
      },
      "source": [
        "# R2 value of the model on test data \n",
        "dt_evaluator = RegressionEvaluator(metricName='r2')\n",
        "dt_r2 = dt_evaluator.evaluate(model_predictions)\n",
        "print(f'The r-square value of RandomForestRegressor is {dt_r2}')\n",
        "\n",
        "# RMSE value of the model on test data \n",
        "dt_evaluator.setMetricName(\"rmse\")\n",
        "rmse = dt_evaluator.evaluate(model_predictions)\n",
        "print(\"Root Mean Squared Error (RMSE) on test data = \" + str(rmse))"
      ],
      "execution_count": 48,
      "outputs": [
        {
          "output_type": "stream",
          "text": [
            "The r-square value of RandomForestRegressor is 0.9239581523452711\n",
            "Root Mean Squared Error (RMSE) on test data = 0.009056151466607818\n"
          ],
          "name": "stdout"
        }
      ]
    },
    {
      "cell_type": "markdown",
      "metadata": {
        "id": "H1gM9wCzVU5I",
        "colab_type": "text"
      },
      "source": [
        " ## Exploracion de datos..."
      ]
    },
    {
      "cell_type": "markdown",
      "metadata": {
        "id": "GJH4K6baVU5J",
        "colab_type": "text"
      },
      "source": [
        "Usaremos el dataset https://archive.ics.uci.edu/ml/datasets/Bank+Marketing \n",
        "\n",
        "Indique a grandes razgos de que se trata este dataset:\n"
      ]
    },
    {
      "cell_type": "markdown",
      "metadata": {
        "id": "jHm0D0cUVU5K",
        "colab_type": "text"
      },
      "source": [
        "Se trata de llamadas de telemercadeo, con las variables indicadas se trata de determinar si el cliente obtendrá el producto o no."
      ]
    },
    {
      "cell_type": "markdown",
      "metadata": {
        "id": "gm8KmIUBVU5K",
        "colab_type": "text"
      },
      "source": [
        "Carga de datos, archivo bank_data.csv:\n"
      ]
    },
    {
      "cell_type": "code",
      "metadata": {
        "id": "PrzG6NCZVU5L",
        "colab_type": "code",
        "colab": {}
      },
      "source": [
        "# Load csv Dataset \n",
        "spark.sparkContext.addFile(\"https://raw.githubusercontent.com/fmezacr/BigDataTEC/master/Clase6/bank_data.csv\")\n",
        "df=spark.read.csv(SparkFiles.get('bank_data.csv'),inferSchema=True,header=True)"
      ],
      "execution_count": 0,
      "outputs": []
    },
    {
      "cell_type": "markdown",
      "metadata": {
        "id": "fHk8TZJBVU5N",
        "colab_type": "text"
      },
      "source": [
        "Determine la cantidad de datos en el dataset:"
      ]
    },
    {
      "cell_type": "code",
      "metadata": {
        "id": "uRFOBPJfVU5O",
        "colab_type": "code",
        "colab": {
          "base_uri": "https://localhost:8080/",
          "height": 34
        },
        "outputId": "3c9d585f-d635-40f5-9b22-284e97025608"
      },
      "source": [
        "#number of records\n",
        "print(\"Number of records:\", df.count())\n",
        "\n",
        "\n"
      ],
      "execution_count": 50,
      "outputs": [
        {
          "output_type": "stream",
          "text": [
            "Number of records: 41188\n"
          ],
          "name": "stdout"
        }
      ]
    },
    {
      "cell_type": "markdown",
      "metadata": {
        "id": "8OuB3CZCVU5Q",
        "colab_type": "text"
      },
      "source": [
        "A que dato corresponde cada columna?"
      ]
    },
    {
      "cell_type": "code",
      "metadata": {
        "scrolled": true,
        "id": "EuoERKk-VU5R",
        "colab_type": "code",
        "colab": {
          "base_uri": "https://localhost:8080/",
          "height": 390
        },
        "outputId": "4ce06670-d259-4d76-a025-c404f3cd752a"
      },
      "source": [
        "# columns values\n",
        "df.columns\n",
        "\n"
      ],
      "execution_count": 51,
      "outputs": [
        {
          "output_type": "execute_result",
          "data": {
            "text/plain": [
              "['age',\n",
              " 'job',\n",
              " 'marital',\n",
              " 'education',\n",
              " 'default',\n",
              " 'housing',\n",
              " 'loan',\n",
              " 'contact',\n",
              " 'month',\n",
              " 'day_of_week',\n",
              " 'duration',\n",
              " 'campaign',\n",
              " 'pdays',\n",
              " 'previous',\n",
              " 'poutcome',\n",
              " 'emp.var.rate',\n",
              " 'cons.price.idx',\n",
              " 'cons.conf.idx',\n",
              " 'euribor3m',\n",
              " 'nr.employed',\n",
              " 'target_class']"
            ]
          },
          "metadata": {
            "tags": []
          },
          "execution_count": 51
        }
      ]
    },
    {
      "cell_type": "markdown",
      "metadata": {
        "id": "7rkYrMzRVU5S",
        "colab_type": "text"
      },
      "source": [
        "Imprima el Schema:"
      ]
    },
    {
      "cell_type": "code",
      "metadata": {
        "id": "vHFY-T2RVU5T",
        "colab_type": "code",
        "colab": {
          "base_uri": "https://localhost:8080/",
          "height": 425
        },
        "outputId": "84c15bf3-88d5-4bea-ce5e-b1671f434ff9"
      },
      "source": [
        "#dataype of input data - Schema\n",
        "\n",
        "df.printSchema()\n",
        "\n"
      ],
      "execution_count": 52,
      "outputs": [
        {
          "output_type": "stream",
          "text": [
            "root\n",
            " |-- age: integer (nullable = true)\n",
            " |-- job: string (nullable = true)\n",
            " |-- marital: string (nullable = true)\n",
            " |-- education: string (nullable = true)\n",
            " |-- default: string (nullable = true)\n",
            " |-- housing: string (nullable = true)\n",
            " |-- loan: string (nullable = true)\n",
            " |-- contact: string (nullable = true)\n",
            " |-- month: string (nullable = true)\n",
            " |-- day_of_week: string (nullable = true)\n",
            " |-- duration: integer (nullable = true)\n",
            " |-- campaign: integer (nullable = true)\n",
            " |-- pdays: integer (nullable = true)\n",
            " |-- previous: integer (nullable = true)\n",
            " |-- poutcome: string (nullable = true)\n",
            " |-- emp.var.rate: double (nullable = true)\n",
            " |-- cons.price.idx: double (nullable = true)\n",
            " |-- cons.conf.idx: double (nullable = true)\n",
            " |-- euribor3m: double (nullable = true)\n",
            " |-- nr.employed: double (nullable = true)\n",
            " |-- target_class: string (nullable = true)\n",
            "\n"
          ],
          "name": "stdout"
        }
      ]
    },
    {
      "cell_type": "markdown",
      "metadata": {
        "id": "EeZz7SMHVU5U",
        "colab_type": "text"
      },
      "source": [
        "En cuanto a la salida, como es la distrubución de clases?"
      ]
    },
    {
      "cell_type": "code",
      "metadata": {
        "id": "pdOr1mLaVU5V",
        "colab_type": "code",
        "colab": {
          "base_uri": "https://localhost:8080/",
          "height": 638
        },
        "outputId": "cba2f275-113f-4dc6-9565-e698937b9e56"
      },
      "source": [
        "# YES/NO Class Distribution\n",
        "print(\"Has credit in default:\")\n",
        "df.groupBy('default').count().show()\n",
        "print(\"Has housing loan:\")\n",
        "df.groupBy('housing').count().show()\n",
        "print(\"Has personal loan:\")\n",
        "df.groupBy('loan').count().show()\n",
        "print(\"Has the client subscribed a term deposit:\")\n",
        "df.groupBy('target_class').count().show()"
      ],
      "execution_count": 70,
      "outputs": [
        {
          "output_type": "stream",
          "text": [
            "Has credit in default:\n",
            "+-------+-----+\n",
            "|default|count|\n",
            "+-------+-----+\n",
            "|unknown| 8597|\n",
            "|     no|32588|\n",
            "|    yes|    3|\n",
            "+-------+-----+\n",
            "\n",
            "Has housing loan:\n",
            "+-------+-----+\n",
            "|housing|count|\n",
            "+-------+-----+\n",
            "|unknown|  990|\n",
            "|     no|18622|\n",
            "|    yes|21576|\n",
            "+-------+-----+\n",
            "\n",
            "Has personal loan:\n",
            "+-------+-----+\n",
            "|   loan|count|\n",
            "+-------+-----+\n",
            "|unknown|  990|\n",
            "|     no|33950|\n",
            "|    yes| 6248|\n",
            "+-------+-----+\n",
            "\n",
            "Has the client subscribed a term deposit:\n",
            "+------------+-----+\n",
            "|target_class|count|\n",
            "+------------+-----+\n",
            "|          no|36548|\n",
            "|         yes| 4640|\n",
            "+------------+-----+\n",
            "\n"
          ],
          "name": "stdout"
        }
      ]
    },
    {
      "cell_type": "markdown",
      "metadata": {
        "id": "xVTk4aLZVU5W",
        "colab_type": "text"
      },
      "source": [
        "Una tarea típica, resulta de convertir los valores binarios en 1 y 0, usando como referencia \"label\", convierta los no/yes en 0/1:"
      ]
    },
    {
      "cell_type": "code",
      "metadata": {
        "id": "t2mg7-wIVU5X",
        "colab_type": "code",
        "colab": {}
      },
      "source": [
        "from pyspark.sql import functions as F\n",
        "from pyspark.sql import *"
      ],
      "execution_count": 0,
      "outputs": []
    },
    {
      "cell_type": "code",
      "metadata": {
        "id": "2cW5N3joVU5b",
        "colab_type": "code",
        "colab": {}
      },
      "source": [
        "# Ingrese acá la instrucción: \n",
        "stringIndexer = StringIndexer(inputCol=\"target_class\", outputCol=\"target_class_idx\")\n",
        "model = stringIndexer.fit(df)\n",
        "indexed = model.transform(df)\n",
        "encoder = OneHotEncoder(dropLast=False, inputCol=\"target_class_idx\", outputCol=\"tgtVector\")\n",
        "encoded = encoder.transform(indexed)\n"
      ],
      "execution_count": 0,
      "outputs": []
    },
    {
      "cell_type": "code",
      "metadata": {
        "id": "87WRajViVU5d",
        "colab_type": "code",
        "colab": {
          "base_uri": "https://localhost:8080/",
          "height": 961
        },
        "outputId": "cb52a383-c997-4f25-9313-82d54e5d1de7"
      },
      "source": [
        "# New 1/0 Class Distribution\n",
        "encoded.show()\n",
        "encoded.createOrReplaceTempView(\"table1\")\n",
        "df2 = spark.sql(\"select * from table1 where target_class='yes'\")\n",
        "df2.show()"
      ],
      "execution_count": 85,
      "outputs": [
        {
          "output_type": "stream",
          "text": [
            "+---+-----------+--------+-------------------+-------+-------+----+---------+-----+-----------+--------+--------+-----+--------+-----------+------------+--------------+-------------+---------+-----------+------------+----------------+-------------+\n",
            "|age|        job| marital|          education|default|housing|loan|  contact|month|day_of_week|duration|campaign|pdays|previous|   poutcome|emp.var.rate|cons.price.idx|cons.conf.idx|euribor3m|nr.employed|target_class|target_class_idx|    tgtVector|\n",
            "+---+-----------+--------+-------------------+-------+-------+----+---------+-----+-----------+--------+--------+-----+--------+-----------+------------+--------------+-------------+---------+-----------+------------+----------------+-------------+\n",
            "| 56|  housemaid| married|           basic.4y|     no|     no|  no|telephone|  may|        mon|     261|       1|  999|       0|nonexistent|         1.1|        93.994|        -36.4|    4.857|     5191.0|          no|             0.0|(2,[0],[1.0])|\n",
            "| 57|   services| married|        high.school|unknown|     no|  no|telephone|  may|        mon|     149|       1|  999|       0|nonexistent|         1.1|        93.994|        -36.4|    4.857|     5191.0|          no|             0.0|(2,[0],[1.0])|\n",
            "| 37|   services| married|        high.school|     no|    yes|  no|telephone|  may|        mon|     226|       1|  999|       0|nonexistent|         1.1|        93.994|        -36.4|    4.857|     5191.0|          no|             0.0|(2,[0],[1.0])|\n",
            "| 40|     admin.| married|           basic.6y|     no|     no|  no|telephone|  may|        mon|     151|       1|  999|       0|nonexistent|         1.1|        93.994|        -36.4|    4.857|     5191.0|          no|             0.0|(2,[0],[1.0])|\n",
            "| 56|   services| married|        high.school|     no|     no| yes|telephone|  may|        mon|     307|       1|  999|       0|nonexistent|         1.1|        93.994|        -36.4|    4.857|     5191.0|          no|             0.0|(2,[0],[1.0])|\n",
            "| 45|   services| married|           basic.9y|unknown|     no|  no|telephone|  may|        mon|     198|       1|  999|       0|nonexistent|         1.1|        93.994|        -36.4|    4.857|     5191.0|          no|             0.0|(2,[0],[1.0])|\n",
            "| 59|     admin.| married|professional.course|     no|     no|  no|telephone|  may|        mon|     139|       1|  999|       0|nonexistent|         1.1|        93.994|        -36.4|    4.857|     5191.0|          no|             0.0|(2,[0],[1.0])|\n",
            "| 41|blue-collar| married|            unknown|unknown|     no|  no|telephone|  may|        mon|     217|       1|  999|       0|nonexistent|         1.1|        93.994|        -36.4|    4.857|     5191.0|          no|             0.0|(2,[0],[1.0])|\n",
            "| 24| technician|  single|professional.course|     no|    yes|  no|telephone|  may|        mon|     380|       1|  999|       0|nonexistent|         1.1|        93.994|        -36.4|    4.857|     5191.0|          no|             0.0|(2,[0],[1.0])|\n",
            "| 25|   services|  single|        high.school|     no|    yes|  no|telephone|  may|        mon|      50|       1|  999|       0|nonexistent|         1.1|        93.994|        -36.4|    4.857|     5191.0|          no|             0.0|(2,[0],[1.0])|\n",
            "| 41|blue-collar| married|            unknown|unknown|     no|  no|telephone|  may|        mon|      55|       1|  999|       0|nonexistent|         1.1|        93.994|        -36.4|    4.857|     5191.0|          no|             0.0|(2,[0],[1.0])|\n",
            "| 25|   services|  single|        high.school|     no|    yes|  no|telephone|  may|        mon|     222|       1|  999|       0|nonexistent|         1.1|        93.994|        -36.4|    4.857|     5191.0|          no|             0.0|(2,[0],[1.0])|\n",
            "| 29|blue-collar|  single|        high.school|     no|     no| yes|telephone|  may|        mon|     137|       1|  999|       0|nonexistent|         1.1|        93.994|        -36.4|    4.857|     5191.0|          no|             0.0|(2,[0],[1.0])|\n",
            "| 57|  housemaid|divorced|           basic.4y|     no|    yes|  no|telephone|  may|        mon|     293|       1|  999|       0|nonexistent|         1.1|        93.994|        -36.4|    4.857|     5191.0|          no|             0.0|(2,[0],[1.0])|\n",
            "| 35|blue-collar| married|           basic.6y|     no|    yes|  no|telephone|  may|        mon|     146|       1|  999|       0|nonexistent|         1.1|        93.994|        -36.4|    4.857|     5191.0|          no|             0.0|(2,[0],[1.0])|\n",
            "| 54|    retired| married|           basic.9y|unknown|    yes| yes|telephone|  may|        mon|     174|       1|  999|       0|nonexistent|         1.1|        93.994|        -36.4|    4.857|     5191.0|          no|             0.0|(2,[0],[1.0])|\n",
            "| 35|blue-collar| married|           basic.6y|     no|    yes|  no|telephone|  may|        mon|     312|       1|  999|       0|nonexistent|         1.1|        93.994|        -36.4|    4.857|     5191.0|          no|             0.0|(2,[0],[1.0])|\n",
            "| 46|blue-collar| married|           basic.6y|unknown|    yes| yes|telephone|  may|        mon|     440|       1|  999|       0|nonexistent|         1.1|        93.994|        -36.4|    4.857|     5191.0|          no|             0.0|(2,[0],[1.0])|\n",
            "| 50|blue-collar| married|           basic.9y|     no|    yes| yes|telephone|  may|        mon|     353|       1|  999|       0|nonexistent|         1.1|        93.994|        -36.4|    4.857|     5191.0|          no|             0.0|(2,[0],[1.0])|\n",
            "| 39| management|  single|           basic.9y|unknown|     no|  no|telephone|  may|        mon|     195|       1|  999|       0|nonexistent|         1.1|        93.994|        -36.4|    4.857|     5191.0|          no|             0.0|(2,[0],[1.0])|\n",
            "+---+-----------+--------+-------------------+-------+-------+----+---------+-----+-----------+--------+--------+-----+--------+-----------+------------+--------------+-------------+---------+-----------+------------+----------------+-------------+\n",
            "only showing top 20 rows\n",
            "\n",
            "+---+------------+--------+-------------------+-------+-------+----+---------+-----+-----------+--------+--------+-----+--------+-----------+------------+--------------+-------------+---------+-----------+------------+----------------+-------------+\n",
            "|age|         job| marital|          education|default|housing|loan|  contact|month|day_of_week|duration|campaign|pdays|previous|   poutcome|emp.var.rate|cons.price.idx|cons.conf.idx|euribor3m|nr.employed|target_class|target_class_idx|    tgtVector|\n",
            "+---+------------+--------+-------------------+-------+-------+----+---------+-----+-----------+--------+--------+-----+--------+-----------+------------+--------------+-------------+---------+-----------+------------+----------------+-------------+\n",
            "| 41| blue-collar|divorced|           basic.4y|unknown|    yes|  no|telephone|  may|        mon|    1575|       1|  999|       0|nonexistent|         1.1|        93.994|        -36.4|    4.857|     5191.0|         yes|             1.0|(2,[1],[1.0])|\n",
            "| 49|entrepreneur| married|  university.degree|unknown|    yes|  no|telephone|  may|        mon|    1042|       1|  999|       0|nonexistent|         1.1|        93.994|        -36.4|    4.857|     5191.0|         yes|             1.0|(2,[1],[1.0])|\n",
            "| 49|  technician| married|           basic.9y|     no|     no|  no|telephone|  may|        mon|    1467|       1|  999|       0|nonexistent|         1.1|        93.994|        -36.4|    4.857|     5191.0|         yes|             1.0|(2,[1],[1.0])|\n",
            "| 41|  technician| married|professional.course|unknown|    yes|  no|telephone|  may|        mon|     579|       1|  999|       0|nonexistent|         1.1|        93.994|        -36.4|    4.857|     5191.0|         yes|             1.0|(2,[1],[1.0])|\n",
            "| 45| blue-collar| married|           basic.9y|unknown|    yes|  no|telephone|  may|        mon|     461|       1|  999|       0|nonexistent|         1.1|        93.994|        -36.4|    4.857|     5191.0|         yes|             1.0|(2,[1],[1.0])|\n",
            "| 42| blue-collar| married|           basic.9y|     no|    yes| yes|telephone|  may|        mon|     673|       2|  999|       0|nonexistent|         1.1|        93.994|        -36.4|    4.857|     5191.0|         yes|             1.0|(2,[1],[1.0])|\n",
            "| 39|   housemaid| married|           basic.9y|     no|    yes|  no|telephone|  may|        mon|     935|       3|  999|       0|nonexistent|         1.1|        93.994|        -36.4|    4.857|     5191.0|         yes|             1.0|(2,[1],[1.0])|\n",
            "| 28|     unknown|  single|            unknown|unknown|    yes| yes|telephone|  may|        tue|    1201|       1|  999|       0|nonexistent|         1.1|        93.994|        -36.4|    4.857|     5191.0|         yes|             1.0|(2,[1],[1.0])|\n",
            "| 44|    services| married|        high.school|     no|    yes|  no|telephone|  may|        tue|    1030|       1|  999|       0|nonexistent|         1.1|        93.994|        -36.4|    4.857|     5191.0|         yes|             1.0|(2,[1],[1.0])|\n",
            "| 42|  technician| married|professional.course|     no|     no|  no|telephone|  may|        tue|    1623|       1|  999|       0|nonexistent|         1.1|        93.994|        -36.4|    4.857|     5191.0|         yes|             1.0|(2,[1],[1.0])|\n",
            "| 42|  management| married|  university.degree|     no|     no|  no|telephone|  may|        tue|    1677|       1|  999|       0|nonexistent|         1.1|        93.994|        -36.4|    4.857|     5191.0|         yes|             1.0|(2,[1],[1.0])|\n",
            "| 39|    services| married|        high.school|unknown|    yes|  no|telephone|  may|        tue|     918|       1|  999|       0|nonexistent|         1.1|        93.994|        -36.4|    4.857|     5191.0|         yes|             1.0|(2,[1],[1.0])|\n",
            "| 42| blue-collar| married|        high.school|     no|     no| yes|telephone|  may|        tue|    1297|       3|  999|       0|nonexistent|         1.1|        93.994|        -36.4|    4.857|     5191.0|         yes|             1.0|(2,[1],[1.0])|\n",
            "| 45|   housemaid| married|professional.course|unknown|    yes|  no|telephone|  may|        tue|    1597|       2|  999|       0|nonexistent|         1.1|        93.994|        -36.4|    4.857|     5191.0|         yes|             1.0|(2,[1],[1.0])|\n",
            "| 31|      admin.|  single|  university.degree|     no|     no|  no|telephone|  may|        wed|     992|       1|  999|       0|nonexistent|         1.1|        93.994|        -36.4|    4.856|     5191.0|         yes|             1.0|(2,[1],[1.0])|\n",
            "| 28|     student|  single|           basic.9y|unknown|    yes| yes|telephone|  may|        wed|     732|       2|  999|       0|nonexistent|         1.1|        93.994|        -36.4|    4.856|     5191.0|         yes|             1.0|(2,[1],[1.0])|\n",
            "| 41|entrepreneur| married|  university.degree|     no|    yes|  no|telephone|  may|        wed|    1138|       1|  999|       0|nonexistent|         1.1|        93.994|        -36.4|    4.856|     5191.0|         yes|             1.0|(2,[1],[1.0])|\n",
            "| 37| blue-collar|  single|           basic.9y|unknown|    yes|  no|telephone|  may|        wed|     591|       1|  999|       0|nonexistent|         1.1|        93.994|        -36.4|    4.856|     5191.0|         yes|             1.0|(2,[1],[1.0])|\n",
            "| 44| blue-collar| married|           basic.4y|     no|    yes|  no|telephone|  may|        wed|     786|       1|  999|       0|nonexistent|         1.1|        93.994|        -36.4|    4.856|     5191.0|         yes|             1.0|(2,[1],[1.0])|\n",
            "| 44|entrepreneur| married|           basic.4y|unknown|     no|  no|telephone|  may|        wed|    1574|       2|  999|       0|nonexistent|         1.1|        93.994|        -36.4|    4.856|     5191.0|         yes|             1.0|(2,[1],[1.0])|\n",
            "+---+------------+--------+-------------------+-------+-------+----+---------+-----+-----------+--------+--------+-----+--------+-----------+------------+--------------+-------------+---------+-----------+------------+----------------+-------------+\n",
            "only showing top 20 rows\n",
            "\n"
          ],
          "name": "stdout"
        }
      ]
    },
    {
      "cell_type": "markdown",
      "metadata": {
        "id": "mKgKo5ZUVU5f",
        "colab_type": "text"
      },
      "source": [
        "A continuación se presenta un ejercicio de Deep Learning para su revisión..."
      ]
    },
    {
      "cell_type": "markdown",
      "metadata": {
        "collapsed": true,
        "id": "cFmj57KZVU5g",
        "colab_type": "text"
      },
      "source": [
        "# Deep Learning "
      ]
    },
    {
      "cell_type": "markdown",
      "metadata": {
        "id": "X5c_H_cYVU5g",
        "colab_type": "text"
      },
      "source": [
        "Importamos las librerias necesarias:"
      ]
    },
    {
      "cell_type": "markdown",
      "metadata": {
        "id": "917hvHZyVU5k",
        "colab_type": "text"
      },
      "source": [
        "Inicializamos la sesion SPARK:"
      ]
    },
    {
      "cell_type": "code",
      "metadata": {
        "id": "1LpiZ9IdVU5m",
        "colab_type": "code",
        "colab": {}
      },
      "source": [
        "spark = SparkSession.builder.appName('deep_learning').getOrCreate()"
      ],
      "execution_count": 0,
      "outputs": []
    },
    {
      "cell_type": "markdown",
      "metadata": {
        "id": "aGYbR--aVU5q",
        "colab_type": "text"
      },
      "source": [
        "Leemos el dataset:"
      ]
    },
    {
      "cell_type": "code",
      "metadata": {
        "id": "rkMe4ORJVU5r",
        "colab_type": "code",
        "colab": {}
      },
      "source": [
        "spark.sparkContext.addFile(\"https://raw.githubusercontent.com/fmezacr/BigDataTEC/master/Clase6/dl_data.csv\")\n",
        "data = spark.read.csv(SparkFiles.get('dl_data.csv'), header=True, inferSchema=True)"
      ],
      "execution_count": 0,
      "outputs": []
    },
    {
      "cell_type": "code",
      "metadata": {
        "id": "kvHxKp4LVU5u",
        "colab_type": "code",
        "colab": {
          "base_uri": "https://localhost:8080/",
          "height": 354
        },
        "outputId": "fd7e4390-f1d9-4455-f60e-3e41ab55c9ac"
      },
      "source": [
        "data.printSchema()"
      ],
      "execution_count": 89,
      "outputs": [
        {
          "output_type": "stream",
          "text": [
            "root\n",
            " |-- Visit_Number_Bucket: string (nullable = true)\n",
            " |-- Page_Views_Normalized: double (nullable = true)\n",
            " |-- Orders_Normalized: integer (nullable = true)\n",
            " |-- Internal_Search_Successful_Normalized: double (nullable = true)\n",
            " |-- Internal_Search_Null_Normalized: double (nullable = true)\n",
            " |-- Email_Signup_Normalized: double (nullable = true)\n",
            " |-- Total_Seconds_Spent_Normalized: double (nullable = true)\n",
            " |-- Store_Locator_Search_Normalized: double (nullable = true)\n",
            " |-- Mapped_Last_Touch_Channel: string (nullable = true)\n",
            " |-- Mapped_Mobile_Device_Type: string (nullable = true)\n",
            " |-- Mapped_Browser_Type: string (nullable = true)\n",
            " |-- Mapped_Entry_Pages: string (nullable = true)\n",
            " |-- Mapped_Site_Section: string (nullable = true)\n",
            " |-- Mapped_Promo_Code: string (nullable = true)\n",
            " |-- Maped_Product_Name: string (nullable = true)\n",
            " |-- Mapped_Search_Term: string (nullable = true)\n",
            " |-- Mapped_Product_Collection: string (nullable = true)\n",
            "\n"
          ],
          "name": "stdout"
        }
      ]
    },
    {
      "cell_type": "markdown",
      "metadata": {
        "id": "RgEIDBQ3VU5x",
        "colab_type": "text"
      },
      "source": [
        "Renombramos la columna TARGET:"
      ]
    },
    {
      "cell_type": "code",
      "metadata": {
        "id": "ea4FfDHvVU5x",
        "colab_type": "code",
        "colab": {}
      },
      "source": [
        "data = data.withColumnRenamed('Orders_Normalized', 'label')"
      ],
      "execution_count": 0,
      "outputs": []
    },
    {
      "cell_type": "code",
      "metadata": {
        "id": "V4OrVXV6VU5y",
        "colab_type": "code",
        "colab": {
          "base_uri": "https://localhost:8080/",
          "height": 354
        },
        "outputId": "e23b6250-bf48-4864-dd9a-fe2929bb2db7"
      },
      "source": [
        "data.printSchema()"
      ],
      "execution_count": 91,
      "outputs": [
        {
          "output_type": "stream",
          "text": [
            "root\n",
            " |-- Visit_Number_Bucket: string (nullable = true)\n",
            " |-- Page_Views_Normalized: double (nullable = true)\n",
            " |-- label: integer (nullable = true)\n",
            " |-- Internal_Search_Successful_Normalized: double (nullable = true)\n",
            " |-- Internal_Search_Null_Normalized: double (nullable = true)\n",
            " |-- Email_Signup_Normalized: double (nullable = true)\n",
            " |-- Total_Seconds_Spent_Normalized: double (nullable = true)\n",
            " |-- Store_Locator_Search_Normalized: double (nullable = true)\n",
            " |-- Mapped_Last_Touch_Channel: string (nullable = true)\n",
            " |-- Mapped_Mobile_Device_Type: string (nullable = true)\n",
            " |-- Mapped_Browser_Type: string (nullable = true)\n",
            " |-- Mapped_Entry_Pages: string (nullable = true)\n",
            " |-- Mapped_Site_Section: string (nullable = true)\n",
            " |-- Mapped_Promo_Code: string (nullable = true)\n",
            " |-- Maped_Product_Name: string (nullable = true)\n",
            " |-- Mapped_Search_Term: string (nullable = true)\n",
            " |-- Mapped_Product_Collection: string (nullable = true)\n",
            "\n"
          ],
          "name": "stdout"
        }
      ]
    },
    {
      "cell_type": "markdown",
      "metadata": {
        "id": "VbUUEGRxVU50",
        "colab_type": "text"
      },
      "source": [
        "Partimos lo datos en Train, Validation y Test:"
      ]
    },
    {
      "cell_type": "code",
      "metadata": {
        "id": "UOLOdDWiVU51",
        "colab_type": "code",
        "colab": {}
      },
      "source": [
        "train, validation, test  = data.randomSplit([0.7, 0.2, 0.1], 1234)"
      ],
      "execution_count": 0,
      "outputs": []
    },
    {
      "cell_type": "markdown",
      "metadata": {
        "id": "QbTyIsFnVU53",
        "colab_type": "text"
      },
      "source": [
        "Construimos el Pipeline"
      ]
    },
    {
      "cell_type": "code",
      "metadata": {
        "id": "_90xVbcxVU54",
        "colab_type": "code",
        "colab": {}
      },
      "source": [
        "categorical_columns = [item[0] for item in data.dtypes if item[1].startswith('string')]\n",
        "numeric_columns = [item[0] for item in data.dtypes if item[1].startswith('double')]\n",
        "\n",
        "indexers = [StringIndexer(inputCol=column, outputCol='{0}_index'.format(column)) for column in categorical_columns]\n",
        "\n",
        "featuresCreator = VectorAssembler(inputCols=[indexer.getOutputCol() for indexer in indexers] + numeric_columns, outputCol=\"features\")\n",
        "\n",
        "layers = [len(featuresCreator.getInputCols()), 4, 2, 2]\n",
        "\n",
        "classifier = MultilayerPerceptronClassifier(labelCol='label', featuresCol='features', maxIter=100, layers=layers, blockSize=128, seed=1234)\n",
        "\n",
        "pipeline = Pipeline(stages=indexers + [featuresCreator, classifier])"
      ],
      "execution_count": 0,
      "outputs": []
    },
    {
      "cell_type": "markdown",
      "metadata": {
        "id": "QCOQMHH1VU57",
        "colab_type": "text"
      },
      "source": [
        "Entrenamos..."
      ]
    },
    {
      "cell_type": "code",
      "metadata": {
        "id": "SP9eaOjbVU58",
        "colab_type": "code",
        "colab": {}
      },
      "source": [
        "model = pipeline.fit(train)"
      ],
      "execution_count": 0,
      "outputs": []
    },
    {
      "cell_type": "markdown",
      "metadata": {
        "id": "5TKPL5_UVU5-",
        "colab_type": "text"
      },
      "source": [
        "Validamos y Evaluamos"
      ]
    },
    {
      "cell_type": "code",
      "metadata": {
        "id": "D07lI7aRVU5-",
        "colab_type": "code",
        "colab": {}
      },
      "source": [
        "train_output_df = model.transform(train)\n",
        "validation_output_df = model.transform(validation)\n",
        "test_output_df = model.transform(test)"
      ],
      "execution_count": 0,
      "outputs": []
    },
    {
      "cell_type": "markdown",
      "metadata": {
        "id": "vH8rwj5UVU5_",
        "colab_type": "text"
      },
      "source": [
        "Llevamos a cabo, algunas predicciones:"
      ]
    },
    {
      "cell_type": "code",
      "metadata": {
        "id": "CMUahCYJVU6A",
        "colab_type": "code",
        "colab": {
          "base_uri": "https://localhost:8080/",
          "height": 176
        },
        "outputId": "a85cf99a-4fdd-4a8b-feea-acab7bba2628"
      },
      "source": [
        "train_predictionAndLabels = train_output_df.select(\"prediction\", \"label\")\n",
        "validation_predictionAndLabels = validation_output_df.select(\"prediction\", \"label\")\n",
        "test_predictionAndLabels = test_output_df.select(\"prediction\", \"label\")\n",
        "\n",
        "metrics = ['weightedPrecision', 'weightedRecall', 'accuracy']\n",
        "\n",
        "for metric in metrics:\n",
        "    evaluator = MulticlassClassificationEvaluator(metricName=metric)\n",
        "    print('Train ' + metric + ' = ' + str(evaluator.evaluate(train_predictionAndLabels)))\n",
        "    print('Validation ' + metric + ' = ' + str(evaluator.evaluate(validation_predictionAndLabels)))\n",
        "    print('Test ' + metric + ' = ' + str(evaluator.evaluate(test_predictionAndLabels)))"
      ],
      "execution_count": 96,
      "outputs": [
        {
          "output_type": "stream",
          "text": [
            "Train weightedPrecision = 0.9722605697126978\n",
            "Validation weightedPrecision = 0.9734944186485901\n",
            "Test weightedPrecision = 0.9710090865749514\n",
            "Train weightedRecall = 0.9718655625913297\n",
            "Validation weightedRecall = 0.9731379731379731\n",
            "Test weightedRecall = 0.9706199460916443\n",
            "Train accuracy = 0.9718655625913297\n",
            "Validation accuracy = 0.9731379731379731\n",
            "Test accuracy = 0.9706199460916443\n"
          ],
          "name": "stdout"
        }
      ]
    },
    {
      "cell_type": "markdown",
      "metadata": {
        "id": "mZEMamMsVU6F",
        "colab_type": "text"
      },
      "source": [
        "Puede mejorar el test accuracy del modelo variando alguno de los hyperparametros?"
      ]
    },
    {
      "cell_type": "code",
      "metadata": {
        "id": "5CZIZon9VU6F",
        "colab_type": "code",
        "colab": {
          "base_uri": "https://localhost:8080/",
          "height": 176
        },
        "outputId": "5d6adb08-d0dd-408e-c63c-98e62fb8d654"
      },
      "source": [
        "#Cambiamos maxIter a 300\n",
        "classifier = MultilayerPerceptronClassifier(labelCol='label', featuresCol='features', maxIter=300, layers=layers, blockSize=128, seed=1234)\n",
        "\n",
        "pipeline = Pipeline(stages=indexers + [featuresCreator, classifier])\n",
        "model = pipeline.fit(train)\n",
        "train_output_df = model.transform(train)\n",
        "validation_output_df = model.transform(validation)\n",
        "test_output_df = model.transform(test)\n",
        "train_predictionAndLabels = train_output_df.select(\"prediction\", \"label\")\n",
        "validation_predictionAndLabels = validation_output_df.select(\"prediction\", \"label\")\n",
        "test_predictionAndLabels = test_output_df.select(\"prediction\", \"label\")\n",
        "metrics = ['weightedPrecision', 'weightedRecall', 'accuracy']\n",
        "for metric in metrics:\n",
        "    evaluator = MulticlassClassificationEvaluator(metricName=metric)\n",
        "    print('Train ' + metric + ' = ' + str(evaluator.evaluate(train_predictionAndLabels)))\n",
        "    print('Validation ' + metric + ' = ' + str(evaluator.evaluate(validation_predictionAndLabels)))\n",
        "    print('Test ' + metric + ' = ' + str(evaluator.evaluate(test_predictionAndLabels)))"
      ],
      "execution_count": 98,
      "outputs": [
        {
          "output_type": "stream",
          "text": [
            "Train weightedPrecision = 0.9750134646991298\n",
            "Validation weightedPrecision = 0.9761981207517723\n",
            "Test weightedPrecision = 0.9729149285584404\n",
            "Train weightedRecall = 0.9743399902581589\n",
            "Validation weightedRecall = 0.9755799755799756\n",
            "Test weightedRecall = 0.9722371967654986\n",
            "Train accuracy = 0.9743399902581588\n",
            "Validation accuracy = 0.9755799755799756\n",
            "Test accuracy = 0.9722371967654987\n"
          ],
          "name": "stdout"
        }
      ]
    },
    {
      "cell_type": "markdown",
      "metadata": {
        "id": "qnOnFrif9u8N",
        "colab_type": "text"
      },
      "source": [
        "R/ Con solo aumentar la cantidad de iteraciones se logró aumentar la precisión de test accuracy de 97.06% a 97.22%, por lo tanto se podría seguir aumentando las iteraciones o algún otro parámetro y de seguro se podría obtener un mejor valor."
      ]
    }
  ]
}