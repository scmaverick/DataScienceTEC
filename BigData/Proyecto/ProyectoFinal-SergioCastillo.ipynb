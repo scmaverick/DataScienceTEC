{
 "cells": [
  {
   "cell_type": "markdown",
   "metadata": {},
   "source": [
    "# Proyecto Final - Big Data\n",
    "## Estudiante Sergio Castillo\n",
    "\n",
    "El objetivo de este proyecto es conectarse a una BD PostgreSQL donde se encuentra un dataset para aplicacion de algoritmos de machine learning utilizando pyspark.\n",
    "\n",
    "El dataset se llama Abalone, contiene datos obtenidos de mediciones realizadas sobre abalones, los cuales son un tipo de moluscos comunes a la isla de Tasmania. El objetivo del estudio es tratar de predecir la edad de los animas en anhos a partir de los siguientes datos:\n",
    "\n",
    "\n",
    "\tName\t\tData Type\tMeas.\tDescription\n",
    "\t----\t\t---------\t-----\t-----------\n",
    "\tSex\t\tnominal\t\t\tM, F, and I (infant)\n",
    "\tLength\t\tcontinuous\tmm\tLongest shell measurement\n",
    "\tDiameter\tcontinuous\tmm\tperpendicular to length\n",
    "\tHeight\t\tcontinuous\tmm\twith meat in shell\n",
    "\tWhole weight\tcontinuous\tgrams\twhole abalone\n",
    "\tShucked weight\tcontinuous\tgrams\tweight of meat\n",
    "\tViscera weight\tcontinuous\tgrams\tgut weight (after bleeding)\n",
    "\tShell weight\tcontinuous\tgrams\tafter being dried\n",
    "\tRings\t\tinteger\t\t\t+1.5 gives the age in years\n",
    "    \n",
    "El parametro mas comun para obtener la edad del animal es cortar la concha del animal, limpiarla y contar la cantidad de anillos que son visibles solo por medio de microscopio. Es un trabajo arduo y aburrido para los investigadores, por tanto la idea es poder predecir la edad a partir de otros parametros mas sencillos de obtener.\n",
    "\n",
    "El dataset es tomado de https://archive.ics.uci.edu/ml/datasets/Abalone"
   ]
  },
  {
   "cell_type": "code",
   "execution_count": 1,
   "metadata": {},
   "outputs": [
    {
     "name": "stdout",
     "output_type": "stream",
     "text": [
      "+---+------+--------+------+------------+--------------+--------------+------------+--------+\n",
      "|sex|length|diameter|height|whole_weight|shucked_weight|viscera_weight|shell_weight|ring_age|\n",
      "+---+------+--------+------+------------+--------------+--------------+------------+--------+\n",
      "|  M| 0.455|   0.365| 0.095|       0.514|        0.2245|         0.101|        0.15|      15|\n",
      "|  M|  0.35|   0.265|  0.09|      0.2255|        0.0995|        0.0485|        0.07|       7|\n",
      "|  F|  0.53|    0.42| 0.135|       0.677|        0.2565|        0.1415|        0.21|       9|\n",
      "|  M|  0.44|   0.365| 0.125|       0.516|        0.2155|         0.114|       0.155|      10|\n",
      "|  I|  0.33|   0.255|  0.08|       0.205|        0.0895|        0.0395|       0.055|       7|\n",
      "|  I| 0.425|     0.3| 0.095|      0.3515|         0.141|        0.0775|        0.12|       8|\n",
      "|  F|  0.53|   0.415|  0.15|      0.7775|         0.237|        0.1415|        0.33|      20|\n",
      "|  F| 0.545|   0.425| 0.125|       0.768|         0.294|        0.1495|        0.26|      16|\n",
      "|  M| 0.475|    0.37| 0.125|      0.5095|        0.2165|        0.1125|       0.165|       9|\n",
      "|  F|  0.55|    0.44|  0.15|      0.8945|        0.3145|         0.151|        0.32|      19|\n",
      "|  F| 0.525|    0.38|  0.14|      0.6065|         0.194|        0.1475|        0.21|      14|\n",
      "|  M|  0.43|    0.35|  0.11|       0.406|        0.1675|         0.081|       0.135|      10|\n",
      "|  M|  0.49|    0.38| 0.135|      0.5415|        0.2175|         0.095|        0.19|      11|\n",
      "|  F| 0.535|   0.405| 0.145|      0.6845|        0.2725|         0.171|       0.205|      10|\n",
      "|  F|  0.47|   0.355|   0.1|      0.4755|        0.1675|        0.0805|       0.185|      10|\n",
      "|  M|   0.5|     0.4|  0.13|      0.6645|         0.258|         0.133|        0.24|      12|\n",
      "|  I| 0.355|    0.28| 0.085|      0.2905|         0.095|        0.0395|       0.115|       7|\n",
      "|  F|  0.44|    0.34|   0.1|       0.451|         0.188|         0.087|        0.13|      10|\n",
      "|  M| 0.365|   0.295|  0.08|      0.2555|         0.097|         0.043|         0.1|       7|\n",
      "|  M|  0.45|    0.32|   0.1|       0.381|        0.1705|         0.075|       0.115|       9|\n",
      "+---+------+--------+------+------------+--------------+--------------+------------+--------+\n",
      "only showing top 20 rows\n",
      "\n"
     ]
    }
   ],
   "source": [
    "import findspark\n",
    "import os\n",
    "\n",
    "from datetime import datetime\n",
    "from pyspark.sql import SparkSession\n",
    "from pyspark.sql.functions import col, date_format, udf \n",
    "from pyspark.sql.types import DateType\n",
    "\n",
    "spark = SparkSession.builder.appName(\"Basic JDBC pipeline\") \\\n",
    "        .config(\"spark.driver.extraClassPath\", \"C:/postgresql-42.2.9.jar\").getOrCreate()\n",
    "            \n",
    "\n",
    "findspark.init('C:\\spark\\spark-2.4.4-bin-hadoop2.7')\n",
    "\n",
    "# Reading single DataFrame in Spark by retrieving all rows from a DB table.\n",
    "df = spark \\\n",
    "    .read \\\n",
    "    .format(\"jdbc\") \\\n",
    "    .option(\"url\", \"jdbc:postgresql://192.168.19.128/postgres\") \\\n",
    "    .option(\"user\", \"sergio\") \\\n",
    "    .option(\"password\", \"postgres\") \\\n",
    "    .option(\"dbtable\", \"abalone\") \\\n",
    "    .load()\n",
    "\n",
    "\n",
    "df.show()"
   ]
  },
  {
   "cell_type": "code",
   "execution_count": 87,
   "metadata": {},
   "outputs": [
    {
     "name": "stdout",
     "output_type": "stream",
     "text": [
      "root\n",
      " |-- sex: string (nullable = true)\n",
      " |-- length: double (nullable = true)\n",
      " |-- diameter: double (nullable = true)\n",
      " |-- height: double (nullable = true)\n",
      " |-- whole_weight: double (nullable = true)\n",
      " |-- shucked_weight: double (nullable = true)\n",
      " |-- viscera_weight: double (nullable = true)\n",
      " |-- shell_weight: double (nullable = true)\n",
      " |-- ring_age: integer (nullable = true)\n",
      "\n"
     ]
    }
   ],
   "source": [
    "# Verifiquemos el esquema\n",
    "df.printSchema()"
   ]
  },
  {
   "cell_type": "code",
   "execution_count": 88,
   "metadata": {},
   "outputs": [
    {
     "data": {
      "text/html": [
       "<div>\n",
       "<style scoped>\n",
       "    .dataframe tbody tr th:only-of-type {\n",
       "        vertical-align: middle;\n",
       "    }\n",
       "\n",
       "    .dataframe tbody tr th {\n",
       "        vertical-align: top;\n",
       "    }\n",
       "\n",
       "    .dataframe thead th {\n",
       "        text-align: right;\n",
       "    }\n",
       "</style>\n",
       "<table border=\"1\" class=\"dataframe\">\n",
       "  <thead>\n",
       "    <tr style=\"text-align: right;\">\n",
       "      <th></th>\n",
       "      <th>0</th>\n",
       "      <th>1</th>\n",
       "      <th>2</th>\n",
       "      <th>3</th>\n",
       "      <th>4</th>\n",
       "    </tr>\n",
       "  </thead>\n",
       "  <tbody>\n",
       "    <tr>\n",
       "      <th>summary</th>\n",
       "      <td>count</td>\n",
       "      <td>mean</td>\n",
       "      <td>stddev</td>\n",
       "      <td>min</td>\n",
       "      <td>max</td>\n",
       "    </tr>\n",
       "    <tr>\n",
       "      <th>sex</th>\n",
       "      <td>4177</td>\n",
       "      <td>None</td>\n",
       "      <td>None</td>\n",
       "      <td>F</td>\n",
       "      <td>M</td>\n",
       "    </tr>\n",
       "    <tr>\n",
       "      <th>length</th>\n",
       "      <td>4177</td>\n",
       "      <td>0.5239920995930099</td>\n",
       "      <td>0.12009291256479936</td>\n",
       "      <td>0.075</td>\n",
       "      <td>0.815</td>\n",
       "    </tr>\n",
       "    <tr>\n",
       "      <th>diameter</th>\n",
       "      <td>4177</td>\n",
       "      <td>0.407881254488869</td>\n",
       "      <td>0.09923986613365941</td>\n",
       "      <td>0.055</td>\n",
       "      <td>0.65</td>\n",
       "    </tr>\n",
       "    <tr>\n",
       "      <th>height</th>\n",
       "      <td>4177</td>\n",
       "      <td>0.1395163993296614</td>\n",
       "      <td>0.04182705660725731</td>\n",
       "      <td>0.0</td>\n",
       "      <td>1.13</td>\n",
       "    </tr>\n",
       "    <tr>\n",
       "      <th>whole_weight</th>\n",
       "      <td>4177</td>\n",
       "      <td>0.82874215944458</td>\n",
       "      <td>0.49038901823099795</td>\n",
       "      <td>0.002</td>\n",
       "      <td>2.8255</td>\n",
       "    </tr>\n",
       "    <tr>\n",
       "      <th>shucked_weight</th>\n",
       "      <td>4177</td>\n",
       "      <td>0.35936748862820106</td>\n",
       "      <td>0.22196294903322014</td>\n",
       "      <td>0.001</td>\n",
       "      <td>1.488</td>\n",
       "    </tr>\n",
       "    <tr>\n",
       "      <th>viscera_weight</th>\n",
       "      <td>4177</td>\n",
       "      <td>0.18059360785252604</td>\n",
       "      <td>0.10961425025968445</td>\n",
       "      <td>5.0E-4</td>\n",
       "      <td>0.76</td>\n",
       "    </tr>\n",
       "    <tr>\n",
       "      <th>shell_weight</th>\n",
       "      <td>4177</td>\n",
       "      <td>0.23883085946851795</td>\n",
       "      <td>0.13920266952238622</td>\n",
       "      <td>0.0015</td>\n",
       "      <td>1.005</td>\n",
       "    </tr>\n",
       "    <tr>\n",
       "      <th>ring_age</th>\n",
       "      <td>4177</td>\n",
       "      <td>9.933684462532918</td>\n",
       "      <td>3.2241690320681315</td>\n",
       "      <td>1</td>\n",
       "      <td>29</td>\n",
       "    </tr>\n",
       "  </tbody>\n",
       "</table>\n",
       "</div>"
      ],
      "text/plain": [
       "                    0                    1                    2       3  \\\n",
       "summary         count                 mean               stddev     min   \n",
       "sex              4177                 None                 None       F   \n",
       "length           4177   0.5239920995930099  0.12009291256479936   0.075   \n",
       "diameter         4177    0.407881254488869  0.09923986613365941   0.055   \n",
       "height           4177   0.1395163993296614  0.04182705660725731     0.0   \n",
       "whole_weight     4177     0.82874215944458  0.49038901823099795   0.002   \n",
       "shucked_weight   4177  0.35936748862820106  0.22196294903322014   0.001   \n",
       "viscera_weight   4177  0.18059360785252604  0.10961425025968445  5.0E-4   \n",
       "shell_weight     4177  0.23883085946851795  0.13920266952238622  0.0015   \n",
       "ring_age         4177    9.933684462532918   3.2241690320681315       1   \n",
       "\n",
       "                     4  \n",
       "summary            max  \n",
       "sex                  M  \n",
       "length           0.815  \n",
       "diameter          0.65  \n",
       "height            1.13  \n",
       "whole_weight    2.8255  \n",
       "shucked_weight   1.488  \n",
       "viscera_weight    0.76  \n",
       "shell_weight     1.005  \n",
       "ring_age            29  "
      ]
     },
     "execution_count": 88,
     "metadata": {},
     "output_type": "execute_result"
    }
   ],
   "source": [
    "#Algo de analisis descriptivo\n",
    "df.describe().toPandas().transpose()"
   ]
  },
  {
   "cell_type": "markdown",
   "metadata": {},
   "source": [
    "#### One hot encoding para la variable sexo"
   ]
  },
  {
   "cell_type": "code",
   "execution_count": 23,
   "metadata": {},
   "outputs": [
    {
     "data": {
      "text/plain": [
       "Row(length=0.455, diameter=0.365, height=0.095, whole_weight=0.514, shucked_weight=0.2245, viscera_weight=0.101, shell_weight=0.15, sex_vector=SparseVector(3, {0: 1.0}), label=15)"
      ]
     },
     "execution_count": 23,
     "metadata": {},
     "output_type": "execute_result"
    }
   ],
   "source": [
    "# One hot encoding de sexo\n",
    "from pyspark.ml.feature import OneHotEncoder, VectorAssembler, StringIndexer\n",
    "\n",
    "stringIndexer = StringIndexer(inputCol=\"sex\", outputCol=\"sex_idx\")\n",
    "model = stringIndexer.fit(df)\n",
    "indexed = model.transform(df)\n",
    "encoder = OneHotEncoder(dropLast=False, inputCol=\"sex_idx\", outputCol=\"sex_vector\")\n",
    "encoded = encoder.transform(indexed)\n",
    "columns_to_drop = [\"sex\", \"sex_idx\"]\n",
    "encoded = encoded.drop(*columns_to_drop).withColumnRenamed(\"ring_age\", \"label\")\n",
    "encoded = encoded['length', 'diameter', 'height', 'whole_weight', 'shucked_weight', 'viscera_weight', 'shell_weight', 'sex_vector', 'label']\n",
    "encoded.head()"
   ]
  },
  {
   "cell_type": "markdown",
   "metadata": {},
   "source": [
    "#### Revisemos la distribucion de los datos"
   ]
  },
  {
   "cell_type": "code",
   "execution_count": 44,
   "metadata": {},
   "outputs": [
    {
     "data": {
      "text/plain": [
       "array([[<matplotlib.axes._subplots.AxesSubplot object at 0x000002580CA69148>,\n",
       "        <matplotlib.axes._subplots.AxesSubplot object at 0x000002580CB25A48>,\n",
       "        <matplotlib.axes._subplots.AxesSubplot object at 0x000002580CC83708>,\n",
       "        <matplotlib.axes._subplots.AxesSubplot object at 0x000002580CCA0488>],\n",
       "       [<matplotlib.axes._subplots.AxesSubplot object at 0x000002580CB42208>,\n",
       "        <matplotlib.axes._subplots.AxesSubplot object at 0x000002580CB6DF48>,\n",
       "        <matplotlib.axes._subplots.AxesSubplot object at 0x000002580CBA3CC8>,\n",
       "        <matplotlib.axes._subplots.AxesSubplot object at 0x000002580CBD9A48>]],\n",
       "      dtype=object)"
      ]
     },
     "execution_count": 44,
     "metadata": {},
     "output_type": "execute_result"
    },
    {
     "data": {
      "image/png": "[encoded data removed]",
      "text/plain": [
       "<Figure size 1440x1440 with 8 Axes>"
      ]
     },
     "metadata": {
      "needs_background": "light"
     },
     "output_type": "display_data"
    }
   ],
   "source": [
    "import pandas as pd\n",
    "import matplotlib.pyplot as plt\n",
    "import seaborn as sns\n",
    "\n",
    "sns.set()\n",
    "%matplotlib inline\n",
    "\n",
    "pdf = df.toPandas()\n",
    "pdf.hist(figsize=(20,20), grid = True, layout = (2,4), bins = 30)"
   ]
  },
  {
   "cell_type": "markdown",
   "metadata": {},
   "source": [
    "#### Parece que Height tiene algunos valores dispersos, procederemos a eliminarlos."
   ]
  },
  {
   "cell_type": "code",
   "execution_count": 76,
   "metadata": {},
   "outputs": [
    {
     "data": {
      "text/html": [
       "<div>\n",
       "<style scoped>\n",
       "    .dataframe tbody tr th:only-of-type {\n",
       "        vertical-align: middle;\n",
       "    }\n",
       "\n",
       "    .dataframe tbody tr th {\n",
       "        vertical-align: top;\n",
       "    }\n",
       "\n",
       "    .dataframe thead th {\n",
       "        text-align: right;\n",
       "    }\n",
       "</style>\n",
       "<table border=\"1\" class=\"dataframe\">\n",
       "  <thead>\n",
       "    <tr style=\"text-align: right;\">\n",
       "      <th></th>\n",
       "      <th>0</th>\n",
       "      <th>1</th>\n",
       "      <th>2</th>\n",
       "      <th>3</th>\n",
       "      <th>4</th>\n",
       "    </tr>\n",
       "  </thead>\n",
       "  <tbody>\n",
       "    <tr>\n",
       "      <th>summary</th>\n",
       "      <td>count</td>\n",
       "      <td>mean</td>\n",
       "      <td>stddev</td>\n",
       "      <td>min</td>\n",
       "      <td>max</td>\n",
       "    </tr>\n",
       "    <tr>\n",
       "      <th>length</th>\n",
       "      <td>4175</td>\n",
       "      <td>0.5239652694610782</td>\n",
       "      <td>0.12008425205170487</td>\n",
       "      <td>0.075</td>\n",
       "      <td>0.815</td>\n",
       "    </tr>\n",
       "    <tr>\n",
       "      <th>diameter</th>\n",
       "      <td>4175</td>\n",
       "      <td>0.40785628742515107</td>\n",
       "      <td>0.09923046477540867</td>\n",
       "      <td>0.055</td>\n",
       "      <td>0.65</td>\n",
       "    </tr>\n",
       "    <tr>\n",
       "      <th>height</th>\n",
       "      <td>4175</td>\n",
       "      <td>0.1391892215568853</td>\n",
       "      <td>0.038489167714794624</td>\n",
       "      <td>0.0</td>\n",
       "      <td>0.25</td>\n",
       "    </tr>\n",
       "    <tr>\n",
       "      <th>whole_weight</th>\n",
       "      <td>4175</td>\n",
       "      <td>0.8284675449101822</td>\n",
       "      <td>0.49002679032410645</td>\n",
       "      <td>0.002</td>\n",
       "      <td>2.8255</td>\n",
       "    </tr>\n",
       "    <tr>\n",
       "      <th>shucked_weight</th>\n",
       "      <td>4175</td>\n",
       "      <td>0.35919485029940024</td>\n",
       "      <td>0.22171345433050457</td>\n",
       "      <td>0.001</td>\n",
       "      <td>1.488</td>\n",
       "    </tr>\n",
       "    <tr>\n",
       "      <th>viscera_weight</th>\n",
       "      <td>4175</td>\n",
       "      <td>0.18053580838323385</td>\n",
       "      <td>0.10953364180153641</td>\n",
       "      <td>5.0E-4</td>\n",
       "      <td>0.76</td>\n",
       "    </tr>\n",
       "    <tr>\n",
       "      <th>shell_weight</th>\n",
       "      <td>4175</td>\n",
       "      <td>0.2387906586826346</td>\n",
       "      <td>0.1391622459524702</td>\n",
       "      <td>0.0015</td>\n",
       "      <td>1.005</td>\n",
       "    </tr>\n",
       "    <tr>\n",
       "      <th>label</th>\n",
       "      <td>4175</td>\n",
       "      <td>9.934131736526947</td>\n",
       "      <td>3.2248022945437045</td>\n",
       "      <td>1</td>\n",
       "      <td>29</td>\n",
       "    </tr>\n",
       "  </tbody>\n",
       "</table>\n",
       "</div>"
      ],
      "text/plain": [
       "                    0                    1                     2       3  \\\n",
       "summary         count                 mean                stddev     min   \n",
       "length           4175   0.5239652694610782   0.12008425205170487   0.075   \n",
       "diameter         4175  0.40785628742515107   0.09923046477540867   0.055   \n",
       "height           4175   0.1391892215568853  0.038489167714794624     0.0   \n",
       "whole_weight     4175   0.8284675449101822   0.49002679032410645   0.002   \n",
       "shucked_weight   4175  0.35919485029940024   0.22171345433050457   0.001   \n",
       "viscera_weight   4175  0.18053580838323385   0.10953364180153641  5.0E-4   \n",
       "shell_weight     4175   0.2387906586826346    0.1391622459524702  0.0015   \n",
       "label            4175    9.934131736526947    3.2248022945437045       1   \n",
       "\n",
       "                     4  \n",
       "summary            max  \n",
       "length           0.815  \n",
       "diameter          0.65  \n",
       "height            0.25  \n",
       "whole_weight    2.8255  \n",
       "shucked_weight   1.488  \n",
       "viscera_weight    0.76  \n",
       "shell_weight     1.005  \n",
       "label               29  "
      ]
     },
     "execution_count": 76,
     "metadata": {},
     "output_type": "execute_result"
    }
   ],
   "source": [
    "encoded = encoded.where(encoded.height < 0.32)\n",
    "encoded.describe().toPandas().transpose()"
   ]
  },
  {
   "cell_type": "code",
   "execution_count": 74,
   "metadata": {},
   "outputs": [
    {
     "name": "stdout",
     "output_type": "stream",
     "text": [
      "Correlation to Ring_Age for  length 0.5567195769296179\n",
      "Correlation to Ring_Age for  diameter 0.5746598513059199\n",
      "Correlation to Ring_Age for  height 0.5574673244580345\n",
      "Correlation to Ring_Age for  whole_weight 0.5403896769238994\n",
      "Correlation to Ring_Age for  shucked_weight 0.4208836579452148\n",
      "Correlation to Ring_Age for  viscera_weight 0.5038192487597699\n",
      "Correlation to Ring_Age for  shell_weight 0.6275740445103176\n"
     ]
    }
   ],
   "source": [
    "#Revisemos la correlacion de las variables numericas con la edad\n",
    "import six\n",
    "\n",
    "for i in encoded.columns:\n",
    "    for t in encoded.dtypes:\n",
    "        if t[0] == i and t[1] == \"double\":\n",
    "            if not( isinstance(encoded.select(i).take(1)[0][0], six.string_types)):\n",
    "                print( \"Correlation to Ring_Age for \", i, encoded.stat.corr('label',i))"
   ]
  },
  {
   "cell_type": "markdown",
   "metadata": {},
   "source": [
    "#### Lo anterior nos indica que hay muy poca relacion entre las variables y la edad, aunque siempre parece ser positiva la variacion es muy baja."
   ]
  },
  {
   "cell_type": "code",
   "execution_count": 93,
   "metadata": {},
   "outputs": [
    {
     "data": {
      "text/plain": [
       "Row(features=DenseVector([0.455, 0.365, 0.095, 0.514, 0.2245, 0.101, 0.15, 1.0, 0.0, 0.0]), label=15)"
      ]
     },
     "execution_count": 93,
     "metadata": {},
     "output_type": "execute_result"
    }
   ],
   "source": [
    "# Vector Ensamblador\n",
    "df_assembler = []\n",
    "df_assembler = VectorAssembler(inputCols=encoded.columns[0:8], outputCol=\"features\")\n",
    "\n",
    "df2 = df_assembler.transform(encoded).select(['features', 'label'])\n",
    "df2.head()"
   ]
  },
  {
   "cell_type": "code",
   "execution_count": 94,
   "metadata": {},
   "outputs": [
    {
     "name": "stdout",
     "output_type": "stream",
     "text": [
      "Size of train Dataset : 3184\n",
      "Size of test Dataset : 991\n"
     ]
    }
   ],
   "source": [
    "# Particion del data set\n",
    "train, test  = df2.randomSplit([0.75, 0.25], 32)\n",
    "\n",
    "print(f\"Size of train Dataset : {train.count()}\" )\n",
    "print(f\"Size of test Dataset : {test.count()}\" )"
   ]
  },
  {
   "cell_type": "markdown",
   "metadata": {},
   "source": [
    "### Regresion Lineal convencional"
   ]
  },
  {
   "cell_type": "code",
   "execution_count": 27,
   "metadata": {},
   "outputs": [],
   "source": [
    "from pyspark.ml.regression import LinearRegression\n",
    "lr = LinearRegression()"
   ]
  },
  {
   "cell_type": "code",
   "execution_count": 97,
   "metadata": {},
   "outputs": [
    {
     "name": "stdout",
     "output_type": "stream",
     "text": [
      "+--------------------+-----+------------------+\n",
      "|            features|label|        prediction|\n",
      "+--------------------+-----+------------------+\n",
      "|[0.11,0.09,0.03,0...|    3| 4.251101885184732|\n",
      "|[0.14,0.105,0.035...|    3| 4.484179099019801|\n",
      "|[0.16,0.11,0.025,...|    3|  4.29887127380917|\n",
      "|[0.165,0.125,0.04...|    4| 5.664802615197367|\n",
      "|[0.18,0.125,0.05,...|    3| 5.904908855023036|\n",
      "|[0.18,0.135,0.08,...|    5|  5.70618610950576|\n",
      "|[0.185,0.13,0.045...|    4| 4.901446078314123|\n",
      "|[0.185,0.135,0.04...|    5| 4.857310784337204|\n",
      "|[0.19,0.13,0.045,...|    5| 4.967596039040098|\n",
      "|[0.2,0.14,0.055,0...|    5| 6.095841261399986|\n",
      "|[0.21,0.15,0.055,...|    4| 5.313666633256244|\n",
      "|[0.22,0.16,0.05,0...|    4| 5.254424928495136|\n",
      "|[0.225,0.165,0.05...|    4|5.3571010261653935|\n",
      "|[0.23,0.18,0.05,0...|    5| 5.535549843980082|\n",
      "|[0.24,0.17,0.05,0...|    5| 5.338191588989412|\n",
      "|[0.245,0.18,0.065...|    4|   6.7028183315523|\n",
      "|[0.245,0.18,0.065...|    4|  5.79261090569959|\n",
      "|[0.245,0.19,0.06,...|    4|5.6689479884294265|\n",
      "|[0.25,0.185,0.065...|    5|5.8126621858586525|\n",
      "|[0.255,0.185,0.06...|    4|  5.79746900868115|\n",
      "+--------------------+-----+------------------+\n",
      "only showing top 20 rows\n",
      "\n"
     ]
    }
   ],
   "source": [
    "# Fit the model, le llamamos lr_model\n",
    "lr_model = lr.fit(train)\n",
    "predictions_df = lr_model.transform(test)\n",
    "predictions_df.show()"
   ]
  },
  {
   "cell_type": "code",
   "execution_count": 98,
   "metadata": {},
   "outputs": [],
   "source": [
    "model_predictions = lr_model.evaluate(test)"
   ]
  },
  {
   "cell_type": "code",
   "execution_count": 99,
   "metadata": {},
   "outputs": [
    {
     "name": "stdout",
     "output_type": "stream",
     "text": [
      "r2: 0.541276\n",
      "MSE: 4.835414\n"
     ]
    }
   ],
   "source": [
    "# valor de R2\n",
    "print(\"r2: %f\" % lr_model.summary.r2)\n",
    "# valor del meanSquaredError\n",
    "print(\"MSE: %f\" % lr_model.summary.meanSquaredError)"
   ]
  },
  {
   "cell_type": "markdown",
   "metadata": {},
   "source": [
    "### Regresion Lineal por medio de Arboles"
   ]
  },
  {
   "cell_type": "code",
   "execution_count": 100,
   "metadata": {},
   "outputs": [],
   "source": [
    "from pyspark.ml.regression import DecisionTreeRegressor\n",
    "dec_tree = DecisionTreeRegressor()\n",
    "dec_tree_model = dec_tree.fit(train)"
   ]
  },
  {
   "cell_type": "code",
   "execution_count": 101,
   "metadata": {},
   "outputs": [
    {
     "data": {
      "text/plain": [
       "SparseVector(10, {0: 0.0003, 1: 0.0684, 2: 0.0088, 4: 0.1469, 5: 0.0027, 6: 0.7438, 8: 0.0291})"
      ]
     },
     "execution_count": 101,
     "metadata": {},
     "output_type": "execute_result"
    }
   ],
   "source": [
    "# Revisemos la importancia de los features\n",
    "dec_tree_model.featureImportances"
   ]
  },
  {
   "cell_type": "markdown",
   "metadata": {},
   "source": [
    "#### Parece que shell weight tiene la mayor relevancia en el resultado"
   ]
  },
  {
   "cell_type": "code",
   "execution_count": 102,
   "metadata": {},
   "outputs": [
    {
     "name": "stdout",
     "output_type": "stream",
     "text": [
      "+--------------------+-----+----------+\n",
      "|            features|label|prediction|\n",
      "+--------------------+-----+----------+\n",
      "|[0.11,0.09,0.03,0...|    3|    4.3875|\n",
      "|[0.14,0.105,0.035...|    3|    4.3875|\n",
      "|[0.16,0.11,0.025,...|    3|    4.3875|\n",
      "|[0.165,0.125,0.04...|    4|    4.3875|\n",
      "|[0.18,0.125,0.05,...|    3|    4.3875|\n",
      "|[0.18,0.135,0.08,...|    5|    4.3875|\n",
      "|[0.185,0.13,0.045...|    4|    4.3875|\n",
      "|[0.185,0.135,0.04...|    5|    4.3875|\n",
      "|[0.19,0.13,0.045,...|    5|    4.3875|\n",
      "|[0.2,0.14,0.055,0...|    5|    4.3875|\n",
      "|[0.21,0.15,0.055,...|    4|    4.3875|\n",
      "|[0.22,0.16,0.05,0...|    4|    4.3875|\n",
      "|[0.225,0.165,0.05...|    4|    4.3875|\n",
      "|[0.23,0.18,0.05,0...|    5|    4.3875|\n",
      "|[0.24,0.17,0.05,0...|    5|    4.3875|\n",
      "|[0.245,0.18,0.065...|    4|    4.3875|\n",
      "|[0.245,0.18,0.065...|    4|    4.3875|\n",
      "|[0.245,0.19,0.06,...|    4|       5.2|\n",
      "|[0.25,0.185,0.065...|    5|    4.3875|\n",
      "|[0.255,0.185,0.06...|    4|    4.3875|\n",
      "+--------------------+-----+----------+\n",
      "only showing top 20 rows\n",
      "\n"
     ]
    }
   ],
   "source": [
    "model_predictions = dec_tree_model.transform(test)\n",
    "model_predictions.show()"
   ]
  },
  {
   "cell_type": "code",
   "execution_count": 103,
   "metadata": {},
   "outputs": [
    {
     "name": "stdout",
     "output_type": "stream",
     "text": [
      "The r-square value of DecisionTreeRegressor is 0.4946412602416632\n",
      "Root Mean Squared Error (RMSE) on test data = 2.2400906866002543\n"
     ]
    }
   ],
   "source": [
    "# Evaluemos el resultado\n",
    "from pyspark.ml.evaluation import RegressionEvaluator\n",
    "\n",
    "# R2 value of the model on test data \n",
    "dt_evaluator = RegressionEvaluator(metricName='r2')\n",
    "dt_r2 = dt_evaluator.evaluate(model_predictions)\n",
    "print(f'The r-square value of DecisionTreeRegressor is {dt_r2}')\n",
    "\n",
    "# RMSE value of the model on test data \n",
    "dt_evaluator.setMetricName(\"rmse\")\n",
    "rmse = dt_evaluator.evaluate(model_predictions)\n",
    "print(\"Root Mean Squared Error (RMSE) on test data = \" + str(rmse))"
   ]
  },
  {
   "cell_type": "markdown",
   "metadata": {},
   "source": [
    "### RandomForestRegressor"
   ]
  },
  {
   "cell_type": "code",
   "execution_count": 104,
   "metadata": {},
   "outputs": [
    {
     "data": {
      "text/plain": [
       "SparseVector(10, {0: 0.0279, 1: 0.0683, 2: 0.2186, 3: 0.1083, 4: 0.0727, 5: 0.0251, 6: 0.4479, 7: 0.0033, 8: 0.0244, 9: 0.0035})"
      ]
     },
     "execution_count": 104,
     "metadata": {},
     "output_type": "execute_result"
    }
   ],
   "source": [
    "from pyspark.ml.regression import RandomForestRegressor\n",
    "rf = RandomForestRegressor()\n",
    "rf_model = rf.fit(train)\n",
    "rf_model.featureImportances"
   ]
  },
  {
   "cell_type": "markdown",
   "metadata": {},
   "source": [
    "#### Hay mas variables importantes"
   ]
  },
  {
   "cell_type": "code",
   "execution_count": 105,
   "metadata": {},
   "outputs": [
    {
     "name": "stdout",
     "output_type": "stream",
     "text": [
      "+--------------------+-----+------------------+\n",
      "|            features|label|        prediction|\n",
      "+--------------------+-----+------------------+\n",
      "|[0.075,0.055,0.01...|    1| 4.429844819532322|\n",
      "|[0.13,0.095,0.035...|    4| 4.429844819532322|\n",
      "|[0.13,0.1,0.03,0....|    3| 4.429844819532322|\n",
      "|[0.135,0.13,0.04,...|    4| 4.429844819532322|\n",
      "|[0.14,0.105,0.035...|    4| 4.429844819532322|\n",
      "|[0.15,0.1,0.025,0...|    2| 4.429844819532322|\n",
      "|[0.155,0.105,0.05...|    4| 4.429844819532322|\n",
      "|[0.155,0.11,0.04,...|    3|4.7427730770985566|\n",
      "|[0.155,0.115,0.02...|    5|4.7427730770985566|\n",
      "|[0.16,0.11,0.025,...|    4| 4.429844819532322|\n",
      "|[0.16,0.12,0.02,0...|    4| 4.429844819532322|\n",
      "|[0.16,0.12,0.035,...|    5| 4.429844819532322|\n",
      "|[0.165,0.11,0.02,...|    4| 4.429844819532322|\n",
      "|[0.165,0.115,0.01...|    4| 4.429844819532322|\n",
      "|[0.165,0.12,0.03,...|    3| 4.429844819532322|\n",
      "|[0.165,0.12,0.05,...|    3| 4.429844819532322|\n",
      "|[0.17,0.105,0.035...|    4| 4.429844819532322|\n",
      "|[0.17,0.125,0.055...|    6| 4.429844819532322|\n",
      "|[0.17,0.13,0.095,...|    4|4.6324799568367245|\n",
      "|[0.175,0.125,0.04...|    4|4.7427730770985566|\n",
      "+--------------------+-----+------------------+\n",
      "only showing top 20 rows\n",
      "\n"
     ]
    }
   ],
   "source": [
    "# Corramos predicciones\n",
    "model_predictions = rf_model.transform(train)\n",
    "model_predictions.show()"
   ]
  },
  {
   "cell_type": "code",
   "execution_count": 106,
   "metadata": {},
   "outputs": [
    {
     "name": "stdout",
     "output_type": "stream",
     "text": [
      "The r-square value of RandomForestRegressor is 0.5426073247696552\n",
      "Root Mean Squared Error (RMSE) on test data = 2.195763481818333\n"
     ]
    }
   ],
   "source": [
    "# R2 value of the model on test data \n",
    "dt_evaluator = RegressionEvaluator(metricName='r2')\n",
    "dt_r2 = dt_evaluator.evaluate(model_predictions)\n",
    "print(f'The r-square value of RandomForestRegressor is {dt_r2}')\n",
    "\n",
    "# RMSE value of the model on test data \n",
    "dt_evaluator.setMetricName(\"rmse\")\n",
    "rmse = dt_evaluator.evaluate(model_predictions)\n",
    "print(\"Root Mean Squared Error (RMSE) on test data = \" + str(rmse))"
   ]
  },
  {
   "cell_type": "markdown",
   "metadata": {},
   "source": [
    "#### El resultado sigue siendo bajo"
   ]
  },
  {
   "cell_type": "markdown",
   "metadata": {},
   "source": [
    "### Gradient-Boosted Tree Regressor"
   ]
  },
  {
   "cell_type": "code",
   "execution_count": 111,
   "metadata": {},
   "outputs": [
    {
     "data": {
      "text/plain": [
       "SparseVector(10, {0: 0.1391, 1: 0.11, 2: 0.1534, 3: 0.1028, 4: 0.1573, 5: 0.1172, 6: 0.1627, 7: 0.0201, 8: 0.0228, 9: 0.0146})"
      ]
     },
     "execution_count": 111,
     "metadata": {},
     "output_type": "execute_result"
    }
   ],
   "source": [
    "from pyspark.ml.regression import GBTRegressor\n",
    "gbt = GBTRegressor(maxIter=100)\n",
    "gbt_model = gbt.fit(train)\n",
    "gbt_model.featureImportances"
   ]
  },
  {
   "cell_type": "code",
   "execution_count": 112,
   "metadata": {},
   "outputs": [
    {
     "name": "stdout",
     "output_type": "stream",
     "text": [
      "+--------------------+-----+-----------------+\n",
      "|            features|label|       prediction|\n",
      "+--------------------+-----+-----------------+\n",
      "|[0.075,0.055,0.01...|    1|4.320610064343759|\n",
      "|[0.13,0.095,0.035...|    4|4.320610064343759|\n",
      "|[0.13,0.1,0.03,0....|    3|4.320610064343759|\n",
      "|[0.135,0.13,0.04,...|    4|4.320610064343759|\n",
      "|[0.14,0.105,0.035...|    4|4.320610064343759|\n",
      "|[0.15,0.1,0.025,0...|    2|4.320610064343759|\n",
      "|[0.155,0.105,0.05...|    4|4.320610064343759|\n",
      "|[0.155,0.11,0.04,...|    3|4.482864613212304|\n",
      "|[0.155,0.115,0.02...|    5|4.482864613212304|\n",
      "|[0.16,0.11,0.025,...|    4|4.320610064343759|\n",
      "|[0.16,0.12,0.02,0...|    4|4.320610064343759|\n",
      "|[0.16,0.12,0.035,...|    5|4.320610064343759|\n",
      "|[0.165,0.11,0.02,...|    4|4.320610064343759|\n",
      "|[0.165,0.115,0.01...|    4|4.320610064343759|\n",
      "|[0.165,0.12,0.03,...|    3|4.320610064343759|\n",
      "|[0.165,0.12,0.05,...|    3|4.320610064343759|\n",
      "|[0.17,0.105,0.035...|    4|4.320610064343759|\n",
      "|[0.17,0.125,0.055...|    6|4.320610064343759|\n",
      "|[0.17,0.13,0.095,...|    4|4.093026775020872|\n",
      "|[0.175,0.125,0.04...|    4|4.482864613212304|\n",
      "+--------------------+-----+-----------------+\n",
      "only showing top 20 rows\n",
      "\n"
     ]
    }
   ],
   "source": [
    "model_predictions = gbt_model.transform(train)\n",
    "model_predictions.show()"
   ]
  },
  {
   "cell_type": "code",
   "execution_count": 115,
   "metadata": {},
   "outputs": [
    {
     "name": "stdout",
     "output_type": "stream",
     "text": [
      "The r-square value of GBR is 0.8386690959709966\n",
      "Root Mean Squared Error (RMSE) on test data = 1.3040665012839867\n",
      "Accuracy on test data = 0.9572179819417985\n"
     ]
    }
   ],
   "source": [
    "# R2 value of the model on test data \n",
    "dt_evaluator = RegressionEvaluator(metricName='r2')\n",
    "dt_r2 = dt_evaluator.evaluate(model_predictions)\n",
    "print(f'The r-square value of GBR is {dt_r2}')\n",
    "\n",
    "# RMSE value of the model on test data \n",
    "dt_evaluator.setMetricName(\"rmse\")\n",
    "rmse = dt_evaluator.evaluate(model_predictions)\n",
    "print(\"Root Mean Squared Error (RMSE) on test data = \" + str(rmse))"
   ]
  },
  {
   "cell_type": "markdown",
   "metadata": {},
   "source": [
    "### Finalmente con el GBT Regressor logramos describir mejor el dataset que con los demás algoritmos"
   ]
  }
 ],
 "metadata": {
  "kernelspec": {
   "display_name": "Python 3",
   "language": "python",
   "name": "python3"
  },
  "language_info": {
   "codemirror_mode": {
    "name": "ipython",
    "version": 3
   },
   "file_extension": ".py",
   "mimetype": "text/x-python",
   "name": "python",
   "nbconvert_exporter": "python",
   "pygments_lexer": "ipython3",
   "version": "3.7.5"
  }
 },
 "nbformat": 4,
 "nbformat_minor": 2
}
