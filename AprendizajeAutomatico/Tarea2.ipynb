{
  "nbformat": 4,
  "nbformat_minor": 0,
  "metadata": {
    "colab": {
      "name": "Tarea2.ipynb",
      "version": "0.3.2",
      "provenance": []
    },
    "kernelspec": {
      "name": "python3",
      "display_name": "Python 3"
    }
  },
  "cells": [
    {
      "cell_type": "markdown",
      "metadata": {
        "id": "TRoSlutZX5GH",
        "colab_type": "text"
      },
      "source": [
        "**Curso Aprendiza Automatico**\n",
        "\n",
        "Prof. Felipe Meza\n",
        "\n",
        "Estudiante: Sergio Castillo <sergio.cs87@yahoo.com>\n",
        "\n",
        "*Tarea 2 - 29 Julio 2019*\n",
        "\n",
        "\n",
        "Micro tutorial de Pandas"
      ]
    },
    {
      "cell_type": "markdown",
      "metadata": {
        "id": "D3li2qOBYFRH",
        "colab_type": "text"
      },
      "source": [
        "Pandas es una librería de Python que facilita el manejo de sets de datos para cualquier propósito, pero es principalmente útil para el procesado de datos para Machine Learning.\n",
        "Se especializa en 2 tipos de estructuras, las series y los data frames, a continuación las series."
      ]
    },
    {
      "cell_type": "code",
      "metadata": {
        "id": "tie6NsTgYhWx",
        "colab_type": "code",
        "colab": {}
      },
      "source": [
        "#Para usar Pandas lo primero que debemos hacer es importar la librería\n",
        "import pandas as pd"
      ],
      "execution_count": 0,
      "outputs": []
    },
    {
      "cell_type": "code",
      "metadata": {
        "id": "qexyO_QDX4j3",
        "colab_type": "code",
        "colab": {
          "base_uri": "https://localhost:8080/",
          "height": 274
        },
        "outputId": "db5be730-ce56-4a18-afb7-7968df906e60"
      },
      "source": [
        "#Una serie podría entenderse como un vector de datos de cualquier tipo, con la versatilidad de que se define y es accedida como un diccionario de datos, por ejemplo:\n",
        "muestras = [20, 20.5, 21.2, 22.8, 24.3, 25.7, 26.1, 27.2, 27.3, 27.5, 26.9, 25.6, 24.3]\n",
        "serie = pd.Series(muestras)\n",
        "print(serie)"
      ],
      "execution_count": 40,
      "outputs": [
        {
          "output_type": "stream",
          "text": [
            "0     20.0\n",
            "1     20.5\n",
            "2     21.2\n",
            "3     22.8\n",
            "4     24.3\n",
            "5     25.7\n",
            "6     26.1\n",
            "7     27.2\n",
            "8     27.3\n",
            "9     27.5\n",
            "10    26.9\n",
            "11    25.6\n",
            "12    24.3\n",
            "dtype: float64\n"
          ],
          "name": "stdout"
        }
      ]
    },
    {
      "cell_type": "code",
      "metadata": {
        "id": "CcnlZjH6ZbRx",
        "colab_type": "code",
        "colab": {
          "base_uri": "https://localhost:8080/",
          "height": 274
        },
        "outputId": "17d75e7a-ca8f-4568-bcce-4795effb400d"
      },
      "source": [
        "#La serie anterior representa un conjunto de medidas de temperatura tomadas cada hora desde las 6am\n",
        "#Notese como Pandas asigna un índica automático a cada valor cuando no le indicamos ninguno\n",
        "#Podemos tomar el mismo set y asignarle índices\n",
        "serie = pd.Series(muestras, index=['06', '07', '08', '09', '10', '11', '12', '13', '14', '15', '16', '17', '18'])\n",
        "serie"
      ],
      "execution_count": 41,
      "outputs": [
        {
          "output_type": "execute_result",
          "data": {
            "text/plain": [
              "06    20.0\n",
              "07    20.5\n",
              "08    21.2\n",
              "09    22.8\n",
              "10    24.3\n",
              "11    25.7\n",
              "12    26.1\n",
              "13    27.2\n",
              "14    27.3\n",
              "15    27.5\n",
              "16    26.9\n",
              "17    25.6\n",
              "18    24.3\n",
              "dtype: float64"
            ]
          },
          "metadata": {
            "tags": []
          },
          "execution_count": 41
        }
      ]
    },
    {
      "cell_type": "code",
      "metadata": {
        "id": "hWkUBov2aTqn",
        "colab_type": "code",
        "colab": {
          "base_uri": "https://localhost:8080/",
          "height": 182
        },
        "outputId": "442214cd-d379-49cd-c619-38eda66c14c7"
      },
      "source": [
        "#Ahora los índices de la serie corresponden a las horas de cada muestra\n",
        "#Pandas automáticamente nos permite obtener ciertos datos estadísticos sobre la serie\n",
        "serie.describe()"
      ],
      "execution_count": 42,
      "outputs": [
        {
          "output_type": "execute_result",
          "data": {
            "text/plain": [
              "count    13.000000\n",
              "mean     24.569231\n",
              "std       2.663764\n",
              "min      20.000000\n",
              "25%      22.800000\n",
              "50%      25.600000\n",
              "75%      26.900000\n",
              "max      27.500000\n",
              "dtype: float64"
            ]
          },
          "metadata": {
            "tags": []
          },
          "execution_count": 42
        }
      ]
    },
    {
      "cell_type": "code",
      "metadata": {
        "id": "C1r3-UwUalGp",
        "colab_type": "code",
        "colab": {
          "base_uri": "https://localhost:8080/",
          "height": 127
        },
        "outputId": "4facce7e-c331-4076-efe1-ecf147deb3a1"
      },
      "source": [
        "#describe() nos indica por defecto la cantidad de datos en la serie, la media, la desviación estándar, el valor mínimo y máximo y percentiles.\n",
        "#también podemos generar series de datos como un diccionario, por ejp:\n",
        "serie2 = pd.Series({'a': 1, 'b': 2, 'c': 3, 'd': 4, 'e': 5})\n",
        "serie2\n"
      ],
      "execution_count": 43,
      "outputs": [
        {
          "output_type": "execute_result",
          "data": {
            "text/plain": [
              "a    1\n",
              "b    2\n",
              "c    3\n",
              "d    4\n",
              "e    5\n",
              "dtype: int64"
            ]
          },
          "metadata": {
            "tags": []
          },
          "execution_count": 43
        }
      ]
    },
    {
      "cell_type": "code",
      "metadata": {
        "id": "bNq6Ky0lbLbP",
        "colab_type": "code",
        "colab": {
          "base_uri": "https://localhost:8080/",
          "height": 146
        },
        "outputId": "02f4c06c-eb41-43d2-f94a-5ffa21c7568a"
      },
      "source": [
        "#De esta forma definimos el índice de cada dato adjunto\n",
        "#Y también podemos generar una serie con un valor por defecto:\n",
        "serie3 = pd.Series(45, index=[0, 1, 2, 3, 4, 5])\n",
        "serie3"
      ],
      "execution_count": 44,
      "outputs": [
        {
          "output_type": "execute_result",
          "data": {
            "text/plain": [
              "0    45\n",
              "1    45\n",
              "2    45\n",
              "3    45\n",
              "4    45\n",
              "5    45\n",
              "dtype: int64"
            ]
          },
          "metadata": {
            "tags": []
          },
          "execution_count": 44
        }
      ]
    },
    {
      "cell_type": "code",
      "metadata": {
        "id": "v3xuDYPrbhRS",
        "colab_type": "code",
        "colab": {
          "base_uri": "https://localhost:8080/",
          "height": 72
        },
        "outputId": "1630e0b5-9d72-4457-caec-7940b26cee6e"
      },
      "source": [
        "#Data Frames\n",
        "#Los data frames podrían verse como matrices de datos de 2 dimensiones, de igual forma cada dimensión es tratado como una serie en sí misma\n",
        "#Antes de generar un data frame, veamos que más nos ofrece pandas:\n",
        "dates = pd.date_range('20190729', periods = 7)\n",
        "dates"
      ],
      "execution_count": 45,
      "outputs": [
        {
          "output_type": "execute_result",
          "data": {
            "text/plain": [
              "DatetimeIndex(['2019-07-29', '2019-07-30', '2019-07-31', '2019-08-01',\n",
              "               '2019-08-02', '2019-08-03', '2019-08-04'],\n",
              "              dtype='datetime64[ns]', freq='D')"
            ]
          },
          "metadata": {
            "tags": []
          },
          "execution_count": 45
        }
      ]
    },
    {
      "cell_type": "code",
      "metadata": {
        "id": "TBhLpDJGcRA0",
        "colab_type": "code",
        "colab": {
          "base_uri": "https://localhost:8080/",
          "height": 269
        },
        "outputId": "b5077654-fb8f-438d-a8c0-331aba73af44"
      },
      "source": [
        "#Como vemos nos permite generar conjuntos de datos muy fácilmente\n",
        "#Ahora combinemos el uso de numpy con Pandas para generar un data frame con datos aleatorios utilizando las fechas generadas anteriormente:\n",
        "import numpy as np\n",
        "df = pd.DataFrame(np.random.rand(7, 3), index=dates, columns=list('ABC'))\n",
        "df"
      ],
      "execution_count": 46,
      "outputs": [
        {
          "output_type": "execute_result",
          "data": {
            "text/html": [
              "<div>\n",
              "<style scoped>\n",
              "    .dataframe tbody tr th:only-of-type {\n",
              "        vertical-align: middle;\n",
              "    }\n",
              "\n",
              "    .dataframe tbody tr th {\n",
              "        vertical-align: top;\n",
              "    }\n",
              "\n",
              "    .dataframe thead th {\n",
              "        text-align: right;\n",
              "    }\n",
              "</style>\n",
              "<table border=\"1\" class=\"dataframe\">\n",
              "  <thead>\n",
              "    <tr style=\"text-align: right;\">\n",
              "      <th></th>\n",
              "      <th>A</th>\n",
              "      <th>B</th>\n",
              "      <th>C</th>\n",
              "    </tr>\n",
              "  </thead>\n",
              "  <tbody>\n",
              "    <tr>\n",
              "      <th>2019-07-29</th>\n",
              "      <td>0.073322</td>\n",
              "      <td>0.711188</td>\n",
              "      <td>0.489435</td>\n",
              "    </tr>\n",
              "    <tr>\n",
              "      <th>2019-07-30</th>\n",
              "      <td>0.974918</td>\n",
              "      <td>0.591762</td>\n",
              "      <td>0.457086</td>\n",
              "    </tr>\n",
              "    <tr>\n",
              "      <th>2019-07-31</th>\n",
              "      <td>0.062658</td>\n",
              "      <td>0.100376</td>\n",
              "      <td>0.303757</td>\n",
              "    </tr>\n",
              "    <tr>\n",
              "      <th>2019-08-01</th>\n",
              "      <td>0.791846</td>\n",
              "      <td>0.788536</td>\n",
              "      <td>0.971096</td>\n",
              "    </tr>\n",
              "    <tr>\n",
              "      <th>2019-08-02</th>\n",
              "      <td>0.650715</td>\n",
              "      <td>0.428786</td>\n",
              "      <td>0.293250</td>\n",
              "    </tr>\n",
              "    <tr>\n",
              "      <th>2019-08-03</th>\n",
              "      <td>0.689960</td>\n",
              "      <td>0.800440</td>\n",
              "      <td>0.011219</td>\n",
              "    </tr>\n",
              "    <tr>\n",
              "      <th>2019-08-04</th>\n",
              "      <td>0.284371</td>\n",
              "      <td>0.911523</td>\n",
              "      <td>0.723287</td>\n",
              "    </tr>\n",
              "  </tbody>\n",
              "</table>\n",
              "</div>"
            ],
            "text/plain": [
              "                   A         B         C\n",
              "2019-07-29  0.073322  0.711188  0.489435\n",
              "2019-07-30  0.974918  0.591762  0.457086\n",
              "2019-07-31  0.062658  0.100376  0.303757\n",
              "2019-08-01  0.791846  0.788536  0.971096\n",
              "2019-08-02  0.650715  0.428786  0.293250\n",
              "2019-08-03  0.689960  0.800440  0.011219\n",
              "2019-08-04  0.284371  0.911523  0.723287"
            ]
          },
          "metadata": {
            "tags": []
          },
          "execution_count": 46
        }
      ]
    },
    {
      "cell_type": "code",
      "metadata": {
        "id": "oTWBuzZ5cxlA",
        "colab_type": "code",
        "colab": {
          "base_uri": "https://localhost:8080/",
          "height": 90
        },
        "outputId": "16775723-0d8f-4e77-9fe6-f890dafddb76"
      },
      "source": [
        "#El ejemplo anterior nos generó un data frame de 7 filas y 3 columnas cuyos índices corresponde a las fechas generadas y con datos aleatorios para cada columna\n",
        "#Si queremos acceder a alguno de esos datos por su índice:\n",
        "df.loc['2019-08-02']"
      ],
      "execution_count": 47,
      "outputs": [
        {
          "output_type": "execute_result",
          "data": {
            "text/plain": [
              "A    0.650715\n",
              "B    0.428786\n",
              "C    0.293250\n",
              "Name: 2019-08-02 00:00:00, dtype: float64"
            ]
          },
          "metadata": {
            "tags": []
          },
          "execution_count": 47
        }
      ]
    },
    {
      "cell_type": "code",
      "metadata": {
        "id": "tiDTMRiOdaGM",
        "colab_type": "code",
        "colab": {
          "base_uri": "https://localhost:8080/",
          "height": 90
        },
        "outputId": "c382939c-3202-4b09-bdf3-61465713d3ab"
      },
      "source": [
        "#A pesar de que tenemos índices definidos pandas mantiene la numeración de cada fila, por lo que también podríamos acceder los datos de esta forma:\n",
        "df.iloc[4]"
      ],
      "execution_count": 48,
      "outputs": [
        {
          "output_type": "execute_result",
          "data": {
            "text/plain": [
              "A    0.650715\n",
              "B    0.428786\n",
              "C    0.293250\n",
              "Name: 2019-08-02 00:00:00, dtype: float64"
            ]
          },
          "metadata": {
            "tags": []
          },
          "execution_count": 48
        }
      ]
    },
    {
      "cell_type": "code",
      "metadata": {
        "id": "oSe7TtJ6dlcg",
        "colab_type": "code",
        "colab": {
          "base_uri": "https://localhost:8080/",
          "height": 54
        },
        "outputId": "3e51612d-c1cd-4169-b8d9-c25725352062"
      },
      "source": [
        "#iloc implica índices del tipo Integer\n",
        "#Si queremos acceder a una columna en específico:\n",
        "print(df.loc['2019-08-02', 'A'])\n",
        "print(df.iloc[4, 0])"
      ],
      "execution_count": 49,
      "outputs": [
        {
          "output_type": "stream",
          "text": [
            "0.6507149632962115\n",
            "0.6507149632962115\n"
          ],
          "name": "stdout"
        }
      ]
    },
    {
      "cell_type": "code",
      "metadata": {
        "id": "UD7qpVPod_Wd",
        "colab_type": "code",
        "colab": {
          "base_uri": "https://localhost:8080/",
          "height": 164
        },
        "outputId": "e3459d57-b5ed-41c5-d0df-8c32e8f70c06"
      },
      "source": [
        "#También podemos extraer columnas enteras del data frame:\n",
        "df['A']"
      ],
      "execution_count": 50,
      "outputs": [
        {
          "output_type": "execute_result",
          "data": {
            "text/plain": [
              "2019-07-29    0.073322\n",
              "2019-07-30    0.974918\n",
              "2019-07-31    0.062658\n",
              "2019-08-01    0.791846\n",
              "2019-08-02    0.650715\n",
              "2019-08-03    0.689960\n",
              "2019-08-04    0.284371\n",
              "Freq: D, Name: A, dtype: float64"
            ]
          },
          "metadata": {
            "tags": []
          },
          "execution_count": 50
        }
      ]
    },
    {
      "cell_type": "code",
      "metadata": {
        "id": "CDFP362OeKF3",
        "colab_type": "code",
        "colab": {
          "base_uri": "https://localhost:8080/",
          "height": 54
        },
        "outputId": "94a6088a-1cf2-4190-c802-6ce6042f82c1"
      },
      "source": [
        "#Nótese como pandas nos trae la columna referenciadas incluyenlo los índices, pero si solo quisiéramos los datos:\n",
        "df['A'].values"
      ],
      "execution_count": 51,
      "outputs": [
        {
          "output_type": "execute_result",
          "data": {
            "text/plain": [
              "array([0.07332183, 0.97491839, 0.06265775, 0.7918465 , 0.65071496,\n",
              "       0.68996014, 0.28437146])"
            ]
          },
          "metadata": {
            "tags": []
          },
          "execution_count": 51
        }
      ]
    },
    {
      "cell_type": "code",
      "metadata": {
        "id": "sWqk3z9Sej3B",
        "colab_type": "code",
        "colab": {
          "base_uri": "https://localhost:8080/",
          "height": 300
        },
        "outputId": "385ac904-2bb3-4c73-fa12-7b9ccd9c2203"
      },
      "source": [
        "#También podemos obtener estadísticas sobre el data frame, pandas lo devuelve columna por columna:\n",
        "df.describe()"
      ],
      "execution_count": 52,
      "outputs": [
        {
          "output_type": "execute_result",
          "data": {
            "text/html": [
              "<div>\n",
              "<style scoped>\n",
              "    .dataframe tbody tr th:only-of-type {\n",
              "        vertical-align: middle;\n",
              "    }\n",
              "\n",
              "    .dataframe tbody tr th {\n",
              "        vertical-align: top;\n",
              "    }\n",
              "\n",
              "    .dataframe thead th {\n",
              "        text-align: right;\n",
              "    }\n",
              "</style>\n",
              "<table border=\"1\" class=\"dataframe\">\n",
              "  <thead>\n",
              "    <tr style=\"text-align: right;\">\n",
              "      <th></th>\n",
              "      <th>A</th>\n",
              "      <th>B</th>\n",
              "      <th>C</th>\n",
              "    </tr>\n",
              "  </thead>\n",
              "  <tbody>\n",
              "    <tr>\n",
              "      <th>count</th>\n",
              "      <td>7.000000</td>\n",
              "      <td>7.000000</td>\n",
              "      <td>7.000000</td>\n",
              "    </tr>\n",
              "    <tr>\n",
              "      <th>mean</th>\n",
              "      <td>0.503970</td>\n",
              "      <td>0.618944</td>\n",
              "      <td>0.464162</td>\n",
              "    </tr>\n",
              "    <tr>\n",
              "      <th>std</th>\n",
              "      <td>0.362682</td>\n",
              "      <td>0.277376</td>\n",
              "      <td>0.312227</td>\n",
              "    </tr>\n",
              "    <tr>\n",
              "      <th>min</th>\n",
              "      <td>0.062658</td>\n",
              "      <td>0.100376</td>\n",
              "      <td>0.011219</td>\n",
              "    </tr>\n",
              "    <tr>\n",
              "      <th>25%</th>\n",
              "      <td>0.178847</td>\n",
              "      <td>0.510274</td>\n",
              "      <td>0.298504</td>\n",
              "    </tr>\n",
              "    <tr>\n",
              "      <th>50%</th>\n",
              "      <td>0.650715</td>\n",
              "      <td>0.711188</td>\n",
              "      <td>0.457086</td>\n",
              "    </tr>\n",
              "    <tr>\n",
              "      <th>75%</th>\n",
              "      <td>0.740903</td>\n",
              "      <td>0.794488</td>\n",
              "      <td>0.606361</td>\n",
              "    </tr>\n",
              "    <tr>\n",
              "      <th>max</th>\n",
              "      <td>0.974918</td>\n",
              "      <td>0.911523</td>\n",
              "      <td>0.971096</td>\n",
              "    </tr>\n",
              "  </tbody>\n",
              "</table>\n",
              "</div>"
            ],
            "text/plain": [
              "              A         B         C\n",
              "count  7.000000  7.000000  7.000000\n",
              "mean   0.503970  0.618944  0.464162\n",
              "std    0.362682  0.277376  0.312227\n",
              "min    0.062658  0.100376  0.011219\n",
              "25%    0.178847  0.510274  0.298504\n",
              "50%    0.650715  0.711188  0.457086\n",
              "75%    0.740903  0.794488  0.606361\n",
              "max    0.974918  0.911523  0.971096"
            ]
          },
          "metadata": {
            "tags": []
          },
          "execution_count": 52
        }
      ]
    },
    {
      "cell_type": "code",
      "metadata": {
        "id": "ZkWWd1OserOa",
        "colab_type": "code",
        "colab": {
          "base_uri": "https://localhost:8080/",
          "height": 164
        },
        "outputId": "9d34667c-2bb4-4dc4-b8c1-7fa7f84f5467"
      },
      "source": [
        "#De esta forma podemos ejecutar operaciones sobre los datos más rápidamente tratabdo las columnas cual si fueran series de datos independientes:\n",
        "dfSuma = df['A'].add(df['B'])\n",
        "dfSuma"
      ],
      "execution_count": 53,
      "outputs": [
        {
          "output_type": "execute_result",
          "data": {
            "text/plain": [
              "2019-07-29    0.784510\n",
              "2019-07-30    1.566681\n",
              "2019-07-31    0.163034\n",
              "2019-08-01    1.580382\n",
              "2019-08-02    1.079501\n",
              "2019-08-03    1.490401\n",
              "2019-08-04    1.195894\n",
              "Freq: D, dtype: float64"
            ]
          },
          "metadata": {
            "tags": []
          },
          "execution_count": 53
        }
      ]
    },
    {
      "cell_type": "code",
      "metadata": {
        "id": "_KpAlldpfYXc",
        "colab_type": "code",
        "colab": {
          "base_uri": "https://localhost:8080/",
          "height": 164
        },
        "outputId": "5b12bdd2-0b6c-48f1-84a3-42f32d1f868b"
      },
      "source": [
        "dfOtro = df['A'] * 5+2\n",
        "dfOtro"
      ],
      "execution_count": 54,
      "outputs": [
        {
          "output_type": "execute_result",
          "data": {
            "text/plain": [
              "2019-07-29    2.366609\n",
              "2019-07-30    6.874592\n",
              "2019-07-31    2.313289\n",
              "2019-08-01    5.959232\n",
              "2019-08-02    5.253575\n",
              "2019-08-03    5.449801\n",
              "2019-08-04    3.421857\n",
              "Freq: D, Name: A, dtype: float64"
            ]
          },
          "metadata": {
            "tags": []
          },
          "execution_count": 54
        }
      ]
    },
    {
      "cell_type": "code",
      "metadata": {
        "id": "ELkbmfChgHG7",
        "colab_type": "code",
        "colab": {
          "base_uri": "https://localhost:8080/",
          "height": 269
        },
        "outputId": "21635033-280f-4ea4-b32d-ee9b9fef08ce"
      },
      "source": [
        "#También podemos pre-procesar los datos de acuerdo a nuestras reglas, por ejemplo reemplazar todos los valores menores a 0.5 con 0.5\n",
        "df[df < 0.5] = 0.5\n",
        "df"
      ],
      "execution_count": 55,
      "outputs": [
        {
          "output_type": "execute_result",
          "data": {
            "text/html": [
              "<div>\n",
              "<style scoped>\n",
              "    .dataframe tbody tr th:only-of-type {\n",
              "        vertical-align: middle;\n",
              "    }\n",
              "\n",
              "    .dataframe tbody tr th {\n",
              "        vertical-align: top;\n",
              "    }\n",
              "\n",
              "    .dataframe thead th {\n",
              "        text-align: right;\n",
              "    }\n",
              "</style>\n",
              "<table border=\"1\" class=\"dataframe\">\n",
              "  <thead>\n",
              "    <tr style=\"text-align: right;\">\n",
              "      <th></th>\n",
              "      <th>A</th>\n",
              "      <th>B</th>\n",
              "      <th>C</th>\n",
              "    </tr>\n",
              "  </thead>\n",
              "  <tbody>\n",
              "    <tr>\n",
              "      <th>2019-07-29</th>\n",
              "      <td>0.500000</td>\n",
              "      <td>0.711188</td>\n",
              "      <td>0.500000</td>\n",
              "    </tr>\n",
              "    <tr>\n",
              "      <th>2019-07-30</th>\n",
              "      <td>0.974918</td>\n",
              "      <td>0.591762</td>\n",
              "      <td>0.500000</td>\n",
              "    </tr>\n",
              "    <tr>\n",
              "      <th>2019-07-31</th>\n",
              "      <td>0.500000</td>\n",
              "      <td>0.500000</td>\n",
              "      <td>0.500000</td>\n",
              "    </tr>\n",
              "    <tr>\n",
              "      <th>2019-08-01</th>\n",
              "      <td>0.791846</td>\n",
              "      <td>0.788536</td>\n",
              "      <td>0.971096</td>\n",
              "    </tr>\n",
              "    <tr>\n",
              "      <th>2019-08-02</th>\n",
              "      <td>0.650715</td>\n",
              "      <td>0.500000</td>\n",
              "      <td>0.500000</td>\n",
              "    </tr>\n",
              "    <tr>\n",
              "      <th>2019-08-03</th>\n",
              "      <td>0.689960</td>\n",
              "      <td>0.800440</td>\n",
              "      <td>0.500000</td>\n",
              "    </tr>\n",
              "    <tr>\n",
              "      <th>2019-08-04</th>\n",
              "      <td>0.500000</td>\n",
              "      <td>0.911523</td>\n",
              "      <td>0.723287</td>\n",
              "    </tr>\n",
              "  </tbody>\n",
              "</table>\n",
              "</div>"
            ],
            "text/plain": [
              "                   A         B         C\n",
              "2019-07-29  0.500000  0.711188  0.500000\n",
              "2019-07-30  0.974918  0.591762  0.500000\n",
              "2019-07-31  0.500000  0.500000  0.500000\n",
              "2019-08-01  0.791846  0.788536  0.971096\n",
              "2019-08-02  0.650715  0.500000  0.500000\n",
              "2019-08-03  0.689960  0.800440  0.500000\n",
              "2019-08-04  0.500000  0.911523  0.723287"
            ]
          },
          "metadata": {
            "tags": []
          },
          "execution_count": 55
        }
      ]
    },
    {
      "cell_type": "code",
      "metadata": {
        "id": "d8EHHmy2hJdK",
        "colab_type": "code",
        "colab": {
          "base_uri": "https://localhost:8080/",
          "height": 269
        },
        "outputId": "2ae75b72-bbef-4957-8067-ed6a8a49754b"
      },
      "source": [
        "#Reemplazar valores mayores a 0.7 en columna A por NaN\n",
        "df['A'][df['A'] > 0.7] = np.NaN\n",
        "df"
      ],
      "execution_count": 56,
      "outputs": [
        {
          "output_type": "execute_result",
          "data": {
            "text/html": [
              "<div>\n",
              "<style scoped>\n",
              "    .dataframe tbody tr th:only-of-type {\n",
              "        vertical-align: middle;\n",
              "    }\n",
              "\n",
              "    .dataframe tbody tr th {\n",
              "        vertical-align: top;\n",
              "    }\n",
              "\n",
              "    .dataframe thead th {\n",
              "        text-align: right;\n",
              "    }\n",
              "</style>\n",
              "<table border=\"1\" class=\"dataframe\">\n",
              "  <thead>\n",
              "    <tr style=\"text-align: right;\">\n",
              "      <th></th>\n",
              "      <th>A</th>\n",
              "      <th>B</th>\n",
              "      <th>C</th>\n",
              "    </tr>\n",
              "  </thead>\n",
              "  <tbody>\n",
              "    <tr>\n",
              "      <th>2019-07-29</th>\n",
              "      <td>0.500000</td>\n",
              "      <td>0.711188</td>\n",
              "      <td>0.500000</td>\n",
              "    </tr>\n",
              "    <tr>\n",
              "      <th>2019-07-30</th>\n",
              "      <td>NaN</td>\n",
              "      <td>0.591762</td>\n",
              "      <td>0.500000</td>\n",
              "    </tr>\n",
              "    <tr>\n",
              "      <th>2019-07-31</th>\n",
              "      <td>0.500000</td>\n",
              "      <td>0.500000</td>\n",
              "      <td>0.500000</td>\n",
              "    </tr>\n",
              "    <tr>\n",
              "      <th>2019-08-01</th>\n",
              "      <td>NaN</td>\n",
              "      <td>0.788536</td>\n",
              "      <td>0.971096</td>\n",
              "    </tr>\n",
              "    <tr>\n",
              "      <th>2019-08-02</th>\n",
              "      <td>0.650715</td>\n",
              "      <td>0.500000</td>\n",
              "      <td>0.500000</td>\n",
              "    </tr>\n",
              "    <tr>\n",
              "      <th>2019-08-03</th>\n",
              "      <td>0.689960</td>\n",
              "      <td>0.800440</td>\n",
              "      <td>0.500000</td>\n",
              "    </tr>\n",
              "    <tr>\n",
              "      <th>2019-08-04</th>\n",
              "      <td>0.500000</td>\n",
              "      <td>0.911523</td>\n",
              "      <td>0.723287</td>\n",
              "    </tr>\n",
              "  </tbody>\n",
              "</table>\n",
              "</div>"
            ],
            "text/plain": [
              "                   A         B         C\n",
              "2019-07-29  0.500000  0.711188  0.500000\n",
              "2019-07-30       NaN  0.591762  0.500000\n",
              "2019-07-31  0.500000  0.500000  0.500000\n",
              "2019-08-01       NaN  0.788536  0.971096\n",
              "2019-08-02  0.650715  0.500000  0.500000\n",
              "2019-08-03  0.689960  0.800440  0.500000\n",
              "2019-08-04  0.500000  0.911523  0.723287"
            ]
          },
          "metadata": {
            "tags": []
          },
          "execution_count": 56
        }
      ]
    },
    {
      "cell_type": "code",
      "metadata": {
        "id": "B7Wdb8fFhuVp",
        "colab_type": "code",
        "colab": {
          "base_uri": "https://localhost:8080/",
          "height": 90
        },
        "outputId": "a5ef18e8-7133-447b-b7aa-179a12fc4a7f"
      },
      "source": [
        "#Suma de las columnas\n",
        "print(df.sum())"
      ],
      "execution_count": 59,
      "outputs": [
        {
          "output_type": "stream",
          "text": [
            "A    2.840675\n",
            "B    4.803449\n",
            "C    4.194383\n",
            "dtype: float64\n"
          ],
          "name": "stdout"
        }
      ]
    },
    {
      "cell_type": "code",
      "metadata": {
        "id": "2Moc8WUxi_o7",
        "colab_type": "code",
        "colab": {
          "base_uri": "https://localhost:8080/",
          "height": 127
        },
        "outputId": "48dd67c6-0cab-4e1f-b2fb-23067e3d53f7"
      },
      "source": [
        "#Finalmente, pandas también nos permite ojear los datos, por ejemplo el inicio del data set o el final:\n",
        "print(df.head(2))  #Ver los primeros 3 datos, si no se pasa el argumento por defecto devuelve los primeros 5\n",
        "print(df.tail(2))"
      ],
      "execution_count": 62,
      "outputs": [
        {
          "output_type": "stream",
          "text": [
            "              A         B    C\n",
            "2019-07-29  0.5  0.711188  0.5\n",
            "2019-07-30  NaN  0.591762  0.5\n",
            "                  A         B         C\n",
            "2019-08-03  0.68996  0.800440  0.500000\n",
            "2019-08-04  0.50000  0.911523  0.723287\n"
          ],
          "name": "stdout"
        }
      ]
    }
  ]
}