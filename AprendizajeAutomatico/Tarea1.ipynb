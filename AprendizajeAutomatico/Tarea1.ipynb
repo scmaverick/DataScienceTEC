{
  "nbformat": 4,
  "nbformat_minor": 0,
  "metadata": {
    "colab": {
      "name": "Tarea1.ipynb",
      "version": "0.3.2",
      "provenance": []
    },
    "kernelspec": {
      "name": "python3",
      "display_name": "Python 3"
    }
  },
  "cells": [
    {
      "cell_type": "markdown",
      "metadata": {
        "id": "EhBGBjXLxura",
        "colab_type": "text"
      },
      "source": [
        "**Curso Aprendiza Automatico**\n",
        "\n",
        "Prof. Felipe Meza\n",
        "\n",
        "Estudiante: Sergio Castillo <sergio.cs87@yahoo.com>\n",
        "\n",
        "*Tarea 1 - 22 Julio 2019*\n",
        "\n",
        "\n",
        "Estandarizacion y normalizacion de conjunto de datos"
      ]
    },
    {
      "cell_type": "code",
      "metadata": {
        "id": "Is5AMR7lw5nv",
        "colab_type": "code",
        "colab": {
          "base_uri": "https://localhost:8080/",
          "height": 54
        },
        "outputId": "0a343e2a-a323-4a78-d457-bd9f71fbb79a"
      },
      "source": [
        "#Inicializaciones base\n",
        "!pip install torch\n",
        "import torch as torch\n",
        "import numpy as np\n",
        "import matplotlib as mpl\n",
        "import sklearn as skl\n",
        "import pandas as pd"
      ],
      "execution_count": 7,
      "outputs": [
        {
          "output_type": "stream",
          "text": [
            "Requirement already satisfied: torch in /usr/local/lib/python3.6/dist-packages (1.1.0)\n",
            "Requirement already satisfied: numpy in /usr/local/lib/python3.6/dist-packages (from torch) (1.16.4)\n"
          ],
          "name": "stdout"
        }
      ]
    },
    {
      "cell_type": "code",
      "metadata": {
        "id": "R98yng9iywbZ",
        "colab_type": "code",
        "colab": {
          "base_uri": "https://localhost:8080/",
          "height": 300
        },
        "outputId": "ee0c3c87-de87-4389-d57f-cea85d33ca47"
      },
      "source": [
        "train = pd.read_csv('https://raw.githubusercontent.com/fmezacr/DataScienceTEC/master/Clase1/daily-min-temperatures.csv')\n",
        "train.describe()"
      ],
      "execution_count": 70,
      "outputs": [
        {
          "output_type": "execute_result",
          "data": {
            "text/html": [
              "<div>\n",
              "<style scoped>\n",
              "    .dataframe tbody tr th:only-of-type {\n",
              "        vertical-align: middle;\n",
              "    }\n",
              "\n",
              "    .dataframe tbody tr th {\n",
              "        vertical-align: top;\n",
              "    }\n",
              "\n",
              "    .dataframe thead th {\n",
              "        text-align: right;\n",
              "    }\n",
              "</style>\n",
              "<table border=\"1\" class=\"dataframe\">\n",
              "  <thead>\n",
              "    <tr style=\"text-align: right;\">\n",
              "      <th></th>\n",
              "      <th>Temp</th>\n",
              "    </tr>\n",
              "  </thead>\n",
              "  <tbody>\n",
              "    <tr>\n",
              "      <th>count</th>\n",
              "      <td>3650.000000</td>\n",
              "    </tr>\n",
              "    <tr>\n",
              "      <th>mean</th>\n",
              "      <td>11.177753</td>\n",
              "    </tr>\n",
              "    <tr>\n",
              "      <th>std</th>\n",
              "      <td>4.071837</td>\n",
              "    </tr>\n",
              "    <tr>\n",
              "      <th>min</th>\n",
              "      <td>0.000000</td>\n",
              "    </tr>\n",
              "    <tr>\n",
              "      <th>25%</th>\n",
              "      <td>8.300000</td>\n",
              "    </tr>\n",
              "    <tr>\n",
              "      <th>50%</th>\n",
              "      <td>11.000000</td>\n",
              "    </tr>\n",
              "    <tr>\n",
              "      <th>75%</th>\n",
              "      <td>14.000000</td>\n",
              "    </tr>\n",
              "    <tr>\n",
              "      <th>max</th>\n",
              "      <td>26.300000</td>\n",
              "    </tr>\n",
              "  </tbody>\n",
              "</table>\n",
              "</div>"
            ],
            "text/plain": [
              "              Temp\n",
              "count  3650.000000\n",
              "mean     11.177753\n",
              "std       4.071837\n",
              "min       0.000000\n",
              "25%       8.300000\n",
              "50%      11.000000\n",
              "75%      14.000000\n",
              "max      26.300000"
            ]
          },
          "metadata": {
            "tags": []
          },
          "execution_count": 70
        }
      ]
    },
    {
      "cell_type": "code",
      "metadata": {
        "id": "sn4_EN9v6q_3",
        "colab_type": "code",
        "colab": {}
      },
      "source": [
        "#Agregamos las nuevas columnas para los valores normales y estandares\n",
        "train['norm_manual'] = 0\n",
        "train['std_manual'] = 0"
      ],
      "execution_count": 0,
      "outputs": []
    },
    {
      "cell_type": "code",
      "metadata": {
        "id": "hwyfAKsC813U",
        "colab_type": "code",
        "colab": {
          "base_uri": "https://localhost:8080/",
          "height": 127
        },
        "outputId": "7ac5d8e2-d5d8-46d2-dde9-6a3c4d9ed8c6"
      },
      "source": [
        "#Procedemos a estandarizar y normalizar con calculos manuales aplicando las formulas\n",
        "delta = train.Temp.max() - train.Temp.min()\n",
        "train.loc[0, 'norm_manual'] = 123\n",
        "train.loc[0]\n",
        "for i in range(train.count().Temp):\n",
        "  train.loc[i, 'norm_manual'] = (train.Temp[i] - train.Temp.min()) / delta\n",
        "  train.loc[i, 'std_manual'] = (train.Temp[i] - train.Temp.mean()) / train.Temp.std()\n",
        "  \n",
        "print(train.iloc[0:5])"
      ],
      "execution_count": 73,
      "outputs": [
        {
          "output_type": "stream",
          "text": [
            "         Date  Temp  norm_manual  std_manual\n",
            "0  1981-01-01  20.7     0.787072    2.338563\n",
            "1  1981-01-02  17.9     0.680608    1.650913\n",
            "2  1981-01-03  18.8     0.714829    1.871943\n",
            "3  1981-01-04  14.6     0.555133    0.840467\n",
            "4  1981-01-05  15.8     0.600760    1.135175\n"
          ],
          "name": "stdout"
        }
      ]
    },
    {
      "cell_type": "code",
      "metadata": {
        "id": "nYYNTEDgAorA",
        "colab_type": "code",
        "colab": {
          "base_uri": "https://localhost:8080/",
          "height": 72
        },
        "outputId": "97b99df7-5e21-4fc1-8ad1-e5fb1a5f7e01"
      },
      "source": [
        "#Ahora estandarizamos y normalizamos de forma automatica usando scikit learn\n",
        "from sklearn import preprocessing\n",
        "x_array = np.array(train['Temp'])\n",
        "print(x_array)\n",
        "normalized_X = preprocessing.normalize([x_array], norm='max')\n",
        "print(normalized_X)\n",
        "\n",
        "standardized_X = preprocessing.scale(x_array)\n",
        "print(standardized_X)"
      ],
      "execution_count": 77,
      "outputs": [
        {
          "output_type": "stream",
          "text": [
            "[20.7 17.9 18.8 ... 13.5 15.7 13. ]\n",
            "[[0.78707224 0.68060837 0.7148289  ... 0.51330798 0.59695817 0.49429658]]\n",
            "[2.33888328 1.65113873 1.87219948 ... 0.5703973  1.11076801 0.44758577]\n"
          ],
          "name": "stdout"
        }
      ]
    }
  ]
}